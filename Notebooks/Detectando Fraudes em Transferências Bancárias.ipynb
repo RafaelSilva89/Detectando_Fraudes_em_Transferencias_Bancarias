{
 "cells": [
  {
   "cell_type": "markdown",
   "id": "d36a7894",
   "metadata": {},
   "source": [
    "# <font color='red'> 0 - ENTENDIMENTO DO NEGÓCIO"
   ]
  },
  {
   "cell_type": "markdown",
   "id": "ec80c958",
   "metadata": {},
   "source": [
    "### <font color='#F37126'> DESCRIÇÃO DO NEGÓCIO"
   ]
  },
  {
   "cell_type": "markdown",
   "id": "503174c9",
   "metadata": {},
   "source": [
    "- Esse conjunto de dados fictício possui transações de transferências entre contas de uma mesma Instituição Financeira."
   ]
  },
  {
   "cell_type": "markdown",
   "id": "34c55b6a",
   "metadata": {
    "ExecuteTime": {
     "end_time": "2022-09-28T13:34:56.396894Z",
     "start_time": "2022-09-28T13:34:56.375664Z"
    }
   },
   "source": [
    "<font color='green'> **Objetivo:**\n",
    "- Construir uma máquina preditiva de detecção de transferências fraudulentas."
   ]
  },
  {
   "cell_type": "markdown",
   "id": "23e26467",
   "metadata": {},
   "source": [
    "<font color='green'> **O contexto:**\n",
    "\n",
    "- Neste conjunto de dados fictício possui transações de transferências entre contas de uma mesma Instituição Financeira. São mais de 200 mil registros de transferências, sendo 490 Fraudulentas, ou seja, não foram realizadas pelo dono da conta corrente. \n",
    "- Temos 28 variáveis explicativas e a variável Classe é o Target e assume o valor 1 em caso de fraude e 0 em caso contrário.\n",
    "- Golpe em dados bancários pela internet cresceu 43% no Brasil.\n",
    "\n",
    "Fonte: https://economia.ig.com.br/2020-07-28/golpe-em-dados-bancarios-pela-internet-cresceu-43-no-brasil-saiba-se-proteger.html"
   ]
  },
  {
   "cell_type": "markdown",
   "id": "6cb66905",
   "metadata": {},
   "source": [
    "<font color='green'> **Causa raiz do problema:**\n",
    "- A falta de segurança no acesso às contas bancárias pela internet, combinada com a falta de informações e educação financeira dos clientes, pode facilitar a ação de golpistas que realizam transferências fraudulentas."
   ]
  },
  {
   "cell_type": "markdown",
   "id": "2ffbd8d8",
   "metadata": {
    "ExecuteTime": {
     "end_time": "2022-09-28T11:20:49.827979Z",
     "start_time": "2022-09-28T11:20:49.803980Z"
    }
   },
   "source": [
    "<font color='green'> **Stakeholder:**\n",
    "- Instituição Financeira responsável pelos dados e seus clientes."
   ]
  },
  {
   "cell_type": "markdown",
   "id": "c50296c2",
   "metadata": {},
   "source": [
    "<font color='green'> **O formato da solução:**\n",
    "- Granularidade\n",
    "    - Transações de transferências entre contas de uma mesma Instituição Financeira.\n",
    "- Tipo do problema\n",
    "    - Problema de classificação binária (fraude x não fraude).\n",
    "- Potenciais métodos\n",
    "    - Algoritmos de classificação, como Regressão Logística, Árvore de Decisão, Random Forest, XGBoost, Rede Neural, entre outros.\n",
    "- Formato da entrega\n",
    "    - Modelo preditivo pronto para ser integrado ao sistema de detecção de fraudes da Instituição Financeira, relatório detalhando as análises e descobertas, incluindo os principais fatores associados às transações fraudulentas e suas respectivas importâncias.\n",
    "\n",
    "**Resumo:** O objetivo deste projeto é desenvolver um modelo preditivo para detectar transações fraudulentas em uma Instituição Financeira, utilizando técnicas de ciência de dados. O problema de classificação binária será abordado por meio de algoritmos de classificação e o formato de entrega incluirá o modelo preditivo e um relatório detalhando as análises e descobertas. A falta de segurança no acesso às contas bancárias pela internet combinada com a falta de informações e educação financeira dos clientes são as principais causas do problema, que impacta tanto a Instituição Financeira quanto seus clientes."
   ]
  },
  {
   "cell_type": "markdown",
   "id": "c82a1f7a",
   "metadata": {},
   "source": [
    "![](https://media4.giphy.com/media/RDZo7znAdn2u7sAcWH/giphy.gif)"
   ]
  },
  {
   "cell_type": "markdown",
   "id": "288076b0",
   "metadata": {},
   "source": [
    "### <font color='#F37126'> PLANEJAMENTO DA SOLUÇÃO"
   ]
  },
  {
   "cell_type": "markdown",
   "id": "45421aa0",
   "metadata": {},
   "source": [
    "**O pipeline ideal para ciência de dados depende do contexto específico de cada projeto e da organização em que o trabalho está sendo realizado.**\n",
    "\n",
    "<font color='red'> **O planejamento da solução para este projeto se baseia nas seguintes etapas:**"
   ]
  },
  {
   "cell_type": "markdown",
   "id": "262865ba",
   "metadata": {
    "ExecuteTime": {
     "end_time": "2023-03-07T13:36:48.917209Z",
     "start_time": "2023-03-07T13:36:48.902221Z"
    }
   },
   "source": [
    "0. **ENTENDIMENTO DO NEGÓCIO**\n",
    "<p>Definição do problema: É importante definir claramente qual é o problema a ser resolvido ou a pergunta a ser respondida. É preciso entender o objetivo do projeto e a relevância do problema.</p>\n",
    "\n",
    "    - Descrição do negócio\n",
    "    - Planejamento da solução\n",
    "\n",
    "\n",
    "1. **IMPORTANDO AS BIBLIOTECAS**\n",
    "<p>Importação de bibliotecas: Nesta etapa, as bibliotecas necessárias para o desenvolvimento do modelo de machine learning são importadas. Isso inclui bibliotecas para manipulação de dados, visualização, modelagem e avaliação.</p>\n",
    "\n",
    "\n",
    "2. **COLETA DOS DADOS**\n",
    "<p>Coleta de dados: Nesta etapa, os dados são coletados a partir de diversas fontes, como bases de dados, APIs, arquivos de texto, imagens, etc.</p>\n",
    "\n",
    "\n",
    "3. **FUNÇÕES AUXILIARES**\n",
    "<p>Funções auxiliares: Nesta etapa, são criadas funções que serão utilizadas ao longo do projeto para realizar tarefas específicas, como limpeza de dados, visualização de gráficos, pré-processamento, entre outros.</p>\n",
    "\n",
    "\n",
    "4. **ANÁLISE EXPLORATÓRIA DOS DADOS**\n",
    "<p>Análise exploratória de dados: Nesta etapa, os dados são analisados para identificar possíveis padrões, tendências, correlações e informações relevantes que possam auxiliar na construção do modelo de machine learning. É importante entender os dados coletados, avaliar a qualidade dos dados e identificar quaisquer problemas ou limitações.</p>\n",
    "\n",
    "    - **Passo 1:** Análise Descritiva dos Dados\n",
    "        - Esta etapa consiste na descrição estatística dos dados coletados, como média, mediana, desvio padrão, entre outros.\n",
    "    - **Passo 2:** Exploração de Dados\n",
    "        - Nesta etapa, os dados são visualizados e analisados graficamente para identificar padrões e relações entre as variáveis.\n",
    "    \n",
    "    \n",
    "5. **PRÉ-PROCESSAMENTO**\n",
    "<p>Preparação de dados ou Pré-processamento de dados: Nesta etapa, os dados são limpos, transformados e preparados para serem utilizados no modelo de machine learning. Isto inclui tarefas como normalização, codificação, preenchimento de valores ausentes, remoção de outliers, etc.</p>\n",
    "<p>Divisão dos dados em conjuntos de treinamento e teste: Nesta etapa, os dados são divididos em conjuntos de treinamento e teste para avaliar o desempenho do modelo.</p>\n",
    "    \n",
    " \n",
    "6. **TREINAMENTO ALGORITMOS DE MACHINE LEARNING**\n",
    "<p>Modelagem ou Seleção do modelo: Nesta etapa, um modelo de machine learning é escolhido com base na tarefa a ser realizada e nos dados disponíveis.</p>\n",
    "<p>Treinamento do modelo: Nesta etapa, o modelo é treinado utilizando o conjunto de treinamento.</p>\n",
    "    \n",
    "    \n",
    "7. **AJUSTE FINO DE HIPERPARÂMETROS**\n",
    "<p>Avaliação de modelo: Nesta etapa, o modelo é avaliado utilizando o conjunto de teste para verificar a sua capacidade de generalização para dados não vistos durante o treinamento.</p>\n",
    "\n",
    "    \n",
    "8. **AVALIAÇÃO DO ALGORITMO**\n",
    "<p>Avaliação do modelo: Nesta etapa, o desempenho do modelo é avaliado utilizando métricas adequadas para o tipo de problema e modelo utilizado, como acurácia, precisão, recall, F1-score, entre outras.</p>\n",
    "\n",
    "\n",
    "9. **IMPLEMENTAR O MODELO PARA A PRODUÇÃO**\n",
    "<p>Implantação: Nesta etapa, o modelo é implantado em um ambiente de produção para utilização em situações reais para resolver o problema.</p>\n",
    "\n",
    "\n",
    "10. **INSIGHTS**\n",
    "<p>Nesta etapa, são identificadas as principais descobertas e conclusões do projeto.</p>\n",
    "\n",
    "\n",
    "11. **PRÓXIMOS PASSOS**\n",
    "<p>Nesta etapa, são definidos os próximos passos a serem tomados com base nos resultados obtidos e nos insights identificados. Isso pode incluir melhorias no modelo existente, coleta de mais dados, exploração de diferentes modelos, entre outros.</p>"
   ]
  },
  {
   "cell_type": "markdown",
   "id": "ee9e5edf",
   "metadata": {},
   "source": [
    "# <font color='red'> 1 - IMPORTANDO AS BIBLIOTECAS"
   ]
  },
  {
   "cell_type": "code",
   "execution_count": 1,
   "id": "3ebcd3c5",
   "metadata": {
    "ExecuteTime": {
     "end_time": "2023-05-18T15:34:34.255404Z",
     "start_time": "2023-05-18T15:34:25.358095Z"
    }
   },
   "outputs": [],
   "source": [
    "# Biblioteca para medir tempo de execução de um trecho de código\n",
    "import time\n",
    "# Biblioteca para realizar interações com o sistema operacional\n",
    "import os\n",
    "# Biblioteca para manipulação de dados em formato de tabela\n",
    "import pandas            as pd\n",
    "# Biblioteca para trabalhar com arrays multidimensionais e realizar operações matemáticas\n",
    "import numpy             as np\n",
    "# Biblioteca para visualização de gráficos estáticos\n",
    "import matplotlib.pyplot as plt\n",
    "# Biblioteca para visualização de gráficos estáticos e dinâmicos mais elaborados\n",
    "import seaborn           as sns\n",
    "# Biblioteca para visualização de gráficos dinâmicos mais elaborados\n",
    "import plotly.express    as px\n",
    "# Biblioteca para ignorar avisos e alertas indesejados\n",
    "import warnings\n",
    "warnings.filterwarnings('ignore', category=DeprecationWarning)\n",
    "\n",
    "\n",
    "# Biblioteca para salvar modelos treinados em disco\n",
    "import joblib\n",
    "\n",
    "# Confiração no pandas\n",
    "pd.set_option('display.max_rows', 200)\n",
    "pd.set_option('display.max_columns', 100)\n",
    "\n",
    "# Biblioteca para realizar balanceamento de classes em dados desbalanceados\n",
    "from imblearn.over_sampling  import SMOTE\n",
    "from sklearn.model_selection import train_test_split\n",
    "\n",
    "# Biblioteca com diversas funções de aprendizado de máquina\n",
    "from xgboost          import XGBClassifier\n",
    "from sklearn.ensemble import RandomForestClassifier\n",
    "from sklearn.tree     import DecisionTreeClassifier\n",
    "from sklearn.ensemble import GradientBoostingClassifier\n",
    "import xgboost  as xgb\n",
    "import lightgbm as lgb\n",
    "from sklearn.model_selection import GridSearchCV\n",
    "from scipy.stats             import randint as sp_randint\n",
    "from sklearn.model_selection import RandomizedSearchCV\n",
    "\n",
    "# Bibliotecas utilizadas na Avaliação das Máquinas\n",
    "from sklearn.metrics         import classification_report\n",
    "from sklearn.metrics         import accuracy_score\n",
    "from sklearn.metrics         import confusion_matrix\n",
    "from sklearn.metrics         import roc_auc_score\n",
    "from sklearn.metrics         import f1_score\n",
    "from sklearn.metrics         import precision_score\n",
    "from sklearn.metrics         import recall_score\n",
    "from yellowbrick.classifier  import ConfusionMatrix\n",
    "\n",
    "# Biblioteca para seleção de variáveis mais importantes\n",
    "from sklearn.ensemble          import RandomForestClassifier\n",
    "from sklearn.feature_selection import mutual_info_regression\n",
    "from sklearn.feature_selection import SelectKBest"
   ]
  },
  {
   "cell_type": "markdown",
   "id": "aed9d0fe",
   "metadata": {},
   "source": [
    "# <font color='red'> 2 - COLETA DOS DADOS"
   ]
  },
  {
   "cell_type": "code",
   "execution_count": 2,
   "id": "d9f9abbd",
   "metadata": {
    "ExecuteTime": {
     "end_time": "2023-05-18T15:34:37.368690Z",
     "start_time": "2023-05-18T15:34:34.256921Z"
    }
   },
   "outputs": [],
   "source": [
    "# Lendo os Dados\n",
    "df = pd.read_csv('Dataset/transferencias.csv')"
   ]
  },
  {
   "cell_type": "markdown",
   "id": "1142cbf8",
   "metadata": {},
   "source": [
    "# <font color='red'> 3 - FUNÇÕES AUXILIARES"
   ]
  },
  {
   "cell_type": "markdown",
   "id": "880c8129",
   "metadata": {},
   "source": [
    "**Criar funções auxiliares para dataframe**"
   ]
  },
  {
   "cell_type": "code",
   "execution_count": 3,
   "id": "745f062e",
   "metadata": {
    "ExecuteTime": {
     "end_time": "2023-05-18T15:34:39.579904Z",
     "start_time": "2023-05-18T15:34:39.563907Z"
    }
   },
   "outputs": [],
   "source": [
    "def show_null (df):\n",
    "    # percentual de valores nulos\n",
    "    null_col = (df.isnull().sum(axis=0) / len(df)).sort_values(ascending=False).index\n",
    "    # DataFrame que contém valores nulos\n",
    "    null_data = pd.concat([df.isnull().sum(axis=0), # QTD\n",
    "                          (df.isnull().sum(axis=0)/len(df)).sort_values(ascending=False), # % null\n",
    "                           df.nunique(), # Valores únicos\n",
    "                           df.loc[:,df.columns.isin(list(null_col))].dtypes],axis=1) # seleciona apenas as colunas que contêm valores nulos\n",
    "    null_data = null_data.rename(columns={0: 'QTD',\n",
    "                                          1: '% null',\n",
    "                                          2: 'Unique Values',\n",
    "                                          3: 'Type'})\n",
    "    \n",
    "    return null_data"
   ]
  },
  {
   "cell_type": "markdown",
   "id": "c778ab36",
   "metadata": {},
   "source": [
    "# <font color='red'> 4 - ANÁLISE EXPLORATÓRIA DOS DADOS"
   ]
  },
  {
   "cell_type": "markdown",
   "id": "086d7363",
   "metadata": {},
   "source": [
    "## <font color='blue'> PASSO 1 - Análise Descritiva dos Dados"
   ]
  },
  {
   "cell_type": "markdown",
   "id": "2c81ed18",
   "metadata": {},
   "source": [
    "### <font color='#F37126'> 1.1. Leitura dos dados"
   ]
  },
  {
   "cell_type": "markdown",
   "id": "9e91b1eb",
   "metadata": {},
   "source": [
    "**Importar e visualizar a base de dados**"
   ]
  },
  {
   "cell_type": "code",
   "execution_count": 4,
   "id": "959c7483",
   "metadata": {
    "ExecuteTime": {
     "end_time": "2023-05-18T15:34:42.090666Z",
     "start_time": "2023-05-18T15:34:41.978696Z"
    }
   },
   "outputs": [
    {
     "data": {
      "text/html": [
       "<div>\n",
       "<style scoped>\n",
       "    .dataframe tbody tr th:only-of-type {\n",
       "        vertical-align: middle;\n",
       "    }\n",
       "\n",
       "    .dataframe tbody tr th {\n",
       "        vertical-align: top;\n",
       "    }\n",
       "\n",
       "    .dataframe thead th {\n",
       "        text-align: right;\n",
       "    }\n",
       "</style>\n",
       "<table border=\"1\" class=\"dataframe\">\n",
       "  <thead>\n",
       "    <tr style=\"text-align: right;\">\n",
       "      <th></th>\n",
       "      <th>Timestamp</th>\n",
       "      <th>pais</th>\n",
       "      <th>cidade</th>\n",
       "      <th>bairro</th>\n",
       "      <th>cep</th>\n",
       "      <th>ip</th>\n",
       "      <th>dia</th>\n",
       "      <th>hora</th>\n",
       "      <th>minuto</th>\n",
       "      <th>so</th>\n",
       "      <th>valor</th>\n",
       "      <th>antecedentes</th>\n",
       "      <th>reclamacoes</th>\n",
       "      <th>qtd_trans</th>\n",
       "      <th>crt</th>\n",
       "      <th>limite_global</th>\n",
       "      <th>tipo_crt</th>\n",
       "      <th>estabelecimento</th>\n",
       "      <th>contas</th>\n",
       "      <th>emprestimos</th>\n",
       "      <th>navegador</th>\n",
       "      <th>android</th>\n",
       "      <th>ios</th>\n",
       "      <th>compras</th>\n",
       "      <th>hist_navegacao</th>\n",
       "      <th>relacionamento</th>\n",
       "      <th>ind_seguranca</th>\n",
       "      <th>tempo_transacao</th>\n",
       "      <th>lim_crt</th>\n",
       "      <th>hist_saldo</th>\n",
       "      <th>Target</th>\n",
       "    </tr>\n",
       "  </thead>\n",
       "  <tbody>\n",
       "    <tr>\n",
       "      <th>0</th>\n",
       "      <td>0.0</td>\n",
       "      <td>-1.359807</td>\n",
       "      <td>-0.072781</td>\n",
       "      <td>2.536347</td>\n",
       "      <td>1.378155</td>\n",
       "      <td>-0.338321</td>\n",
       "      <td>0.462388</td>\n",
       "      <td>0.239599</td>\n",
       "      <td>0.098698</td>\n",
       "      <td>0.363787</td>\n",
       "      <td>0.090794</td>\n",
       "      <td>-0.551600</td>\n",
       "      <td>-0.617801</td>\n",
       "      <td>-0.991390</td>\n",
       "      <td>-0.311169</td>\n",
       "      <td>1.468177</td>\n",
       "      <td>-0.470401</td>\n",
       "      <td>0.207971</td>\n",
       "      <td>0.025791</td>\n",
       "      <td>0.403993</td>\n",
       "      <td>0.251412</td>\n",
       "      <td>-0.018307</td>\n",
       "      <td>0.277838</td>\n",
       "      <td>-0.110474</td>\n",
       "      <td>0.066928</td>\n",
       "      <td>0.128539</td>\n",
       "      <td>-0.189115</td>\n",
       "      <td>0.133558</td>\n",
       "      <td>-0.021053</td>\n",
       "      <td>149.62</td>\n",
       "      <td>0</td>\n",
       "    </tr>\n",
       "    <tr>\n",
       "      <th>1</th>\n",
       "      <td>0.0</td>\n",
       "      <td>1.191857</td>\n",
       "      <td>0.266151</td>\n",
       "      <td>0.166480</td>\n",
       "      <td>0.448154</td>\n",
       "      <td>0.060018</td>\n",
       "      <td>-0.082361</td>\n",
       "      <td>-0.078803</td>\n",
       "      <td>0.085102</td>\n",
       "      <td>-0.255425</td>\n",
       "      <td>-0.166974</td>\n",
       "      <td>1.612727</td>\n",
       "      <td>1.065235</td>\n",
       "      <td>0.489095</td>\n",
       "      <td>-0.143772</td>\n",
       "      <td>0.635558</td>\n",
       "      <td>0.463917</td>\n",
       "      <td>-0.114805</td>\n",
       "      <td>-0.183361</td>\n",
       "      <td>-0.145783</td>\n",
       "      <td>-0.069083</td>\n",
       "      <td>-0.225775</td>\n",
       "      <td>-0.638672</td>\n",
       "      <td>0.101288</td>\n",
       "      <td>-0.339846</td>\n",
       "      <td>0.167170</td>\n",
       "      <td>0.125895</td>\n",
       "      <td>-0.008983</td>\n",
       "      <td>0.014724</td>\n",
       "      <td>2.69</td>\n",
       "      <td>0</td>\n",
       "    </tr>\n",
       "    <tr>\n",
       "      <th>2</th>\n",
       "      <td>1.0</td>\n",
       "      <td>-1.358354</td>\n",
       "      <td>-1.340163</td>\n",
       "      <td>1.773209</td>\n",
       "      <td>0.379780</td>\n",
       "      <td>-0.503198</td>\n",
       "      <td>1.800499</td>\n",
       "      <td>0.791461</td>\n",
       "      <td>0.247676</td>\n",
       "      <td>-1.514654</td>\n",
       "      <td>0.207643</td>\n",
       "      <td>0.624501</td>\n",
       "      <td>0.066084</td>\n",
       "      <td>0.717293</td>\n",
       "      <td>-0.165946</td>\n",
       "      <td>2.345865</td>\n",
       "      <td>-2.890083</td>\n",
       "      <td>1.109969</td>\n",
       "      <td>-0.121359</td>\n",
       "      <td>-2.261857</td>\n",
       "      <td>0.524980</td>\n",
       "      <td>0.247998</td>\n",
       "      <td>0.771679</td>\n",
       "      <td>0.909412</td>\n",
       "      <td>-0.689281</td>\n",
       "      <td>-0.327642</td>\n",
       "      <td>-0.139097</td>\n",
       "      <td>-0.055353</td>\n",
       "      <td>-0.059752</td>\n",
       "      <td>378.66</td>\n",
       "      <td>0</td>\n",
       "    </tr>\n",
       "    <tr>\n",
       "      <th>3</th>\n",
       "      <td>1.0</td>\n",
       "      <td>-0.966272</td>\n",
       "      <td>-0.185226</td>\n",
       "      <td>1.792993</td>\n",
       "      <td>-0.863291</td>\n",
       "      <td>-0.010309</td>\n",
       "      <td>1.247203</td>\n",
       "      <td>0.237609</td>\n",
       "      <td>0.377436</td>\n",
       "      <td>-1.387024</td>\n",
       "      <td>-0.054952</td>\n",
       "      <td>-0.226487</td>\n",
       "      <td>0.178228</td>\n",
       "      <td>0.507757</td>\n",
       "      <td>-0.287924</td>\n",
       "      <td>-0.631418</td>\n",
       "      <td>-1.059647</td>\n",
       "      <td>-0.684093</td>\n",
       "      <td>1.965775</td>\n",
       "      <td>-1.232622</td>\n",
       "      <td>-0.208038</td>\n",
       "      <td>-0.108300</td>\n",
       "      <td>0.005274</td>\n",
       "      <td>-0.190321</td>\n",
       "      <td>-1.175575</td>\n",
       "      <td>0.647376</td>\n",
       "      <td>-0.221929</td>\n",
       "      <td>0.062723</td>\n",
       "      <td>0.061458</td>\n",
       "      <td>123.50</td>\n",
       "      <td>0</td>\n",
       "    </tr>\n",
       "    <tr>\n",
       "      <th>4</th>\n",
       "      <td>2.0</td>\n",
       "      <td>-1.158233</td>\n",
       "      <td>0.877737</td>\n",
       "      <td>1.548718</td>\n",
       "      <td>0.403034</td>\n",
       "      <td>-0.407193</td>\n",
       "      <td>0.095921</td>\n",
       "      <td>0.592941</td>\n",
       "      <td>-0.270533</td>\n",
       "      <td>0.817739</td>\n",
       "      <td>0.753074</td>\n",
       "      <td>-0.822843</td>\n",
       "      <td>0.538196</td>\n",
       "      <td>1.345852</td>\n",
       "      <td>-1.119670</td>\n",
       "      <td>0.175121</td>\n",
       "      <td>-0.451449</td>\n",
       "      <td>-0.237033</td>\n",
       "      <td>-0.038195</td>\n",
       "      <td>0.803487</td>\n",
       "      <td>0.408542</td>\n",
       "      <td>-0.009431</td>\n",
       "      <td>0.798278</td>\n",
       "      <td>-0.137458</td>\n",
       "      <td>0.141267</td>\n",
       "      <td>-0.206010</td>\n",
       "      <td>0.502292</td>\n",
       "      <td>0.219422</td>\n",
       "      <td>0.215153</td>\n",
       "      <td>69.99</td>\n",
       "      <td>0</td>\n",
       "    </tr>\n",
       "    <tr>\n",
       "      <th>...</th>\n",
       "      <td>...</td>\n",
       "      <td>...</td>\n",
       "      <td>...</td>\n",
       "      <td>...</td>\n",
       "      <td>...</td>\n",
       "      <td>...</td>\n",
       "      <td>...</td>\n",
       "      <td>...</td>\n",
       "      <td>...</td>\n",
       "      <td>...</td>\n",
       "      <td>...</td>\n",
       "      <td>...</td>\n",
       "      <td>...</td>\n",
       "      <td>...</td>\n",
       "      <td>...</td>\n",
       "      <td>...</td>\n",
       "      <td>...</td>\n",
       "      <td>...</td>\n",
       "      <td>...</td>\n",
       "      <td>...</td>\n",
       "      <td>...</td>\n",
       "      <td>...</td>\n",
       "      <td>...</td>\n",
       "      <td>...</td>\n",
       "      <td>...</td>\n",
       "      <td>...</td>\n",
       "      <td>...</td>\n",
       "      <td>...</td>\n",
       "      <td>...</td>\n",
       "      <td>...</td>\n",
       "      <td>...</td>\n",
       "    </tr>\n",
       "    <tr>\n",
       "      <th>284802</th>\n",
       "      <td>172786.0</td>\n",
       "      <td>-11.881118</td>\n",
       "      <td>10.071785</td>\n",
       "      <td>-9.834783</td>\n",
       "      <td>-2.066656</td>\n",
       "      <td>-5.364473</td>\n",
       "      <td>-2.606837</td>\n",
       "      <td>-4.918215</td>\n",
       "      <td>7.305334</td>\n",
       "      <td>1.914428</td>\n",
       "      <td>4.356170</td>\n",
       "      <td>-1.593105</td>\n",
       "      <td>2.711941</td>\n",
       "      <td>-0.689256</td>\n",
       "      <td>4.626942</td>\n",
       "      <td>-0.924459</td>\n",
       "      <td>1.107641</td>\n",
       "      <td>1.991691</td>\n",
       "      <td>0.510632</td>\n",
       "      <td>-0.682920</td>\n",
       "      <td>1.475829</td>\n",
       "      <td>0.213454</td>\n",
       "      <td>0.111864</td>\n",
       "      <td>1.014480</td>\n",
       "      <td>-0.509348</td>\n",
       "      <td>1.436807</td>\n",
       "      <td>0.250034</td>\n",
       "      <td>0.943651</td>\n",
       "      <td>0.823731</td>\n",
       "      <td>0.77</td>\n",
       "      <td>0</td>\n",
       "    </tr>\n",
       "    <tr>\n",
       "      <th>284803</th>\n",
       "      <td>172787.0</td>\n",
       "      <td>-0.732789</td>\n",
       "      <td>-0.055080</td>\n",
       "      <td>2.035030</td>\n",
       "      <td>-0.738589</td>\n",
       "      <td>0.868229</td>\n",
       "      <td>1.058415</td>\n",
       "      <td>0.024330</td>\n",
       "      <td>0.294869</td>\n",
       "      <td>0.584800</td>\n",
       "      <td>-0.975926</td>\n",
       "      <td>-0.150189</td>\n",
       "      <td>0.915802</td>\n",
       "      <td>1.214756</td>\n",
       "      <td>-0.675143</td>\n",
       "      <td>1.164931</td>\n",
       "      <td>-0.711757</td>\n",
       "      <td>-0.025693</td>\n",
       "      <td>-1.221179</td>\n",
       "      <td>-1.545556</td>\n",
       "      <td>0.059616</td>\n",
       "      <td>0.214205</td>\n",
       "      <td>0.924384</td>\n",
       "      <td>0.012463</td>\n",
       "      <td>-1.016226</td>\n",
       "      <td>-0.606624</td>\n",
       "      <td>-0.395255</td>\n",
       "      <td>0.068472</td>\n",
       "      <td>-0.053527</td>\n",
       "      <td>24.79</td>\n",
       "      <td>0</td>\n",
       "    </tr>\n",
       "    <tr>\n",
       "      <th>284804</th>\n",
       "      <td>172788.0</td>\n",
       "      <td>1.919565</td>\n",
       "      <td>-0.301254</td>\n",
       "      <td>-3.249640</td>\n",
       "      <td>-0.557828</td>\n",
       "      <td>2.630515</td>\n",
       "      <td>3.031260</td>\n",
       "      <td>-0.296827</td>\n",
       "      <td>0.708417</td>\n",
       "      <td>0.432454</td>\n",
       "      <td>-0.484782</td>\n",
       "      <td>0.411614</td>\n",
       "      <td>0.063119</td>\n",
       "      <td>-0.183699</td>\n",
       "      <td>-0.510602</td>\n",
       "      <td>1.329284</td>\n",
       "      <td>0.140716</td>\n",
       "      <td>0.313502</td>\n",
       "      <td>0.395652</td>\n",
       "      <td>-0.577252</td>\n",
       "      <td>0.001396</td>\n",
       "      <td>0.232045</td>\n",
       "      <td>0.578229</td>\n",
       "      <td>-0.037501</td>\n",
       "      <td>0.640134</td>\n",
       "      <td>0.265745</td>\n",
       "      <td>-0.087371</td>\n",
       "      <td>0.004455</td>\n",
       "      <td>-0.026561</td>\n",
       "      <td>67.88</td>\n",
       "      <td>0</td>\n",
       "    </tr>\n",
       "    <tr>\n",
       "      <th>284805</th>\n",
       "      <td>172788.0</td>\n",
       "      <td>-0.240440</td>\n",
       "      <td>0.530483</td>\n",
       "      <td>0.702510</td>\n",
       "      <td>0.689799</td>\n",
       "      <td>-0.377961</td>\n",
       "      <td>0.623708</td>\n",
       "      <td>-0.686180</td>\n",
       "      <td>0.679145</td>\n",
       "      <td>0.392087</td>\n",
       "      <td>-0.399126</td>\n",
       "      <td>-1.933849</td>\n",
       "      <td>-0.962886</td>\n",
       "      <td>-1.042082</td>\n",
       "      <td>0.449624</td>\n",
       "      <td>1.962563</td>\n",
       "      <td>-0.608577</td>\n",
       "      <td>0.509928</td>\n",
       "      <td>1.113981</td>\n",
       "      <td>2.897849</td>\n",
       "      <td>0.127434</td>\n",
       "      <td>0.265245</td>\n",
       "      <td>0.800049</td>\n",
       "      <td>-0.163298</td>\n",
       "      <td>0.123205</td>\n",
       "      <td>-0.569159</td>\n",
       "      <td>0.546668</td>\n",
       "      <td>0.108821</td>\n",
       "      <td>0.104533</td>\n",
       "      <td>10.00</td>\n",
       "      <td>0</td>\n",
       "    </tr>\n",
       "    <tr>\n",
       "      <th>284806</th>\n",
       "      <td>172792.0</td>\n",
       "      <td>-0.533413</td>\n",
       "      <td>-0.189733</td>\n",
       "      <td>0.703337</td>\n",
       "      <td>-0.506271</td>\n",
       "      <td>-0.012546</td>\n",
       "      <td>-0.649617</td>\n",
       "      <td>1.577006</td>\n",
       "      <td>-0.414650</td>\n",
       "      <td>0.486180</td>\n",
       "      <td>-0.915427</td>\n",
       "      <td>-1.040458</td>\n",
       "      <td>-0.031513</td>\n",
       "      <td>-0.188093</td>\n",
       "      <td>-0.084316</td>\n",
       "      <td>0.041333</td>\n",
       "      <td>-0.302620</td>\n",
       "      <td>-0.660377</td>\n",
       "      <td>0.167430</td>\n",
       "      <td>-0.256117</td>\n",
       "      <td>0.382948</td>\n",
       "      <td>0.261057</td>\n",
       "      <td>0.643078</td>\n",
       "      <td>0.376777</td>\n",
       "      <td>0.008797</td>\n",
       "      <td>-0.473649</td>\n",
       "      <td>-0.818267</td>\n",
       "      <td>-0.002415</td>\n",
       "      <td>0.013649</td>\n",
       "      <td>217.00</td>\n",
       "      <td>0</td>\n",
       "    </tr>\n",
       "  </tbody>\n",
       "</table>\n",
       "<p>284807 rows × 31 columns</p>\n",
       "</div>"
      ],
      "text/plain": [
       "        Timestamp       pais     cidade    bairro       cep        ip  \\\n",
       "0             0.0  -1.359807  -0.072781  2.536347  1.378155 -0.338321   \n",
       "1             0.0   1.191857   0.266151  0.166480  0.448154  0.060018   \n",
       "2             1.0  -1.358354  -1.340163  1.773209  0.379780 -0.503198   \n",
       "3             1.0  -0.966272  -0.185226  1.792993 -0.863291 -0.010309   \n",
       "4             2.0  -1.158233   0.877737  1.548718  0.403034 -0.407193   \n",
       "...           ...        ...        ...       ...       ...       ...   \n",
       "284802   172786.0 -11.881118  10.071785 -9.834783 -2.066656 -5.364473   \n",
       "284803   172787.0  -0.732789  -0.055080  2.035030 -0.738589  0.868229   \n",
       "284804   172788.0   1.919565  -0.301254 -3.249640 -0.557828  2.630515   \n",
       "284805   172788.0  -0.240440   0.530483  0.702510  0.689799 -0.377961   \n",
       "284806   172792.0  -0.533413  -0.189733  0.703337 -0.506271 -0.012546   \n",
       "\n",
       "             dia      hora    minuto        so     valor  antecedentes  \\\n",
       "0       0.462388  0.239599  0.098698  0.363787  0.090794     -0.551600   \n",
       "1      -0.082361 -0.078803  0.085102 -0.255425 -0.166974      1.612727   \n",
       "2       1.800499  0.791461  0.247676 -1.514654  0.207643      0.624501   \n",
       "3       1.247203  0.237609  0.377436 -1.387024 -0.054952     -0.226487   \n",
       "4       0.095921  0.592941 -0.270533  0.817739  0.753074     -0.822843   \n",
       "...          ...       ...       ...       ...       ...           ...   \n",
       "284802 -2.606837 -4.918215  7.305334  1.914428  4.356170     -1.593105   \n",
       "284803  1.058415  0.024330  0.294869  0.584800 -0.975926     -0.150189   \n",
       "284804  3.031260 -0.296827  0.708417  0.432454 -0.484782      0.411614   \n",
       "284805  0.623708 -0.686180  0.679145  0.392087 -0.399126     -1.933849   \n",
       "284806 -0.649617  1.577006 -0.414650  0.486180 -0.915427     -1.040458   \n",
       "\n",
       "        reclamacoes  qtd_trans       crt  limite_global  tipo_crt  \\\n",
       "0         -0.617801  -0.991390 -0.311169       1.468177 -0.470401   \n",
       "1          1.065235   0.489095 -0.143772       0.635558  0.463917   \n",
       "2          0.066084   0.717293 -0.165946       2.345865 -2.890083   \n",
       "3          0.178228   0.507757 -0.287924      -0.631418 -1.059647   \n",
       "4          0.538196   1.345852 -1.119670       0.175121 -0.451449   \n",
       "...             ...        ...       ...            ...       ...   \n",
       "284802     2.711941  -0.689256  4.626942      -0.924459  1.107641   \n",
       "284803     0.915802   1.214756 -0.675143       1.164931 -0.711757   \n",
       "284804     0.063119  -0.183699 -0.510602       1.329284  0.140716   \n",
       "284805    -0.962886  -1.042082  0.449624       1.962563 -0.608577   \n",
       "284806    -0.031513  -0.188093 -0.084316       0.041333 -0.302620   \n",
       "\n",
       "        estabelecimento    contas  emprestimos  navegador   android       ios  \\\n",
       "0              0.207971  0.025791     0.403993   0.251412 -0.018307  0.277838   \n",
       "1             -0.114805 -0.183361    -0.145783  -0.069083 -0.225775 -0.638672   \n",
       "2              1.109969 -0.121359    -2.261857   0.524980  0.247998  0.771679   \n",
       "3             -0.684093  1.965775    -1.232622  -0.208038 -0.108300  0.005274   \n",
       "4             -0.237033 -0.038195     0.803487   0.408542 -0.009431  0.798278   \n",
       "...                 ...       ...          ...        ...       ...       ...   \n",
       "284802         1.991691  0.510632    -0.682920   1.475829  0.213454  0.111864   \n",
       "284803        -0.025693 -1.221179    -1.545556   0.059616  0.214205  0.924384   \n",
       "284804         0.313502  0.395652    -0.577252   0.001396  0.232045  0.578229   \n",
       "284805         0.509928  1.113981     2.897849   0.127434  0.265245  0.800049   \n",
       "284806        -0.660377  0.167430    -0.256117   0.382948  0.261057  0.643078   \n",
       "\n",
       "         compras  hist_navegacao  relacionamento  ind_seguranca  \\\n",
       "0      -0.110474        0.066928        0.128539      -0.189115   \n",
       "1       0.101288       -0.339846        0.167170       0.125895   \n",
       "2       0.909412       -0.689281       -0.327642      -0.139097   \n",
       "3      -0.190321       -1.175575        0.647376      -0.221929   \n",
       "4      -0.137458        0.141267       -0.206010       0.502292   \n",
       "...          ...             ...             ...            ...   \n",
       "284802  1.014480       -0.509348        1.436807       0.250034   \n",
       "284803  0.012463       -1.016226       -0.606624      -0.395255   \n",
       "284804 -0.037501        0.640134        0.265745      -0.087371   \n",
       "284805 -0.163298        0.123205       -0.569159       0.546668   \n",
       "284806  0.376777        0.008797       -0.473649      -0.818267   \n",
       "\n",
       "        tempo_transacao   lim_crt  hist_saldo  Target  \n",
       "0              0.133558 -0.021053      149.62       0  \n",
       "1             -0.008983  0.014724        2.69       0  \n",
       "2             -0.055353 -0.059752      378.66       0  \n",
       "3              0.062723  0.061458      123.50       0  \n",
       "4              0.219422  0.215153       69.99       0  \n",
       "...                 ...       ...         ...     ...  \n",
       "284802         0.943651  0.823731        0.77       0  \n",
       "284803         0.068472 -0.053527       24.79       0  \n",
       "284804         0.004455 -0.026561       67.88       0  \n",
       "284805         0.108821  0.104533       10.00       0  \n",
       "284806        -0.002415  0.013649      217.00       0  \n",
       "\n",
       "[284807 rows x 31 columns]"
      ]
     },
     "execution_count": 4,
     "metadata": {},
     "output_type": "execute_result"
    }
   ],
   "source": [
    "df"
   ]
  },
  {
   "cell_type": "markdown",
   "id": "2e0ed451",
   "metadata": {},
   "source": [
    "**Nota:**\n",
    "\n",
    "<p>Nesta base de dados já foi feito um tratamento anterior de codificação das variáveis, então essa base está pré-processada e podemos focar em Machine Learning.</p>\n",
    "\n",
    "- Timestamp: Data e hora da transferência bancária.\n",
    "- País: País onde a transferência foi feita.\n",
    "- Cidade: Cidade onde a transferência foi feita.\n",
    "- Bairro: Bairro onde a transferência foi feita.\n",
    "- CEP: Código postal do local da transferência.\n",
    "- IP: Endereço IP do dispositivo que iniciou a transferência.\n",
    "- Dia: Dia do mês em que a transferência foi feita.\n",
    "- Hora: Hora do dia em que a transferência foi feita.\n",
    "- Minuto: Minuto da hora em que a transferência foi feita.\n",
    "- SO: Sistema operacional do dispositivo que iniciou a transferência (por exemplo, Windows, Linux, Mac OS).\n",
    "- Valor: Valor da transferência em reais.\n",
    "- Antecedentes: Número de antecedentes criminais do proprietário da conta bancária.\n",
    "- Reclamações: Número de reclamações registradas contra a conta bancária.\n",
    "- Qtd_trans: Número de transferências realizadas pela conta bancária.\n",
    "- CRT: Crédito bancário.\n",
    "- Limite_global: Limite de crédito global.\n",
    "- Tipo_crt: Tipo de crédito (por exemplo, pessoal, consignado).\n",
    "- Estabelecimento: Nome do estabelecimento onde a transferência foi feita.\n",
    "- Contas: Número de contas vinculadas à conta bancária.\n",
    "- Empréstimos: Número de empréstimos concedidos à conta bancária.\n",
    "- Navegador: Navegador da web usado para iniciar a transferência.\n",
    "- Android: Versão do sistema operacional Android (se o dispositivo que iniciou a transferência for um dispositivo Android).\n",
    "- iOS: Versão do sistema operacional iOS (se o dispositivo que iniciou a transferência for um dispositivo iOS).\n",
    "- Compras: Número de compras realizadas pela conta bancária.\n",
    "- Hist_navegacao: Histórico de navegação da web do dispositivo que iniciou a transferência.\n",
    "- Relacionamento: Tempo de relacionamento com a instituição financeira.\n",
    "- Ind_seguranca: Nível de segurança da transação bancária.\n",
    "- Tempo_transacao: Tempo de duração da transação bancária.\n",
    "- Lim_crt: Limite de crédito da conta bancária.\n",
    "- Hist_saldo: Histórico de saldo da conta bancária.\n",
    "- Target: Variável alvo que indica se a transação bancária é fraudulenta (1) ou não (0)."
   ]
  },
  {
   "cell_type": "markdown",
   "id": "6590b088",
   "metadata": {},
   "source": [
    "### <font color='#F37126'> 1.2. Colunas"
   ]
  },
  {
   "cell_type": "markdown",
   "id": "84cb2109",
   "metadata": {},
   "source": [
    "**Visualizando cabeçalho do dataframe**"
   ]
  },
  {
   "cell_type": "code",
   "execution_count": 5,
   "id": "ddd2608f",
   "metadata": {
    "ExecuteTime": {
     "end_time": "2023-05-18T15:34:44.409455Z",
     "start_time": "2023-05-18T15:34:44.393436Z"
    }
   },
   "outputs": [
    {
     "name": "stdout",
     "output_type": "stream",
     "text": [
      "['Timestamp', 'pais', 'cidade', 'bairro', 'cep', 'ip', 'dia', 'hora', 'minuto', 'so', 'valor', 'antecedentes', 'reclamacoes', 'qtd_trans', 'crt', 'limite_global', 'tipo_crt', 'estabelecimento', 'contas', 'emprestimos', 'navegador', 'android', 'ios', 'compras', 'hist_navegacao', 'relacionamento', 'ind_seguranca', 'tempo_transacao', 'lim_crt', 'hist_saldo', 'Target']\n"
     ]
    }
   ],
   "source": [
    "print(df.columns.to_list())"
   ]
  },
  {
   "cell_type": "markdown",
   "id": "6d28827c",
   "metadata": {},
   "source": [
    "### <font color='#F37126'> 1.3. Dimensões de dados"
   ]
  },
  {
   "cell_type": "markdown",
   "id": "055ab291",
   "metadata": {},
   "source": [
    "**Verificando informações sobre o dataframe: linhas e colunas**"
   ]
  },
  {
   "cell_type": "code",
   "execution_count": 6,
   "id": "df01ac36",
   "metadata": {
    "ExecuteTime": {
     "end_time": "2023-05-18T15:34:46.349062Z",
     "start_time": "2023-05-18T15:34:46.325080Z"
    }
   },
   "outputs": [
    {
     "data": {
      "text/plain": [
       "(284807, 31)"
      ]
     },
     "execution_count": 6,
     "metadata": {},
     "output_type": "execute_result"
    }
   ],
   "source": [
    "df.shape"
   ]
  },
  {
   "cell_type": "code",
   "execution_count": 7,
   "id": "c34c4dfd",
   "metadata": {
    "ExecuteTime": {
     "end_time": "2023-05-18T15:34:48.264734Z",
     "start_time": "2023-05-18T15:34:47.072857Z"
    }
   },
   "outputs": [
    {
     "data": {
      "text/html": [
       "<div>\n",
       "<style scoped>\n",
       "    .dataframe tbody tr th:only-of-type {\n",
       "        vertical-align: middle;\n",
       "    }\n",
       "\n",
       "    .dataframe tbody tr th {\n",
       "        vertical-align: top;\n",
       "    }\n",
       "\n",
       "    .dataframe thead th {\n",
       "        text-align: right;\n",
       "    }\n",
       "</style>\n",
       "<table border=\"1\" class=\"dataframe\">\n",
       "  <thead>\n",
       "    <tr style=\"text-align: right;\">\n",
       "      <th></th>\n",
       "      <th>QTD</th>\n",
       "      <th>% null</th>\n",
       "      <th>Unique Values</th>\n",
       "      <th>Type</th>\n",
       "    </tr>\n",
       "  </thead>\n",
       "  <tbody>\n",
       "    <tr>\n",
       "      <th>Timestamp</th>\n",
       "      <td>0</td>\n",
       "      <td>0.0</td>\n",
       "      <td>124592</td>\n",
       "      <td>float64</td>\n",
       "    </tr>\n",
       "    <tr>\n",
       "      <th>pais</th>\n",
       "      <td>0</td>\n",
       "      <td>0.0</td>\n",
       "      <td>275663</td>\n",
       "      <td>float64</td>\n",
       "    </tr>\n",
       "    <tr>\n",
       "      <th>cidade</th>\n",
       "      <td>0</td>\n",
       "      <td>0.0</td>\n",
       "      <td>275663</td>\n",
       "      <td>float64</td>\n",
       "    </tr>\n",
       "    <tr>\n",
       "      <th>bairro</th>\n",
       "      <td>0</td>\n",
       "      <td>0.0</td>\n",
       "      <td>275663</td>\n",
       "      <td>float64</td>\n",
       "    </tr>\n",
       "    <tr>\n",
       "      <th>cep</th>\n",
       "      <td>0</td>\n",
       "      <td>0.0</td>\n",
       "      <td>275663</td>\n",
       "      <td>float64</td>\n",
       "    </tr>\n",
       "    <tr>\n",
       "      <th>ip</th>\n",
       "      <td>0</td>\n",
       "      <td>0.0</td>\n",
       "      <td>275663</td>\n",
       "      <td>float64</td>\n",
       "    </tr>\n",
       "    <tr>\n",
       "      <th>dia</th>\n",
       "      <td>0</td>\n",
       "      <td>0.0</td>\n",
       "      <td>275663</td>\n",
       "      <td>float64</td>\n",
       "    </tr>\n",
       "    <tr>\n",
       "      <th>hora</th>\n",
       "      <td>0</td>\n",
       "      <td>0.0</td>\n",
       "      <td>275663</td>\n",
       "      <td>float64</td>\n",
       "    </tr>\n",
       "    <tr>\n",
       "      <th>minuto</th>\n",
       "      <td>0</td>\n",
       "      <td>0.0</td>\n",
       "      <td>275663</td>\n",
       "      <td>float64</td>\n",
       "    </tr>\n",
       "    <tr>\n",
       "      <th>so</th>\n",
       "      <td>0</td>\n",
       "      <td>0.0</td>\n",
       "      <td>275663</td>\n",
       "      <td>float64</td>\n",
       "    </tr>\n",
       "    <tr>\n",
       "      <th>valor</th>\n",
       "      <td>0</td>\n",
       "      <td>0.0</td>\n",
       "      <td>275663</td>\n",
       "      <td>float64</td>\n",
       "    </tr>\n",
       "    <tr>\n",
       "      <th>antecedentes</th>\n",
       "      <td>0</td>\n",
       "      <td>0.0</td>\n",
       "      <td>275663</td>\n",
       "      <td>float64</td>\n",
       "    </tr>\n",
       "    <tr>\n",
       "      <th>reclamacoes</th>\n",
       "      <td>0</td>\n",
       "      <td>0.0</td>\n",
       "      <td>275663</td>\n",
       "      <td>float64</td>\n",
       "    </tr>\n",
       "    <tr>\n",
       "      <th>qtd_trans</th>\n",
       "      <td>0</td>\n",
       "      <td>0.0</td>\n",
       "      <td>275663</td>\n",
       "      <td>float64</td>\n",
       "    </tr>\n",
       "    <tr>\n",
       "      <th>crt</th>\n",
       "      <td>0</td>\n",
       "      <td>0.0</td>\n",
       "      <td>275663</td>\n",
       "      <td>float64</td>\n",
       "    </tr>\n",
       "    <tr>\n",
       "      <th>limite_global</th>\n",
       "      <td>0</td>\n",
       "      <td>0.0</td>\n",
       "      <td>275663</td>\n",
       "      <td>float64</td>\n",
       "    </tr>\n",
       "    <tr>\n",
       "      <th>tipo_crt</th>\n",
       "      <td>0</td>\n",
       "      <td>0.0</td>\n",
       "      <td>275663</td>\n",
       "      <td>float64</td>\n",
       "    </tr>\n",
       "    <tr>\n",
       "      <th>estabelecimento</th>\n",
       "      <td>0</td>\n",
       "      <td>0.0</td>\n",
       "      <td>275663</td>\n",
       "      <td>float64</td>\n",
       "    </tr>\n",
       "    <tr>\n",
       "      <th>contas</th>\n",
       "      <td>0</td>\n",
       "      <td>0.0</td>\n",
       "      <td>275663</td>\n",
       "      <td>float64</td>\n",
       "    </tr>\n",
       "    <tr>\n",
       "      <th>emprestimos</th>\n",
       "      <td>0</td>\n",
       "      <td>0.0</td>\n",
       "      <td>275663</td>\n",
       "      <td>float64</td>\n",
       "    </tr>\n",
       "    <tr>\n",
       "      <th>navegador</th>\n",
       "      <td>0</td>\n",
       "      <td>0.0</td>\n",
       "      <td>275663</td>\n",
       "      <td>float64</td>\n",
       "    </tr>\n",
       "    <tr>\n",
       "      <th>android</th>\n",
       "      <td>0</td>\n",
       "      <td>0.0</td>\n",
       "      <td>275663</td>\n",
       "      <td>float64</td>\n",
       "    </tr>\n",
       "    <tr>\n",
       "      <th>ios</th>\n",
       "      <td>0</td>\n",
       "      <td>0.0</td>\n",
       "      <td>275663</td>\n",
       "      <td>float64</td>\n",
       "    </tr>\n",
       "    <tr>\n",
       "      <th>compras</th>\n",
       "      <td>0</td>\n",
       "      <td>0.0</td>\n",
       "      <td>275663</td>\n",
       "      <td>float64</td>\n",
       "    </tr>\n",
       "    <tr>\n",
       "      <th>hist_navegacao</th>\n",
       "      <td>0</td>\n",
       "      <td>0.0</td>\n",
       "      <td>275663</td>\n",
       "      <td>float64</td>\n",
       "    </tr>\n",
       "    <tr>\n",
       "      <th>relacionamento</th>\n",
       "      <td>0</td>\n",
       "      <td>0.0</td>\n",
       "      <td>275663</td>\n",
       "      <td>float64</td>\n",
       "    </tr>\n",
       "    <tr>\n",
       "      <th>ind_seguranca</th>\n",
       "      <td>0</td>\n",
       "      <td>0.0</td>\n",
       "      <td>275663</td>\n",
       "      <td>float64</td>\n",
       "    </tr>\n",
       "    <tr>\n",
       "      <th>tempo_transacao</th>\n",
       "      <td>0</td>\n",
       "      <td>0.0</td>\n",
       "      <td>275663</td>\n",
       "      <td>float64</td>\n",
       "    </tr>\n",
       "    <tr>\n",
       "      <th>lim_crt</th>\n",
       "      <td>0</td>\n",
       "      <td>0.0</td>\n",
       "      <td>275663</td>\n",
       "      <td>float64</td>\n",
       "    </tr>\n",
       "    <tr>\n",
       "      <th>hist_saldo</th>\n",
       "      <td>0</td>\n",
       "      <td>0.0</td>\n",
       "      <td>32767</td>\n",
       "      <td>float64</td>\n",
       "    </tr>\n",
       "    <tr>\n",
       "      <th>Target</th>\n",
       "      <td>0</td>\n",
       "      <td>0.0</td>\n",
       "      <td>2</td>\n",
       "      <td>int64</td>\n",
       "    </tr>\n",
       "  </tbody>\n",
       "</table>\n",
       "</div>"
      ],
      "text/plain": [
       "                 QTD  % null  Unique Values     Type\n",
       "Timestamp          0     0.0         124592  float64\n",
       "pais               0     0.0         275663  float64\n",
       "cidade             0     0.0         275663  float64\n",
       "bairro             0     0.0         275663  float64\n",
       "cep                0     0.0         275663  float64\n",
       "ip                 0     0.0         275663  float64\n",
       "dia                0     0.0         275663  float64\n",
       "hora               0     0.0         275663  float64\n",
       "minuto             0     0.0         275663  float64\n",
       "so                 0     0.0         275663  float64\n",
       "valor              0     0.0         275663  float64\n",
       "antecedentes       0     0.0         275663  float64\n",
       "reclamacoes        0     0.0         275663  float64\n",
       "qtd_trans          0     0.0         275663  float64\n",
       "crt                0     0.0         275663  float64\n",
       "limite_global      0     0.0         275663  float64\n",
       "tipo_crt           0     0.0         275663  float64\n",
       "estabelecimento    0     0.0         275663  float64\n",
       "contas             0     0.0         275663  float64\n",
       "emprestimos        0     0.0         275663  float64\n",
       "navegador          0     0.0         275663  float64\n",
       "android            0     0.0         275663  float64\n",
       "ios                0     0.0         275663  float64\n",
       "compras            0     0.0         275663  float64\n",
       "hist_navegacao     0     0.0         275663  float64\n",
       "relacionamento     0     0.0         275663  float64\n",
       "ind_seguranca      0     0.0         275663  float64\n",
       "tempo_transacao    0     0.0         275663  float64\n",
       "lim_crt            0     0.0         275663  float64\n",
       "hist_saldo         0     0.0          32767  float64\n",
       "Target             0     0.0              2    int64"
      ]
     },
     "execution_count": 7,
     "metadata": {},
     "output_type": "execute_result"
    }
   ],
   "source": [
    "show_null(df)"
   ]
  },
  {
   "cell_type": "code",
   "execution_count": 8,
   "id": "be9976de",
   "metadata": {
    "ExecuteTime": {
     "end_time": "2023-05-18T15:34:48.296750Z",
     "start_time": "2023-05-18T15:34:48.264734Z"
    }
   },
   "outputs": [
    {
     "data": {
      "text/plain": [
       "float64    30\n",
       "int64       1\n",
       "dtype: int64"
      ]
     },
     "execution_count": 8,
     "metadata": {},
     "output_type": "execute_result"
    }
   ],
   "source": [
    "df.dtypes.value_counts()"
   ]
  },
  {
   "cell_type": "markdown",
   "id": "32adc9ed",
   "metadata": {},
   "source": [
    "### <font color='#F37126'> 1.4. Verificando o balanceamento da variável alvo"
   ]
  },
  {
   "cell_type": "markdown",
   "id": "fc65b209",
   "metadata": {},
   "source": [
    "**Definição:**\n",
    "- O equilíbrio de uma base de dados se refere à distribuição das classes nessa base. Uma base de dados é considerada balanceada quando as classes estão distribuídas de forma similar, ou seja, quando não há uma classe majoritária. Já uma base de dados é considerada desbalanceada quando há uma classe majoritária."
   ]
  },
  {
   "cell_type": "code",
   "execution_count": 9,
   "id": "68248ca9",
   "metadata": {
    "ExecuteTime": {
     "end_time": "2023-05-18T15:34:49.546636Z",
     "start_time": "2023-05-18T15:34:49.514640Z"
    }
   },
   "outputs": [
    {
     "name": "stdout",
     "output_type": "stream",
     "text": [
      "   Target  Target\n",
      "0  284315  99.83%\n",
      "1     492   0.17%\n"
     ]
    }
   ],
   "source": [
    "aux1 = df['Target'].value_counts()\n",
    "aux2 = (df['Target'].value_counts(normalize=True) * 100).apply(lambda x: f\"{x:.2f}%\")\n",
    "\n",
    "result = pd.concat([aux1,aux2],axis=1)\n",
    "\n",
    "print(result)"
   ]
  },
  {
   "cell_type": "code",
   "execution_count": 10,
   "id": "3c040bb1",
   "metadata": {
    "ExecuteTime": {
     "end_time": "2023-05-18T15:34:51.028892Z",
     "start_time": "2023-05-18T15:34:50.218625Z"
    }
   },
   "outputs": [
    {
     "data": {
      "image/png": "[encoded data removed]",
      "text/plain": [
       "<Figure size 720x360 with 2 Axes>"
      ]
     },
     "metadata": {},
     "output_type": "display_data"
    }
   ],
   "source": [
    "# Visualizando graficamente\n",
    "plt.figure(figsize=(10,5))\n",
    "\n",
    "sns.color_palette(\"Blues\", as_cmap=True)\n",
    "Blues_palette = sns.color_palette(\"Blues\",10)\n",
    "\n",
    "# Para que o título não fique cortado na figura.\n",
    "plt.subplots_adjust(top=0.9)\n",
    "# Título\n",
    "plt.suptitle('Distribuição do % da variável alvo',fontsize=20, fontweight='bold', color='blue', y=1.00)\n",
    "\n",
    "plt.subplot(1,2,1)\n",
    "df.Target.value_counts().plot.bar()\n",
    "\n",
    "plt.gca().spines[\"top\"].set_visible(False)  # remover borda superior\n",
    "plt.gca().spines[\"right\"].set_visible(False)  # remover borda direita\n",
    "plt.gca().spines[\"left\"].set_visible(False)  # remover borda esquerda\n",
    "\n",
    "plt.subplot(1,2,2)\n",
    "df.Target.value_counts().plot.pie(explode=[0,0.1],autopct='%.2f%%',shadow=True,\n",
    "                                             colors=[Blues_palette[1],Blues_palette[3]])\n",
    "\n",
    "plt.savefig('DistribuicaoTarget.png', bbox_inches='tight')\n",
    "\n",
    "plt.show()"
   ]
  },
  {
   "cell_type": "markdown",
   "id": "cf315310",
   "metadata": {},
   "source": [
    "**Nota:**\n",
    "- A classe majoritária representa **99.83%** das amostras e a classe minoritária  representa **0.17%** dos clientes na base de dados, então temos uma base de dados desbalanceada.\n",
    "\n",
    "- Nós temos muito mais transferência que não são fraude do que transferência fraudulenta, mas se construir um modelo preditivo desta forma, não vamos conseguir ter um modelo relevante, vamos ter que fazer um balanceamento nesta classe."
   ]
  },
  {
   "cell_type": "markdown",
   "id": "bb56c60e",
   "metadata": {},
   "source": [
    "## <font color='blue'> PASSO 2 - Exploração de Dados"
   ]
  },
  {
   "cell_type": "markdown",
   "id": "ddd3be06",
   "metadata": {},
   "source": [
    "### <font color='#F37126'> 2.1. Análise das variáveis numericas"
   ]
  },
  {
   "cell_type": "markdown",
   "id": "f0d8a578",
   "metadata": {},
   "source": [
    "**As variáveis que vamos analisar:**\n",
    "- Valor\n",
    "- Qtd_trans\n",
    "- CRT\n",
    "- Contas\n",
    "- Empréstimos\n",
    "- Compras"
   ]
  },
  {
   "cell_type": "code",
   "execution_count": 11,
   "id": "8d0781eb",
   "metadata": {
    "ExecuteTime": {
     "end_time": "2023-05-18T15:34:54.448050Z",
     "start_time": "2023-05-18T15:34:54.360058Z"
    }
   },
   "outputs": [],
   "source": [
    "# Verificando os tipos dos dados não fraude\n",
    "df_nao_fraude = df.loc[df['Target'] == 0]"
   ]
  },
  {
   "cell_type": "code",
   "execution_count": 12,
   "id": "84df1675",
   "metadata": {
    "ExecuteTime": {
     "end_time": "2023-05-18T15:34:57.279246Z",
     "start_time": "2023-05-18T15:34:57.255268Z"
    }
   },
   "outputs": [],
   "source": [
    "# Verificando os tipos dos dados que são fraude\n",
    "df_fraude = df.loc[df['Target'] == 1]"
   ]
  },
  {
   "cell_type": "markdown",
   "id": "2aa1340e",
   "metadata": {},
   "source": [
    "#### <font color='#D2691E'> Valor: valor da transferência em reais"
   ]
  },
  {
   "cell_type": "code",
   "execution_count": 13,
   "id": "1fb75d33",
   "metadata": {
    "ExecuteTime": {
     "end_time": "2023-05-18T15:34:59.449028Z",
     "start_time": "2023-05-18T15:34:59.401013Z"
    }
   },
   "outputs": [
    {
     "data": {
      "text/html": [
       "<div>\n",
       "<style scoped>\n",
       "    .dataframe tbody tr th:only-of-type {\n",
       "        vertical-align: middle;\n",
       "    }\n",
       "\n",
       "    .dataframe tbody tr th {\n",
       "        vertical-align: top;\n",
       "    }\n",
       "\n",
       "    .dataframe thead th {\n",
       "        text-align: right;\n",
       "    }\n",
       "</style>\n",
       "<table border=\"1\" class=\"dataframe\">\n",
       "  <thead>\n",
       "    <tr style=\"text-align: right;\">\n",
       "      <th></th>\n",
       "      <th>Não Fraude</th>\n",
       "      <th>Fraude</th>\n",
       "    </tr>\n",
       "  </thead>\n",
       "  <tbody>\n",
       "    <tr>\n",
       "      <th>count</th>\n",
       "      <td>284315</td>\n",
       "      <td>492</td>\n",
       "    </tr>\n",
       "    <tr>\n",
       "      <th>mean</th>\n",
       "      <td>0</td>\n",
       "      <td>-5</td>\n",
       "    </tr>\n",
       "    <tr>\n",
       "      <th>std</th>\n",
       "      <td>1</td>\n",
       "      <td>4</td>\n",
       "    </tr>\n",
       "    <tr>\n",
       "      <th>min</th>\n",
       "      <td>-14</td>\n",
       "      <td>-24</td>\n",
       "    </tr>\n",
       "    <tr>\n",
       "      <th>25%</th>\n",
       "      <td>0</td>\n",
       "      <td>-7</td>\n",
       "    </tr>\n",
       "    <tr>\n",
       "      <th>50%</th>\n",
       "      <td>0</td>\n",
       "      <td>-4</td>\n",
       "    </tr>\n",
       "    <tr>\n",
       "      <th>75%</th>\n",
       "      <td>0</td>\n",
       "      <td>-2</td>\n",
       "    </tr>\n",
       "    <tr>\n",
       "      <th>max</th>\n",
       "      <td>23</td>\n",
       "      <td>4</td>\n",
       "    </tr>\n",
       "  </tbody>\n",
       "</table>\n",
       "</div>"
      ],
      "text/plain": [
       "       Não Fraude  Fraude\n",
       "count      284315     492\n",
       "mean            0      -5\n",
       "std             1       4\n",
       "min           -14     -24\n",
       "25%             0      -7\n",
       "50%             0      -4\n",
       "75%             0      -2\n",
       "max            23       4"
      ]
     },
     "execution_count": 13,
     "metadata": {},
     "output_type": "execute_result"
    }
   ],
   "source": [
    "s1 = df_nao_fraude['valor'].describe().astype(int)\n",
    "s2 = df_fraude['valor'].describe().astype(int)\n",
    "\n",
    "result = pd.concat([s1, s2], axis=1)\n",
    "result.columns = ['Não Fraude', 'Fraude']\n",
    "\n",
    "df_result = pd.DataFrame(result)\n",
    "df_result"
   ]
  },
  {
   "cell_type": "markdown",
   "id": "3ef7a476",
   "metadata": {},
   "source": [
    "**Nota:**\n",
    "- A média dos valores para transações que não são fraude é zero, enquanto que para transações fraudulentas a média é de -5.\n",
    "- Isso indica que os valores das transações fraudulentas tendem a ser menores do que os valores das transações que não são fraude. A diferença média pode sugerir que os fraudadores estão tentando realizar transações menores para evitar detecção e tornar as transações mais difíceis de serem rastreadas.\n",
    "- O desvio padrão maior para transações fraudulentas pode indicar maior variação nos valores das transações fraudulentas, ou seja, alguns fraudadores podem tentar realizar transações maiores enquanto outros optam por transações menores.\n",
    "- Essas informações podem ser úteis na construção de modelos preditivos para detectar fraudes em transações financeiras.\n",
    "- A presença de valores negativos para transações fraudulentas sugere que essas transações envolvem reembolsos, devoluções, chargebacks ou outras operações semelhantes que resultam em um valor negativo.\n",
    "- Além disso, a maior variabilidade nos valores das transações fraudulentas pode indicar que os fraudadores têm diferentes estratégias para obter lucro, o que resulta em valores variados."
   ]
  },
  {
   "cell_type": "markdown",
   "id": "5edef754",
   "metadata": {},
   "source": [
    "#### <font color='#D2691E'> Qtd_trans: Número de transferências realizadas pela conta bancária"
   ]
  },
  {
   "cell_type": "code",
   "execution_count": 14,
   "id": "f8a3724d",
   "metadata": {
    "ExecuteTime": {
     "end_time": "2023-05-18T15:35:02.040046Z",
     "start_time": "2023-05-18T15:35:01.976053Z"
    }
   },
   "outputs": [
    {
     "data": {
      "text/html": [
       "<div>\n",
       "<style scoped>\n",
       "    .dataframe tbody tr th:only-of-type {\n",
       "        vertical-align: middle;\n",
       "    }\n",
       "\n",
       "    .dataframe tbody tr th {\n",
       "        vertical-align: top;\n",
       "    }\n",
       "\n",
       "    .dataframe thead th {\n",
       "        text-align: right;\n",
       "    }\n",
       "</style>\n",
       "<table border=\"1\" class=\"dataframe\">\n",
       "  <thead>\n",
       "    <tr style=\"text-align: right;\">\n",
       "      <th></th>\n",
       "      <th>Não Fraude</th>\n",
       "      <th>Fraude</th>\n",
       "    </tr>\n",
       "  </thead>\n",
       "  <tbody>\n",
       "    <tr>\n",
       "      <th>count</th>\n",
       "      <td>284315</td>\n",
       "      <td>492</td>\n",
       "    </tr>\n",
       "    <tr>\n",
       "      <th>mean</th>\n",
       "      <td>0</td>\n",
       "      <td>0</td>\n",
       "    </tr>\n",
       "    <tr>\n",
       "      <th>std</th>\n",
       "      <td>0</td>\n",
       "      <td>1</td>\n",
       "    </tr>\n",
       "    <tr>\n",
       "      <th>min</th>\n",
       "      <td>-5</td>\n",
       "      <td>-3</td>\n",
       "    </tr>\n",
       "    <tr>\n",
       "      <th>25%</th>\n",
       "      <td>0</td>\n",
       "      <td>0</td>\n",
       "    </tr>\n",
       "    <tr>\n",
       "      <th>50%</th>\n",
       "      <td>0</td>\n",
       "      <td>0</td>\n",
       "    </tr>\n",
       "    <tr>\n",
       "      <th>75%</th>\n",
       "      <td>0</td>\n",
       "      <td>0</td>\n",
       "    </tr>\n",
       "    <tr>\n",
       "      <th>max</th>\n",
       "      <td>7</td>\n",
       "      <td>2</td>\n",
       "    </tr>\n",
       "  </tbody>\n",
       "</table>\n",
       "</div>"
      ],
      "text/plain": [
       "       Não Fraude  Fraude\n",
       "count      284315     492\n",
       "mean            0       0\n",
       "std             0       1\n",
       "min            -5      -3\n",
       "25%             0       0\n",
       "50%             0       0\n",
       "75%             0       0\n",
       "max             7       2"
      ]
     },
     "execution_count": 14,
     "metadata": {},
     "output_type": "execute_result"
    }
   ],
   "source": [
    "s1 = df_nao_fraude['qtd_trans'].describe().astype(int)\n",
    "s2 = df_fraude['qtd_trans'].describe().astype(int)\n",
    "\n",
    "result = pd.concat([s1, s2], axis=1)\n",
    "result.columns = ['Não Fraude', 'Fraude']\n",
    "\n",
    "df_result = pd.DataFrame(result)\n",
    "df_result"
   ]
  },
  {
   "cell_type": "markdown",
   "id": "3fa94aad",
   "metadata": {},
   "source": [
    "**Nota:**\n",
    "- Se a média e a mediana do número de transferências realizadas pela conta bancária são iguais a zero, isso indica que a maioria das transações não envolve transferências. Além disso, pode ser útil para bancos e instituições financeiras que desejam melhorar sua segurança contra fraudes, já que a análise de transferências pode ser um fator importante na detecção de atividades suspeitas.\n",
    "- O que a informação indica é que a maioria das transações em ambas as categorias (fraude e não fraude) envolvem poucas transferências, já que a mediana (50%) e o terceiro quartil (75%) são iguais a zero.\n",
    "- No entanto, há casos de transações com até 7 transferências (para não fraudes) e 2 transferências (para fraudes), como indicado pelos valores máximos."
   ]
  },
  {
   "cell_type": "markdown",
   "id": "008b6dd1",
   "metadata": {},
   "source": [
    "#### <font color='#D2691E'> CRT: Crédito bancário"
   ]
  },
  {
   "cell_type": "code",
   "execution_count": 15,
   "id": "e4439475",
   "metadata": {
    "ExecuteTime": {
     "end_time": "2023-05-18T15:35:04.049549Z",
     "start_time": "2023-05-18T15:35:03.985577Z"
    }
   },
   "outputs": [
    {
     "data": {
      "text/html": [
       "<div>\n",
       "<style scoped>\n",
       "    .dataframe tbody tr th:only-of-type {\n",
       "        vertical-align: middle;\n",
       "    }\n",
       "\n",
       "    .dataframe tbody tr th {\n",
       "        vertical-align: top;\n",
       "    }\n",
       "\n",
       "    .dataframe thead th {\n",
       "        text-align: right;\n",
       "    }\n",
       "</style>\n",
       "<table border=\"1\" class=\"dataframe\">\n",
       "  <thead>\n",
       "    <tr style=\"text-align: right;\">\n",
       "      <th></th>\n",
       "      <th>Não Fraude</th>\n",
       "      <th>Fraude</th>\n",
       "    </tr>\n",
       "  </thead>\n",
       "  <tbody>\n",
       "    <tr>\n",
       "      <th>count</th>\n",
       "      <td>284315</td>\n",
       "      <td>492</td>\n",
       "    </tr>\n",
       "    <tr>\n",
       "      <th>mean</th>\n",
       "      <td>0</td>\n",
       "      <td>-6</td>\n",
       "    </tr>\n",
       "    <tr>\n",
       "      <th>std</th>\n",
       "      <td>0</td>\n",
       "      <td>4</td>\n",
       "    </tr>\n",
       "    <tr>\n",
       "      <th>min</th>\n",
       "      <td>-18</td>\n",
       "      <td>-19</td>\n",
       "    </tr>\n",
       "    <tr>\n",
       "      <th>25%</th>\n",
       "      <td>0</td>\n",
       "      <td>-9</td>\n",
       "    </tr>\n",
       "    <tr>\n",
       "      <th>50%</th>\n",
       "      <td>0</td>\n",
       "      <td>-6</td>\n",
       "    </tr>\n",
       "    <tr>\n",
       "      <th>75%</th>\n",
       "      <td>0</td>\n",
       "      <td>-4</td>\n",
       "    </tr>\n",
       "    <tr>\n",
       "      <th>max</th>\n",
       "      <td>10</td>\n",
       "      <td>3</td>\n",
       "    </tr>\n",
       "  </tbody>\n",
       "</table>\n",
       "</div>"
      ],
      "text/plain": [
       "       Não Fraude  Fraude\n",
       "count      284315     492\n",
       "mean            0      -6\n",
       "std             0       4\n",
       "min           -18     -19\n",
       "25%             0      -9\n",
       "50%             0      -6\n",
       "75%             0      -4\n",
       "max            10       3"
      ]
     },
     "execution_count": 15,
     "metadata": {},
     "output_type": "execute_result"
    }
   ],
   "source": [
    "s1 = df_nao_fraude['crt'].describe().astype(int)\n",
    "s2 = df_fraude['crt'].describe().astype(int)\n",
    "\n",
    "result = pd.concat([s1, s2], axis=1)\n",
    "result.columns = ['Não Fraude', 'Fraude']\n",
    "\n",
    "df_result = pd.DataFrame(result)\n",
    "df_result"
   ]
  },
  {
   "cell_type": "markdown",
   "id": "3fb4d213",
   "metadata": {},
   "source": [
    "**Nota:**\n",
    "- O resultado da análise descritiva mostra que a média do valor do crédito bancário para as transações que não são fraude é zero, enquanto para as transações fraudulentas é -6. Isso indica que, em média, as transações fraudulentas envolvem um valor mais baixo de crédito bancário do que as transações que não são fraude.\n",
    "- O desvio padrão para as transações fraudulentas é de 4, o que significa que os valores de crédito bancário para as transações fraudulentas tendem a variar mais do que as transações que não são fraude, onde o desvio padrão é zero.\n",
    "- A mediana (50%) do valor do crédito bancário para as transações que não são fraude é zero, enquanto que para transações fraudulentas é -6. Isso indica que as transações fraudulentas tendem a envolver valores de crédito bancário mais baixos do que as transações que não são fraude.\n",
    "- Os valores mínimos e máximos para transações que não são fraude são -18 e 10, respectivamente, enquanto para transações fraudulentas são -19 e 3. Isso sugere que as transações fraudulentas tendem a ter valores mais baixos em CRT em comparação com as transações que não são fraude."
   ]
  },
  {
   "cell_type": "markdown",
   "id": "70411e8c",
   "metadata": {},
   "source": [
    "#### <font color='#D2691E'> Contas: Número de contas vinculadas à conta bancária"
   ]
  },
  {
   "cell_type": "code",
   "execution_count": 16,
   "id": "fae074fc",
   "metadata": {
    "ExecuteTime": {
     "end_time": "2023-05-18T15:35:06.206489Z",
     "start_time": "2023-05-18T15:35:06.134493Z"
    }
   },
   "outputs": [
    {
     "data": {
      "text/html": [
       "<div>\n",
       "<style scoped>\n",
       "    .dataframe tbody tr th:only-of-type {\n",
       "        vertical-align: middle;\n",
       "    }\n",
       "\n",
       "    .dataframe tbody tr th {\n",
       "        vertical-align: top;\n",
       "    }\n",
       "\n",
       "    .dataframe thead th {\n",
       "        text-align: right;\n",
       "    }\n",
       "</style>\n",
       "<table border=\"1\" class=\"dataframe\">\n",
       "  <thead>\n",
       "    <tr style=\"text-align: right;\">\n",
       "      <th></th>\n",
       "      <th>Não Fraude</th>\n",
       "      <th>Fraude</th>\n",
       "    </tr>\n",
       "  </thead>\n",
       "  <tbody>\n",
       "    <tr>\n",
       "      <th>count</th>\n",
       "      <td>284315</td>\n",
       "      <td>492</td>\n",
       "    </tr>\n",
       "    <tr>\n",
       "      <th>mean</th>\n",
       "      <td>0</td>\n",
       "      <td>-2</td>\n",
       "    </tr>\n",
       "    <tr>\n",
       "      <th>std</th>\n",
       "      <td>0</td>\n",
       "      <td>2</td>\n",
       "    </tr>\n",
       "    <tr>\n",
       "      <th>min</th>\n",
       "      <td>-5</td>\n",
       "      <td>-9</td>\n",
       "    </tr>\n",
       "    <tr>\n",
       "      <th>25%</th>\n",
       "      <td>0</td>\n",
       "      <td>-4</td>\n",
       "    </tr>\n",
       "    <tr>\n",
       "      <th>50%</th>\n",
       "      <td>0</td>\n",
       "      <td>-1</td>\n",
       "    </tr>\n",
       "    <tr>\n",
       "      <th>75%</th>\n",
       "      <td>0</td>\n",
       "      <td>0</td>\n",
       "    </tr>\n",
       "    <tr>\n",
       "      <th>max</th>\n",
       "      <td>5</td>\n",
       "      <td>3</td>\n",
       "    </tr>\n",
       "  </tbody>\n",
       "</table>\n",
       "</div>"
      ],
      "text/plain": [
       "       Não Fraude  Fraude\n",
       "count      284315     492\n",
       "mean            0      -2\n",
       "std             0       2\n",
       "min            -5      -9\n",
       "25%             0      -4\n",
       "50%             0      -1\n",
       "75%             0       0\n",
       "max             5       3"
      ]
     },
     "execution_count": 16,
     "metadata": {},
     "output_type": "execute_result"
    }
   ],
   "source": [
    "s1 = df_nao_fraude['contas'].describe().astype(int)\n",
    "s2 = df_fraude['contas'].describe().astype(int)\n",
    "\n",
    "result = pd.concat([s1, s2], axis=1)\n",
    "result.columns = ['Não Fraude', 'Fraude']\n",
    "\n",
    "df_result = pd.DataFrame(result)\n",
    "df_result"
   ]
  },
  {
   "cell_type": "markdown",
   "id": "7f989043",
   "metadata": {},
   "source": [
    "**Nota:**\n",
    "-  O valor máximo é 5 para as transações não fraudulentas e 3 para as fraudulentas, o que indica que algumas transações têm várias contas vinculadas. O desvio padrão é 0 para as transações não fraudulentas e 2 para as fraudulentas, o que indica que as transações fraudulentas têm uma maior variação no número de contas vinculadas."
   ]
  },
  {
   "cell_type": "markdown",
   "id": "7380b2c5",
   "metadata": {},
   "source": [
    "#### <font color='#D2691E'> Empréstimos: Número de empréstimos concedidos à conta bancária"
   ]
  },
  {
   "cell_type": "code",
   "execution_count": 17,
   "id": "00c6150d",
   "metadata": {
    "ExecuteTime": {
     "end_time": "2023-05-18T15:35:08.009204Z",
     "start_time": "2023-05-18T15:35:07.937197Z"
    }
   },
   "outputs": [
    {
     "data": {
      "text/html": [
       "<div>\n",
       "<style scoped>\n",
       "    .dataframe tbody tr th:only-of-type {\n",
       "        vertical-align: middle;\n",
       "    }\n",
       "\n",
       "    .dataframe tbody tr th {\n",
       "        vertical-align: top;\n",
       "    }\n",
       "\n",
       "    .dataframe thead th {\n",
       "        text-align: right;\n",
       "    }\n",
       "</style>\n",
       "<table border=\"1\" class=\"dataframe\">\n",
       "  <thead>\n",
       "    <tr style=\"text-align: right;\">\n",
       "      <th></th>\n",
       "      <th>Não Fraude</th>\n",
       "      <th>Fraude</th>\n",
       "    </tr>\n",
       "  </thead>\n",
       "  <tbody>\n",
       "    <tr>\n",
       "      <th>count</th>\n",
       "      <td>284315</td>\n",
       "      <td>492</td>\n",
       "    </tr>\n",
       "    <tr>\n",
       "      <th>mean</th>\n",
       "      <td>0</td>\n",
       "      <td>0</td>\n",
       "    </tr>\n",
       "    <tr>\n",
       "      <th>std</th>\n",
       "      <td>0</td>\n",
       "      <td>1</td>\n",
       "    </tr>\n",
       "    <tr>\n",
       "      <th>min</th>\n",
       "      <td>-7</td>\n",
       "      <td>-3</td>\n",
       "    </tr>\n",
       "    <tr>\n",
       "      <th>25%</th>\n",
       "      <td>0</td>\n",
       "      <td>0</td>\n",
       "    </tr>\n",
       "    <tr>\n",
       "      <th>50%</th>\n",
       "      <td>0</td>\n",
       "      <td>0</td>\n",
       "    </tr>\n",
       "    <tr>\n",
       "      <th>75%</th>\n",
       "      <td>0</td>\n",
       "      <td>1</td>\n",
       "    </tr>\n",
       "    <tr>\n",
       "      <th>max</th>\n",
       "      <td>5</td>\n",
       "      <td>5</td>\n",
       "    </tr>\n",
       "  </tbody>\n",
       "</table>\n",
       "</div>"
      ],
      "text/plain": [
       "       Não Fraude  Fraude\n",
       "count      284315     492\n",
       "mean            0       0\n",
       "std             0       1\n",
       "min            -7      -3\n",
       "25%             0       0\n",
       "50%             0       0\n",
       "75%             0       1\n",
       "max             5       5"
      ]
     },
     "execution_count": 17,
     "metadata": {},
     "output_type": "execute_result"
    }
   ],
   "source": [
    "s1 = df_nao_fraude['emprestimos'].describe().astype(int)\n",
    "s2 = df_fraude['emprestimos'].describe().astype(int)\n",
    "\n",
    "result = pd.concat([s1, s2], axis=1)\n",
    "result.columns = ['Não Fraude', 'Fraude']\n",
    "\n",
    "df_result = pd.DataFrame(result)\n",
    "df_result"
   ]
  },
  {
   "cell_type": "markdown",
   "id": "3ad5d813",
   "metadata": {},
   "source": [
    "**Nota:**\n",
    "- O desvio padrão (std) é 0 para transações não fraudulentas e 1 para fraudulentas. Isso sugere que a maioria das transações não envolve empréstimos concedidos à conta bancária, mas para as transações fraudulentas, há alguma variabilidade nas observações.\n",
    "- O valor mínimo (min) para transações que não são fraude é -7, enquanto para transações fraudulentas é -3. Indica que houve casos em que empréstimos foram concedidos à conta bancária em transações tanto de fraude quanto não fraude.\n",
    "- O valor máximo (max) para ambas as categorias é 5, o que sugere que, em alguns casos, houve até cinco empréstimos concedidos à conta bancária nas transações.\n",
    "- O primeiro quartil (25%) é 0 para ambas as categorias, o que indica que pelo menos 25% das observações não envolvem empréstimos concedidos à conta bancária. A mediana (50%) é 0 para ambas as categorias, o que significa que metade das observações não envolvem empréstimos concedidos à conta bancária. O terceiro quartil (75%) é 1 para transações fraudulentas, o que indica que pelo menos 75% das observações fraudulentas envolvem um empréstimo concedido à conta bancária."
   ]
  },
  {
   "cell_type": "markdown",
   "id": "e5deaf02",
   "metadata": {},
   "source": [
    "#### <font color='#D2691E'> Compras: Número de compras realizadas pela conta bancária"
   ]
  },
  {
   "cell_type": "code",
   "execution_count": 18,
   "id": "d7a89090",
   "metadata": {
    "ExecuteTime": {
     "end_time": "2023-05-18T15:35:09.800956Z",
     "start_time": "2023-05-18T15:35:09.744961Z"
    }
   },
   "outputs": [
    {
     "data": {
      "text/html": [
       "<div>\n",
       "<style scoped>\n",
       "    .dataframe tbody tr th:only-of-type {\n",
       "        vertical-align: middle;\n",
       "    }\n",
       "\n",
       "    .dataframe tbody tr th {\n",
       "        vertical-align: top;\n",
       "    }\n",
       "\n",
       "    .dataframe thead th {\n",
       "        text-align: right;\n",
       "    }\n",
       "</style>\n",
       "<table border=\"1\" class=\"dataframe\">\n",
       "  <thead>\n",
       "    <tr style=\"text-align: right;\">\n",
       "      <th></th>\n",
       "      <th>Não Fraude</th>\n",
       "      <th>Fraude</th>\n",
       "    </tr>\n",
       "  </thead>\n",
       "  <tbody>\n",
       "    <tr>\n",
       "      <th>count</th>\n",
       "      <td>284315</td>\n",
       "      <td>492</td>\n",
       "    </tr>\n",
       "    <tr>\n",
       "      <th>mean</th>\n",
       "      <td>0</td>\n",
       "      <td>0</td>\n",
       "    </tr>\n",
       "    <tr>\n",
       "      <th>std</th>\n",
       "      <td>0</td>\n",
       "      <td>1</td>\n",
       "    </tr>\n",
       "    <tr>\n",
       "      <th>min</th>\n",
       "      <td>-44</td>\n",
       "      <td>-19</td>\n",
       "    </tr>\n",
       "    <tr>\n",
       "      <th>25%</th>\n",
       "      <td>0</td>\n",
       "      <td>0</td>\n",
       "    </tr>\n",
       "    <tr>\n",
       "      <th>50%</th>\n",
       "      <td>0</td>\n",
       "      <td>0</td>\n",
       "    </tr>\n",
       "    <tr>\n",
       "      <th>75%</th>\n",
       "      <td>0</td>\n",
       "      <td>0</td>\n",
       "    </tr>\n",
       "    <tr>\n",
       "      <th>max</th>\n",
       "      <td>22</td>\n",
       "      <td>5</td>\n",
       "    </tr>\n",
       "  </tbody>\n",
       "</table>\n",
       "</div>"
      ],
      "text/plain": [
       "       Não Fraude  Fraude\n",
       "count      284315     492\n",
       "mean            0       0\n",
       "std             0       1\n",
       "min           -44     -19\n",
       "25%             0       0\n",
       "50%             0       0\n",
       "75%             0       0\n",
       "max            22       5"
      ]
     },
     "execution_count": 18,
     "metadata": {},
     "output_type": "execute_result"
    }
   ],
   "source": [
    "s1 = df_nao_fraude['compras'].describe().astype(int)\n",
    "s2 = df_fraude['compras'].describe().astype(int)\n",
    "\n",
    "result = pd.concat([s1, s2], axis=1)\n",
    "result.columns = ['Não Fraude', 'Fraude']\n",
    "\n",
    "df_result = pd.DataFrame(result)\n",
    "df_result"
   ]
  },
  {
   "cell_type": "markdown",
   "id": "d996f591",
   "metadata": {},
   "source": [
    "**Nota:**\n",
    "- O número médio de compras realizadas pela conta bancária é zero tanto para as transações que são fraudes quanto para as que não são fraudes. Isso significa que, em média, o número de compras realizadas pela conta bancária é baixo e não é um fator muito relevante para determinar se uma transação é fraudulenta ou não.\n",
    "- Além disso, a maioria dos valores é igual a zero (os quartis 25%, 50% e 75% são iguais a zero). Em outras palavras, a maior parte das transações não envolve a realização de compras pela conta bancária.\n",
    "- O valor máximo para compras não fraudulentas é 22, enquanto para transações fraudulentas é 5, indicando que houve casos em que a conta bancária realizou um número relativamente grande de compras, mas muito menos frequentemente do que em casos suspeitos de fraude. O fato de que o valor máximo para transações não fraudulentas é maior do que para transações fraudulentas pode indicar que a conta bancária em questão é usada com mais frequência para transações legítimas, mas ainda pode haver casos em que a atividade é suspeita. É importante considerar outros fatores além do número de compras realizadas ao analisar a suspeita de fraude em transações bancárias."
   ]
  },
  {
   "cell_type": "markdown",
   "id": "2c38dee7",
   "metadata": {},
   "source": [
    "### <font color='#F37126'> 2.2. Explorando as correlações"
   ]
  },
  {
   "cell_type": "code",
   "execution_count": 19,
   "id": "4eb37263",
   "metadata": {
    "ExecuteTime": {
     "end_time": "2023-05-18T15:35:13.536348Z",
     "start_time": "2023-05-18T15:35:11.502387Z"
    }
   },
   "outputs": [
    {
     "data": {
      "text/plain": [
       "Target             1.000000\n",
       "antecedentes       0.154876\n",
       "cep                0.133447\n",
       "cidade             0.091289\n",
       "android            0.040413\n",
       "emprestimos        0.034783\n",
       "navegador          0.020090\n",
       "minuto             0.019875\n",
       "tempo_transacao    0.017580\n",
       "lim_crt            0.009536\n",
       "hist_saldo         0.005632\n",
       "ind_seguranca      0.004455\n",
       "relacionamento     0.003308\n",
       "ios                0.000805\n",
       "compras           -0.002685\n",
       "limite_global     -0.004223\n",
       "qtd_trans         -0.004570\n",
       "hist_navegacao    -0.007221\n",
       "Timestamp         -0.012323\n",
       "dia               -0.043643\n",
       "ip                -0.094974\n",
       "so                -0.097733\n",
       "pais              -0.101347\n",
       "contas            -0.111485\n",
       "hora              -0.187257\n",
       "bairro            -0.192961\n",
       "tipo_crt          -0.196539\n",
       "valor             -0.216883\n",
       "reclamacoes       -0.260593\n",
       "crt               -0.302544\n",
       "estabelecimento   -0.326481\n",
       "Name: Target, dtype: float64"
      ]
     },
     "execution_count": 19,
     "metadata": {},
     "output_type": "execute_result"
    }
   ],
   "source": [
    "# Proxima de 1 - Correlação Possitva [ Ambas Sobem ]\n",
    "# Proxima de -1 - Correlação Negativa [ Uma sobe outra desce ]\n",
    "\n",
    "# Criando um rank das correlações\n",
    "correlations = df.corr()['Target'].sort_values(ascending=False)\n",
    "correlations"
   ]
  },
  {
   "cell_type": "markdown",
   "id": "4b1fb46e",
   "metadata": {},
   "source": [
    "**Nota:**\n",
    "\n",
    "- Podemos observar que algumas variáveis apresentam uma correlação positiva moderada com a variável dependente, como:\n",
    "    - 'antecedentes', 'cep' e 'cidade'. \n",
    "- Por outro lado, algumas variáveis têm uma correlação negativa moderada ou forte, como:\n",
    "    - 'valor', 'reclamações', 'crt' e 'estabelecimento'.\n",
    "- Não há nenhuma correlação que se anule, pois todas as correlações têm valores diferentes de zero. No entanto, algumas correlações podem ser consideradas fracas ou insignificantes, já que seus valores são muito próximos de zero. Por exemplo, a correlação entre 'Target' e 'hist_saldo' é de apenas 0.005632, o que pode indicar uma correlação muito fraca entre essas duas variáveis.\n",
    "\n",
    "É importante destacar que a correlação não implica causalidade, ou seja, a correlação entre duas variáveis não significa necessariamente que uma variável causa a outra."
   ]
  },
  {
   "cell_type": "code",
   "execution_count": 20,
   "id": "de68c345",
   "metadata": {
    "ExecuteTime": {
     "end_time": "2023-05-18T15:35:19.183840Z",
     "start_time": "2023-05-18T15:35:13.536348Z"
    }
   },
   "outputs": [
    {
     "data": {
      "text/html": [
       "<div>\n",
       "<style scoped>\n",
       "    .dataframe tbody tr th:only-of-type {\n",
       "        vertical-align: middle;\n",
       "    }\n",
       "\n",
       "    .dataframe tbody tr th {\n",
       "        vertical-align: top;\n",
       "    }\n",
       "\n",
       "    .dataframe thead th {\n",
       "        text-align: right;\n",
       "    }\n",
       "</style>\n",
       "<table border=\"1\" class=\"dataframe\">\n",
       "  <thead>\n",
       "    <tr style=\"text-align: right;\">\n",
       "      <th></th>\n",
       "      <th>Timestamp</th>\n",
       "      <th>pais</th>\n",
       "      <th>cidade</th>\n",
       "      <th>bairro</th>\n",
       "      <th>cep</th>\n",
       "      <th>ip</th>\n",
       "      <th>dia</th>\n",
       "      <th>hora</th>\n",
       "      <th>minuto</th>\n",
       "      <th>so</th>\n",
       "      <th>valor</th>\n",
       "      <th>antecedentes</th>\n",
       "      <th>reclamacoes</th>\n",
       "      <th>qtd_trans</th>\n",
       "      <th>crt</th>\n",
       "      <th>limite_global</th>\n",
       "      <th>tipo_crt</th>\n",
       "      <th>estabelecimento</th>\n",
       "      <th>contas</th>\n",
       "      <th>emprestimos</th>\n",
       "      <th>navegador</th>\n",
       "      <th>android</th>\n",
       "      <th>ios</th>\n",
       "      <th>compras</th>\n",
       "      <th>hist_navegacao</th>\n",
       "      <th>relacionamento</th>\n",
       "      <th>ind_seguranca</th>\n",
       "      <th>tempo_transacao</th>\n",
       "      <th>lim_crt</th>\n",
       "      <th>hist_saldo</th>\n",
       "      <th>Target</th>\n",
       "    </tr>\n",
       "  </thead>\n",
       "  <tbody>\n",
       "    <tr>\n",
       "      <th>Timestamp</th>\n",
       "      <td>1.000000</td>\n",
       "      <td>0.190647</td>\n",
       "      <td>-0.006419</td>\n",
       "      <td>-0.473348</td>\n",
       "      <td>-0.142156</td>\n",
       "      <td>0.226004</td>\n",
       "      <td>-0.111408</td>\n",
       "      <td>0.116722</td>\n",
       "      <td>-0.103882</td>\n",
       "      <td>0.017986</td>\n",
       "      <td>0.014692</td>\n",
       "      <td>-0.227116</td>\n",
       "      <td>0.073665</td>\n",
       "      <td>-0.045340</td>\n",
       "      <td>-0.092388</td>\n",
       "      <td>-0.205421</td>\n",
       "      <td>0.002415</td>\n",
       "      <td>-0.102351</td>\n",
       "      <td>0.090840</td>\n",
       "      <td>0.025136</td>\n",
       "      <td>-0.120319</td>\n",
       "      <td>0.096564</td>\n",
       "      <td>0.132651</td>\n",
       "      <td>0.148505</td>\n",
       "      <td>-0.015980</td>\n",
       "      <td>-0.259220</td>\n",
       "      <td>0.000132</td>\n",
       "      <td>-0.035063</td>\n",
       "      <td>-0.143200</td>\n",
       "      <td>-0.040007</td>\n",
       "      <td>-0.011692</td>\n",
       "    </tr>\n",
       "    <tr>\n",
       "      <th>pais</th>\n",
       "      <td>0.190647</td>\n",
       "      <td>1.000000</td>\n",
       "      <td>-0.384328</td>\n",
       "      <td>-0.412095</td>\n",
       "      <td>0.101011</td>\n",
       "      <td>-0.106632</td>\n",
       "      <td>-0.086561</td>\n",
       "      <td>-0.227650</td>\n",
       "      <td>-0.236140</td>\n",
       "      <td>0.138614</td>\n",
       "      <td>0.231636</td>\n",
       "      <td>0.013750</td>\n",
       "      <td>0.003095</td>\n",
       "      <td>0.047839</td>\n",
       "      <td>-0.024329</td>\n",
       "      <td>0.030048</td>\n",
       "      <td>0.037791</td>\n",
       "      <td>-0.057902</td>\n",
       "      <td>-0.043565</td>\n",
       "      <td>0.031168</td>\n",
       "      <td>-0.209614</td>\n",
       "      <td>-0.061958</td>\n",
       "      <td>-0.028827</td>\n",
       "      <td>0.145440</td>\n",
       "      <td>-0.000315</td>\n",
       "      <td>0.049291</td>\n",
       "      <td>0.006380</td>\n",
       "      <td>-0.104815</td>\n",
       "      <td>-0.207967</td>\n",
       "      <td>-0.086663</td>\n",
       "      <td>-0.042424</td>\n",
       "    </tr>\n",
       "    <tr>\n",
       "      <th>cidade</th>\n",
       "      <td>-0.006419</td>\n",
       "      <td>-0.384328</td>\n",
       "      <td>1.000000</td>\n",
       "      <td>0.073967</td>\n",
       "      <td>0.155042</td>\n",
       "      <td>0.342701</td>\n",
       "      <td>-0.110393</td>\n",
       "      <td>0.426320</td>\n",
       "      <td>0.006980</td>\n",
       "      <td>-0.077880</td>\n",
       "      <td>-0.212437</td>\n",
       "      <td>-0.013464</td>\n",
       "      <td>0.052846</td>\n",
       "      <td>0.028702</td>\n",
       "      <td>0.088108</td>\n",
       "      <td>0.038186</td>\n",
       "      <td>0.068053</td>\n",
       "      <td>-0.002416</td>\n",
       "      <td>0.011481</td>\n",
       "      <td>0.002082</td>\n",
       "      <td>0.040716</td>\n",
       "      <td>-0.098255</td>\n",
       "      <td>-0.056478</td>\n",
       "      <td>-0.094982</td>\n",
       "      <td>0.012617</td>\n",
       "      <td>-0.085682</td>\n",
       "      <td>0.033865</td>\n",
       "      <td>0.129234</td>\n",
       "      <td>0.137976</td>\n",
       "      <td>-0.502052</td>\n",
       "      <td>0.051062</td>\n",
       "    </tr>\n",
       "    <tr>\n",
       "      <th>bairro</th>\n",
       "      <td>-0.473348</td>\n",
       "      <td>-0.412095</td>\n",
       "      <td>0.073967</td>\n",
       "      <td>1.000000</td>\n",
       "      <td>0.060812</td>\n",
       "      <td>-0.223849</td>\n",
       "      <td>0.171263</td>\n",
       "      <td>-0.074582</td>\n",
       "      <td>0.164374</td>\n",
       "      <td>-0.030876</td>\n",
       "      <td>-0.070960</td>\n",
       "      <td>0.056105</td>\n",
       "      <td>-0.051875</td>\n",
       "      <td>0.006839</td>\n",
       "      <td>-0.130565</td>\n",
       "      <td>0.051314</td>\n",
       "      <td>-0.046590</td>\n",
       "      <td>-0.035420</td>\n",
       "      <td>-0.045167</td>\n",
       "      <td>-0.015326</td>\n",
       "      <td>0.108271</td>\n",
       "      <td>-0.040234</td>\n",
       "      <td>0.004404</td>\n",
       "      <td>-0.140076</td>\n",
       "      <td>-0.000559</td>\n",
       "      <td>0.031854</td>\n",
       "      <td>-0.016689</td>\n",
       "      <td>0.140724</td>\n",
       "      <td>0.180169</td>\n",
       "      <td>-0.000236</td>\n",
       "      <td>-0.059278</td>\n",
       "    </tr>\n",
       "    <tr>\n",
       "      <th>cep</th>\n",
       "      <td>-0.142156</td>\n",
       "      <td>0.101011</td>\n",
       "      <td>0.155042</td>\n",
       "      <td>0.060812</td>\n",
       "      <td>1.000000</td>\n",
       "      <td>0.021367</td>\n",
       "      <td>0.075185</td>\n",
       "      <td>0.059920</td>\n",
       "      <td>-0.009608</td>\n",
       "      <td>0.105248</td>\n",
       "      <td>0.025553</td>\n",
       "      <td>-0.013122</td>\n",
       "      <td>0.147738</td>\n",
       "      <td>-0.024538</td>\n",
       "      <td>0.099464</td>\n",
       "      <td>0.053405</td>\n",
       "      <td>-0.041414</td>\n",
       "      <td>0.049298</td>\n",
       "      <td>0.021175</td>\n",
       "      <td>-0.017866</td>\n",
       "      <td>-0.009598</td>\n",
       "      <td>0.038960</td>\n",
       "      <td>-0.004931</td>\n",
       "      <td>0.009615</td>\n",
       "      <td>-0.008782</td>\n",
       "      <td>0.060647</td>\n",
       "      <td>-0.064357</td>\n",
       "      <td>-0.033634</td>\n",
       "      <td>0.004757</td>\n",
       "      <td>-0.022117</td>\n",
       "      <td>0.063045</td>\n",
       "    </tr>\n",
       "    <tr>\n",
       "      <th>ip</th>\n",
       "      <td>0.226004</td>\n",
       "      <td>-0.106632</td>\n",
       "      <td>0.342701</td>\n",
       "      <td>-0.223849</td>\n",
       "      <td>0.021367</td>\n",
       "      <td>1.000000</td>\n",
       "      <td>-0.007577</td>\n",
       "      <td>0.431573</td>\n",
       "      <td>-0.057022</td>\n",
       "      <td>-0.056580</td>\n",
       "      <td>-0.154910</td>\n",
       "      <td>0.010749</td>\n",
       "      <td>-0.048560</td>\n",
       "      <td>0.019549</td>\n",
       "      <td>0.035107</td>\n",
       "      <td>-0.041029</td>\n",
       "      <td>-0.007564</td>\n",
       "      <td>-0.145735</td>\n",
       "      <td>-0.016252</td>\n",
       "      <td>0.012257</td>\n",
       "      <td>0.056719</td>\n",
       "      <td>-0.040364</td>\n",
       "      <td>-0.010920</td>\n",
       "      <td>-0.108300</td>\n",
       "      <td>-0.023076</td>\n",
       "      <td>-0.015618</td>\n",
       "      <td>0.029513</td>\n",
       "      <td>0.012883</td>\n",
       "      <td>-0.027806</td>\n",
       "      <td>-0.314061</td>\n",
       "      <td>-0.030147</td>\n",
       "    </tr>\n",
       "    <tr>\n",
       "      <th>dia</th>\n",
       "      <td>-0.111408</td>\n",
       "      <td>-0.086561</td>\n",
       "      <td>-0.110393</td>\n",
       "      <td>0.171263</td>\n",
       "      <td>0.075185</td>\n",
       "      <td>-0.007577</td>\n",
       "      <td>1.000000</td>\n",
       "      <td>-0.292680</td>\n",
       "      <td>0.444053</td>\n",
       "      <td>0.028864</td>\n",
       "      <td>0.063326</td>\n",
       "      <td>0.059672</td>\n",
       "      <td>0.037176</td>\n",
       "      <td>-0.004068</td>\n",
       "      <td>-0.068788</td>\n",
       "      <td>-0.046259</td>\n",
       "      <td>-0.020208</td>\n",
       "      <td>-0.027470</td>\n",
       "      <td>0.052293</td>\n",
       "      <td>0.031965</td>\n",
       "      <td>0.052824</td>\n",
       "      <td>0.034595</td>\n",
       "      <td>0.040370</td>\n",
       "      <td>-0.050293</td>\n",
       "      <td>-0.135166</td>\n",
       "      <td>-0.011131</td>\n",
       "      <td>-0.023932</td>\n",
       "      <td>0.073772</td>\n",
       "      <td>0.020459</td>\n",
       "      <td>0.205452</td>\n",
       "      <td>-0.038410</td>\n",
       "    </tr>\n",
       "    <tr>\n",
       "      <th>hora</th>\n",
       "      <td>0.116722</td>\n",
       "      <td>-0.227650</td>\n",
       "      <td>0.426320</td>\n",
       "      <td>-0.074582</td>\n",
       "      <td>0.059920</td>\n",
       "      <td>0.431573</td>\n",
       "      <td>-0.292680</td>\n",
       "      <td>1.000000</td>\n",
       "      <td>-0.389213</td>\n",
       "      <td>-0.100252</td>\n",
       "      <td>-0.207930</td>\n",
       "      <td>0.003714</td>\n",
       "      <td>-0.043924</td>\n",
       "      <td>-0.015749</td>\n",
       "      <td>0.058462</td>\n",
       "      <td>-0.051186</td>\n",
       "      <td>-0.120372</td>\n",
       "      <td>-0.147005</td>\n",
       "      <td>-0.070876</td>\n",
       "      <td>0.000808</td>\n",
       "      <td>0.160522</td>\n",
       "      <td>-0.022250</td>\n",
       "      <td>-0.023750</td>\n",
       "      <td>-0.186343</td>\n",
       "      <td>-0.012879</td>\n",
       "      <td>-0.046468</td>\n",
       "      <td>0.016724</td>\n",
       "      <td>-0.094494</td>\n",
       "      <td>0.056405</td>\n",
       "      <td>-0.030003</td>\n",
       "      <td>-0.048308</td>\n",
       "    </tr>\n",
       "    <tr>\n",
       "      <th>minuto</th>\n",
       "      <td>-0.103882</td>\n",
       "      <td>-0.236140</td>\n",
       "      <td>0.006980</td>\n",
       "      <td>0.164374</td>\n",
       "      <td>-0.009608</td>\n",
       "      <td>-0.057022</td>\n",
       "      <td>0.444053</td>\n",
       "      <td>-0.389213</td>\n",
       "      <td>1.000000</td>\n",
       "      <td>-0.002511</td>\n",
       "      <td>-0.120992</td>\n",
       "      <td>0.053048</td>\n",
       "      <td>0.106016</td>\n",
       "      <td>-0.144864</td>\n",
       "      <td>0.041255</td>\n",
       "      <td>-0.016752</td>\n",
       "      <td>0.089504</td>\n",
       "      <td>0.074985</td>\n",
       "      <td>0.066508</td>\n",
       "      <td>-0.033248</td>\n",
       "      <td>0.006028</td>\n",
       "      <td>0.076569</td>\n",
       "      <td>0.019775</td>\n",
       "      <td>0.075212</td>\n",
       "      <td>-0.024536</td>\n",
       "      <td>-0.074303</td>\n",
       "      <td>-0.007648</td>\n",
       "      <td>0.189916</td>\n",
       "      <td>0.089700</td>\n",
       "      <td>0.004371</td>\n",
       "      <td>0.022706</td>\n",
       "    </tr>\n",
       "    <tr>\n",
       "      <th>so</th>\n",
       "      <td>0.017986</td>\n",
       "      <td>0.138614</td>\n",
       "      <td>-0.077880</td>\n",
       "      <td>-0.030876</td>\n",
       "      <td>0.105248</td>\n",
       "      <td>-0.056580</td>\n",
       "      <td>0.028864</td>\n",
       "      <td>-0.100252</td>\n",
       "      <td>-0.002511</td>\n",
       "      <td>1.000000</td>\n",
       "      <td>-0.291153</td>\n",
       "      <td>-0.031365</td>\n",
       "      <td>0.103193</td>\n",
       "      <td>-0.047521</td>\n",
       "      <td>-0.031144</td>\n",
       "      <td>-0.004438</td>\n",
       "      <td>-0.031735</td>\n",
       "      <td>-0.068576</td>\n",
       "      <td>-0.014809</td>\n",
       "      <td>0.003057</td>\n",
       "      <td>-0.015357</td>\n",
       "      <td>-0.065773</td>\n",
       "      <td>0.001958</td>\n",
       "      <td>0.074164</td>\n",
       "      <td>-0.001572</td>\n",
       "      <td>-0.022575</td>\n",
       "      <td>0.026677</td>\n",
       "      <td>-0.001804</td>\n",
       "      <td>-0.103743</td>\n",
       "      <td>-0.077437</td>\n",
       "      <td>-0.049499</td>\n",
       "    </tr>\n",
       "    <tr>\n",
       "      <th>valor</th>\n",
       "      <td>0.014692</td>\n",
       "      <td>0.231636</td>\n",
       "      <td>-0.212437</td>\n",
       "      <td>-0.070960</td>\n",
       "      <td>0.025553</td>\n",
       "      <td>-0.154910</td>\n",
       "      <td>0.063326</td>\n",
       "      <td>-0.207930</td>\n",
       "      <td>-0.120992</td>\n",
       "      <td>-0.291153</td>\n",
       "      <td>1.000000</td>\n",
       "      <td>0.034302</td>\n",
       "      <td>-0.164351</td>\n",
       "      <td>0.000447</td>\n",
       "      <td>0.004775</td>\n",
       "      <td>-0.027435</td>\n",
       "      <td>-0.055068</td>\n",
       "      <td>-0.147597</td>\n",
       "      <td>-0.053661</td>\n",
       "      <td>0.039552</td>\n",
       "      <td>-0.087240</td>\n",
       "      <td>-0.046775</td>\n",
       "      <td>0.042022</td>\n",
       "      <td>0.077078</td>\n",
       "      <td>-0.007778</td>\n",
       "      <td>-0.016904</td>\n",
       "      <td>-0.026877</td>\n",
       "      <td>-0.020471</td>\n",
       "      <td>-0.130545</td>\n",
       "      <td>0.054835</td>\n",
       "      <td>-0.059564</td>\n",
       "    </tr>\n",
       "    <tr>\n",
       "      <th>antecedentes</th>\n",
       "      <td>-0.227116</td>\n",
       "      <td>0.013750</td>\n",
       "      <td>-0.013464</td>\n",
       "      <td>0.056105</td>\n",
       "      <td>-0.013122</td>\n",
       "      <td>0.010749</td>\n",
       "      <td>0.059672</td>\n",
       "      <td>0.003714</td>\n",
       "      <td>0.053048</td>\n",
       "      <td>-0.031365</td>\n",
       "      <td>0.034302</td>\n",
       "      <td>1.000000</td>\n",
       "      <td>0.196537</td>\n",
       "      <td>-0.035353</td>\n",
       "      <td>0.151355</td>\n",
       "      <td>-0.036396</td>\n",
       "      <td>0.069376</td>\n",
       "      <td>0.073664</td>\n",
       "      <td>0.069107</td>\n",
       "      <td>0.009885</td>\n",
       "      <td>0.042478</td>\n",
       "      <td>-0.001111</td>\n",
       "      <td>0.000753</td>\n",
       "      <td>0.031314</td>\n",
       "      <td>-0.005295</td>\n",
       "      <td>-0.005389</td>\n",
       "      <td>-0.005930</td>\n",
       "      <td>-0.026304</td>\n",
       "      <td>-0.027859</td>\n",
       "      <td>-0.044158</td>\n",
       "      <td>0.060143</td>\n",
       "    </tr>\n",
       "    <tr>\n",
       "      <th>reclamacoes</th>\n",
       "      <td>0.073665</td>\n",
       "      <td>0.003095</td>\n",
       "      <td>0.052846</td>\n",
       "      <td>-0.051875</td>\n",
       "      <td>0.147738</td>\n",
       "      <td>-0.048560</td>\n",
       "      <td>0.037176</td>\n",
       "      <td>-0.043924</td>\n",
       "      <td>0.106016</td>\n",
       "      <td>0.103193</td>\n",
       "      <td>-0.164351</td>\n",
       "      <td>0.196537</td>\n",
       "      <td>1.000000</td>\n",
       "      <td>0.187426</td>\n",
       "      <td>-0.052563</td>\n",
       "      <td>-0.068740</td>\n",
       "      <td>-0.118218</td>\n",
       "      <td>-0.204867</td>\n",
       "      <td>-0.065605</td>\n",
       "      <td>0.019610</td>\n",
       "      <td>0.013717</td>\n",
       "      <td>0.030667</td>\n",
       "      <td>-0.014063</td>\n",
       "      <td>0.081191</td>\n",
       "      <td>-0.001926</td>\n",
       "      <td>0.003252</td>\n",
       "      <td>0.011659</td>\n",
       "      <td>0.028654</td>\n",
       "      <td>-0.007827</td>\n",
       "      <td>-0.038711</td>\n",
       "      <td>-0.062870</td>\n",
       "    </tr>\n",
       "    <tr>\n",
       "      <th>qtd_trans</th>\n",
       "      <td>-0.045340</td>\n",
       "      <td>0.047839</td>\n",
       "      <td>0.028702</td>\n",
       "      <td>0.006839</td>\n",
       "      <td>-0.024538</td>\n",
       "      <td>0.019549</td>\n",
       "      <td>-0.004068</td>\n",
       "      <td>-0.015749</td>\n",
       "      <td>-0.144864</td>\n",
       "      <td>-0.047521</td>\n",
       "      <td>0.000447</td>\n",
       "      <td>-0.035353</td>\n",
       "      <td>0.187426</td>\n",
       "      <td>1.000000</td>\n",
       "      <td>-0.093152</td>\n",
       "      <td>0.014484</td>\n",
       "      <td>0.000260</td>\n",
       "      <td>-0.016981</td>\n",
       "      <td>-0.009849</td>\n",
       "      <td>-0.006247</td>\n",
       "      <td>0.100839</td>\n",
       "      <td>-0.049897</td>\n",
       "      <td>0.006830</td>\n",
       "      <td>0.002265</td>\n",
       "      <td>0.004753</td>\n",
       "      <td>0.002930</td>\n",
       "      <td>-0.003904</td>\n",
       "      <td>0.003783</td>\n",
       "      <td>-0.006607</td>\n",
       "      <td>-0.005677</td>\n",
       "      <td>-0.003653</td>\n",
       "    </tr>\n",
       "    <tr>\n",
       "      <th>crt</th>\n",
       "      <td>-0.092388</td>\n",
       "      <td>-0.024329</td>\n",
       "      <td>0.088108</td>\n",
       "      <td>-0.130565</td>\n",
       "      <td>0.099464</td>\n",
       "      <td>0.035107</td>\n",
       "      <td>-0.068788</td>\n",
       "      <td>0.058462</td>\n",
       "      <td>0.041255</td>\n",
       "      <td>-0.031144</td>\n",
       "      <td>0.004775</td>\n",
       "      <td>0.151355</td>\n",
       "      <td>-0.052563</td>\n",
       "      <td>-0.093152</td>\n",
       "      <td>1.000000</td>\n",
       "      <td>0.019141</td>\n",
       "      <td>-0.127108</td>\n",
       "      <td>-0.165207</td>\n",
       "      <td>-0.027373</td>\n",
       "      <td>0.021479</td>\n",
       "      <td>-0.106410</td>\n",
       "      <td>0.084425</td>\n",
       "      <td>-0.008544</td>\n",
       "      <td>0.016451</td>\n",
       "      <td>-0.022123</td>\n",
       "      <td>0.035528</td>\n",
       "      <td>-0.004562</td>\n",
       "      <td>-0.090996</td>\n",
       "      <td>-0.018130</td>\n",
       "      <td>-0.004950</td>\n",
       "      <td>-0.064613</td>\n",
       "    </tr>\n",
       "    <tr>\n",
       "      <th>limite_global</th>\n",
       "      <td>-0.205421</td>\n",
       "      <td>0.030048</td>\n",
       "      <td>0.038186</td>\n",
       "      <td>0.051314</td>\n",
       "      <td>0.053405</td>\n",
       "      <td>-0.041029</td>\n",
       "      <td>-0.046259</td>\n",
       "      <td>-0.051186</td>\n",
       "      <td>-0.016752</td>\n",
       "      <td>-0.004438</td>\n",
       "      <td>-0.027435</td>\n",
       "      <td>-0.036396</td>\n",
       "      <td>-0.068740</td>\n",
       "      <td>0.014484</td>\n",
       "      <td>0.019141</td>\n",
       "      <td>1.000000</td>\n",
       "      <td>0.013538</td>\n",
       "      <td>-0.023710</td>\n",
       "      <td>0.012898</td>\n",
       "      <td>-0.054607</td>\n",
       "      <td>0.094851</td>\n",
       "      <td>0.031526</td>\n",
       "      <td>0.001714</td>\n",
       "      <td>0.031996</td>\n",
       "      <td>0.022780</td>\n",
       "      <td>0.010777</td>\n",
       "      <td>-0.016134</td>\n",
       "      <td>0.029202</td>\n",
       "      <td>0.038744</td>\n",
       "      <td>-0.071849</td>\n",
       "      <td>-0.002841</td>\n",
       "    </tr>\n",
       "    <tr>\n",
       "      <th>tipo_crt</th>\n",
       "      <td>0.002415</td>\n",
       "      <td>0.037791</td>\n",
       "      <td>0.068053</td>\n",
       "      <td>-0.046590</td>\n",
       "      <td>-0.041414</td>\n",
       "      <td>-0.007564</td>\n",
       "      <td>-0.020208</td>\n",
       "      <td>-0.120372</td>\n",
       "      <td>0.089504</td>\n",
       "      <td>-0.031735</td>\n",
       "      <td>-0.055068</td>\n",
       "      <td>0.069376</td>\n",
       "      <td>-0.118218</td>\n",
       "      <td>0.000260</td>\n",
       "      <td>-0.127108</td>\n",
       "      <td>0.013538</td>\n",
       "      <td>1.000000</td>\n",
       "      <td>-0.237016</td>\n",
       "      <td>0.023421</td>\n",
       "      <td>0.017062</td>\n",
       "      <td>0.176986</td>\n",
       "      <td>0.091734</td>\n",
       "      <td>-0.045050</td>\n",
       "      <td>0.044663</td>\n",
       "      <td>-0.029806</td>\n",
       "      <td>-0.015480</td>\n",
       "      <td>0.042409</td>\n",
       "      <td>-0.046068</td>\n",
       "      <td>-0.010306</td>\n",
       "      <td>-0.106322</td>\n",
       "      <td>-0.049936</td>\n",
       "    </tr>\n",
       "    <tr>\n",
       "      <th>estabelecimento</th>\n",
       "      <td>-0.102351</td>\n",
       "      <td>-0.057902</td>\n",
       "      <td>-0.002416</td>\n",
       "      <td>-0.035420</td>\n",
       "      <td>0.049298</td>\n",
       "      <td>-0.145735</td>\n",
       "      <td>-0.027470</td>\n",
       "      <td>-0.147005</td>\n",
       "      <td>0.074985</td>\n",
       "      <td>-0.068576</td>\n",
       "      <td>-0.147597</td>\n",
       "      <td>0.073664</td>\n",
       "      <td>-0.204867</td>\n",
       "      <td>-0.016981</td>\n",
       "      <td>-0.165207</td>\n",
       "      <td>-0.023710</td>\n",
       "      <td>-0.237016</td>\n",
       "      <td>1.000000</td>\n",
       "      <td>-0.157970</td>\n",
       "      <td>0.045430</td>\n",
       "      <td>-0.017217</td>\n",
       "      <td>-0.009305</td>\n",
       "      <td>0.012551</td>\n",
       "      <td>0.036941</td>\n",
       "      <td>0.052269</td>\n",
       "      <td>0.004485</td>\n",
       "      <td>-0.008512</td>\n",
       "      <td>0.045756</td>\n",
       "      <td>0.064973</td>\n",
       "      <td>0.053967</td>\n",
       "      <td>-0.044335</td>\n",
       "    </tr>\n",
       "    <tr>\n",
       "      <th>contas</th>\n",
       "      <td>0.090840</td>\n",
       "      <td>-0.043565</td>\n",
       "      <td>0.011481</td>\n",
       "      <td>-0.045167</td>\n",
       "      <td>0.021175</td>\n",
       "      <td>-0.016252</td>\n",
       "      <td>0.052293</td>\n",
       "      <td>-0.070876</td>\n",
       "      <td>0.066508</td>\n",
       "      <td>-0.014809</td>\n",
       "      <td>-0.053661</td>\n",
       "      <td>0.069107</td>\n",
       "      <td>-0.065605</td>\n",
       "      <td>-0.009849</td>\n",
       "      <td>-0.027373</td>\n",
       "      <td>0.012898</td>\n",
       "      <td>0.023421</td>\n",
       "      <td>-0.157970</td>\n",
       "      <td>1.000000</td>\n",
       "      <td>-0.004237</td>\n",
       "      <td>-0.106237</td>\n",
       "      <td>0.025895</td>\n",
       "      <td>0.057312</td>\n",
       "      <td>-0.108939</td>\n",
       "      <td>-0.047626</td>\n",
       "      <td>-0.005767</td>\n",
       "      <td>-0.026689</td>\n",
       "      <td>0.020533</td>\n",
       "      <td>0.022941</td>\n",
       "      <td>0.047713</td>\n",
       "      <td>-0.034872</td>\n",
       "    </tr>\n",
       "    <tr>\n",
       "      <th>emprestimos</th>\n",
       "      <td>0.025136</td>\n",
       "      <td>0.031168</td>\n",
       "      <td>0.002082</td>\n",
       "      <td>-0.015326</td>\n",
       "      <td>-0.017866</td>\n",
       "      <td>0.012257</td>\n",
       "      <td>0.031965</td>\n",
       "      <td>0.000808</td>\n",
       "      <td>-0.033248</td>\n",
       "      <td>0.003057</td>\n",
       "      <td>0.039552</td>\n",
       "      <td>0.009885</td>\n",
       "      <td>0.019610</td>\n",
       "      <td>-0.006247</td>\n",
       "      <td>0.021479</td>\n",
       "      <td>-0.054607</td>\n",
       "      <td>0.017062</td>\n",
       "      <td>0.045430</td>\n",
       "      <td>-0.004237</td>\n",
       "      <td>1.000000</td>\n",
       "      <td>0.232867</td>\n",
       "      <td>-0.005717</td>\n",
       "      <td>-0.012338</td>\n",
       "      <td>-0.078460</td>\n",
       "      <td>-0.055560</td>\n",
       "      <td>0.003658</td>\n",
       "      <td>-0.015603</td>\n",
       "      <td>-0.018541</td>\n",
       "      <td>-0.040927</td>\n",
       "      <td>-0.009394</td>\n",
       "      <td>0.022546</td>\n",
       "    </tr>\n",
       "    <tr>\n",
       "      <th>navegador</th>\n",
       "      <td>-0.120319</td>\n",
       "      <td>-0.209614</td>\n",
       "      <td>0.040716</td>\n",
       "      <td>0.108271</td>\n",
       "      <td>-0.009598</td>\n",
       "      <td>0.056719</td>\n",
       "      <td>0.052824</td>\n",
       "      <td>0.160522</td>\n",
       "      <td>0.006028</td>\n",
       "      <td>-0.015357</td>\n",
       "      <td>-0.087240</td>\n",
       "      <td>0.042478</td>\n",
       "      <td>0.013717</td>\n",
       "      <td>0.100839</td>\n",
       "      <td>-0.106410</td>\n",
       "      <td>0.094851</td>\n",
       "      <td>0.176986</td>\n",
       "      <td>-0.017217</td>\n",
       "      <td>-0.106237</td>\n",
       "      <td>0.232867</td>\n",
       "      <td>1.000000</td>\n",
       "      <td>0.114530</td>\n",
       "      <td>0.034381</td>\n",
       "      <td>-0.194834</td>\n",
       "      <td>0.041257</td>\n",
       "      <td>0.044851</td>\n",
       "      <td>0.046991</td>\n",
       "      <td>0.103674</td>\n",
       "      <td>0.275061</td>\n",
       "      <td>0.201151</td>\n",
       "      <td>0.021574</td>\n",
       "    </tr>\n",
       "    <tr>\n",
       "      <th>android</th>\n",
       "      <td>0.096564</td>\n",
       "      <td>-0.061958</td>\n",
       "      <td>-0.098255</td>\n",
       "      <td>-0.040234</td>\n",
       "      <td>0.038960</td>\n",
       "      <td>-0.040364</td>\n",
       "      <td>0.034595</td>\n",
       "      <td>-0.022250</td>\n",
       "      <td>0.076569</td>\n",
       "      <td>-0.065773</td>\n",
       "      <td>-0.046775</td>\n",
       "      <td>-0.001111</td>\n",
       "      <td>0.030667</td>\n",
       "      <td>-0.049897</td>\n",
       "      <td>0.084425</td>\n",
       "      <td>0.031526</td>\n",
       "      <td>0.091734</td>\n",
       "      <td>-0.009305</td>\n",
       "      <td>0.025895</td>\n",
       "      <td>-0.005717</td>\n",
       "      <td>0.114530</td>\n",
       "      <td>1.000000</td>\n",
       "      <td>0.676718</td>\n",
       "      <td>-0.250182</td>\n",
       "      <td>0.031954</td>\n",
       "      <td>0.037247</td>\n",
       "      <td>-0.039867</td>\n",
       "      <td>-0.026841</td>\n",
       "      <td>0.067260</td>\n",
       "      <td>0.194075</td>\n",
       "      <td>0.035442</td>\n",
       "    </tr>\n",
       "    <tr>\n",
       "      <th>ios</th>\n",
       "      <td>0.132651</td>\n",
       "      <td>-0.028827</td>\n",
       "      <td>-0.056478</td>\n",
       "      <td>0.004404</td>\n",
       "      <td>-0.004931</td>\n",
       "      <td>-0.010920</td>\n",
       "      <td>0.040370</td>\n",
       "      <td>-0.023750</td>\n",
       "      <td>0.019775</td>\n",
       "      <td>0.001958</td>\n",
       "      <td>0.042022</td>\n",
       "      <td>0.000753</td>\n",
       "      <td>-0.014063</td>\n",
       "      <td>0.006830</td>\n",
       "      <td>-0.008544</td>\n",
       "      <td>0.001714</td>\n",
       "      <td>-0.045050</td>\n",
       "      <td>0.012551</td>\n",
       "      <td>0.057312</td>\n",
       "      <td>-0.012338</td>\n",
       "      <td>0.034381</td>\n",
       "      <td>0.676718</td>\n",
       "      <td>1.000000</td>\n",
       "      <td>-0.239368</td>\n",
       "      <td>0.014669</td>\n",
       "      <td>0.028557</td>\n",
       "      <td>-0.039765</td>\n",
       "      <td>0.072514</td>\n",
       "      <td>-0.036970</td>\n",
       "      <td>0.080227</td>\n",
       "      <td>0.002083</td>\n",
       "    </tr>\n",
       "    <tr>\n",
       "      <th>compras</th>\n",
       "      <td>0.148505</td>\n",
       "      <td>0.145440</td>\n",
       "      <td>-0.094982</td>\n",
       "      <td>-0.140076</td>\n",
       "      <td>0.009615</td>\n",
       "      <td>-0.108300</td>\n",
       "      <td>-0.050293</td>\n",
       "      <td>-0.186343</td>\n",
       "      <td>0.075212</td>\n",
       "      <td>0.074164</td>\n",
       "      <td>0.077078</td>\n",
       "      <td>0.031314</td>\n",
       "      <td>0.081191</td>\n",
       "      <td>0.002265</td>\n",
       "      <td>0.016451</td>\n",
       "      <td>0.031996</td>\n",
       "      <td>0.044663</td>\n",
       "      <td>0.036941</td>\n",
       "      <td>-0.108939</td>\n",
       "      <td>-0.078460</td>\n",
       "      <td>-0.194834</td>\n",
       "      <td>-0.250182</td>\n",
       "      <td>-0.239368</td>\n",
       "      <td>1.000000</td>\n",
       "      <td>0.097100</td>\n",
       "      <td>-0.425606</td>\n",
       "      <td>-0.002068</td>\n",
       "      <td>0.048683</td>\n",
       "      <td>-0.069365</td>\n",
       "      <td>-0.057364</td>\n",
       "      <td>-0.005017</td>\n",
       "    </tr>\n",
       "    <tr>\n",
       "      <th>hist_navegacao</th>\n",
       "      <td>-0.015980</td>\n",
       "      <td>-0.000315</td>\n",
       "      <td>0.012617</td>\n",
       "      <td>-0.000559</td>\n",
       "      <td>-0.008782</td>\n",
       "      <td>-0.023076</td>\n",
       "      <td>-0.135166</td>\n",
       "      <td>-0.012879</td>\n",
       "      <td>-0.024536</td>\n",
       "      <td>-0.001572</td>\n",
       "      <td>-0.007778</td>\n",
       "      <td>-0.005295</td>\n",
       "      <td>-0.001926</td>\n",
       "      <td>0.004753</td>\n",
       "      <td>-0.022123</td>\n",
       "      <td>0.022780</td>\n",
       "      <td>-0.029806</td>\n",
       "      <td>0.052269</td>\n",
       "      <td>-0.047626</td>\n",
       "      <td>-0.055560</td>\n",
       "      <td>0.041257</td>\n",
       "      <td>0.031954</td>\n",
       "      <td>0.014669</td>\n",
       "      <td>0.097100</td>\n",
       "      <td>1.000000</td>\n",
       "      <td>0.001259</td>\n",
       "      <td>0.005153</td>\n",
       "      <td>-0.036420</td>\n",
       "      <td>0.046572</td>\n",
       "      <td>-0.012550</td>\n",
       "      <td>-0.009188</td>\n",
       "    </tr>\n",
       "    <tr>\n",
       "      <th>relacionamento</th>\n",
       "      <td>-0.259220</td>\n",
       "      <td>0.049291</td>\n",
       "      <td>-0.085682</td>\n",
       "      <td>0.031854</td>\n",
       "      <td>0.060647</td>\n",
       "      <td>-0.015618</td>\n",
       "      <td>-0.011131</td>\n",
       "      <td>-0.046468</td>\n",
       "      <td>-0.074303</td>\n",
       "      <td>-0.022575</td>\n",
       "      <td>-0.016904</td>\n",
       "      <td>-0.005389</td>\n",
       "      <td>0.003252</td>\n",
       "      <td>0.002930</td>\n",
       "      <td>0.035528</td>\n",
       "      <td>0.010777</td>\n",
       "      <td>-0.015480</td>\n",
       "      <td>0.004485</td>\n",
       "      <td>-0.005767</td>\n",
       "      <td>0.003658</td>\n",
       "      <td>0.044851</td>\n",
       "      <td>0.037247</td>\n",
       "      <td>0.028557</td>\n",
       "      <td>-0.425606</td>\n",
       "      <td>0.001259</td>\n",
       "      <td>1.000000</td>\n",
       "      <td>-0.052895</td>\n",
       "      <td>-0.091530</td>\n",
       "      <td>-0.052147</td>\n",
       "      <td>0.023020</td>\n",
       "      <td>0.004682</td>\n",
       "    </tr>\n",
       "    <tr>\n",
       "      <th>ind_seguranca</th>\n",
       "      <td>0.000132</td>\n",
       "      <td>0.006380</td>\n",
       "      <td>0.033865</td>\n",
       "      <td>-0.016689</td>\n",
       "      <td>-0.064357</td>\n",
       "      <td>0.029513</td>\n",
       "      <td>-0.023932</td>\n",
       "      <td>0.016724</td>\n",
       "      <td>-0.007648</td>\n",
       "      <td>0.026677</td>\n",
       "      <td>-0.026877</td>\n",
       "      <td>-0.005930</td>\n",
       "      <td>0.011659</td>\n",
       "      <td>-0.003904</td>\n",
       "      <td>-0.004562</td>\n",
       "      <td>-0.016134</td>\n",
       "      <td>0.042409</td>\n",
       "      <td>-0.008512</td>\n",
       "      <td>-0.026689</td>\n",
       "      <td>-0.015603</td>\n",
       "      <td>0.046991</td>\n",
       "      <td>-0.039867</td>\n",
       "      <td>-0.039765</td>\n",
       "      <td>-0.002068</td>\n",
       "      <td>0.005153</td>\n",
       "      <td>-0.052895</td>\n",
       "      <td>1.000000</td>\n",
       "      <td>-0.163095</td>\n",
       "      <td>-0.021550</td>\n",
       "      <td>-0.066698</td>\n",
       "      <td>0.005466</td>\n",
       "    </tr>\n",
       "    <tr>\n",
       "      <th>tempo_transacao</th>\n",
       "      <td>-0.035063</td>\n",
       "      <td>-0.104815</td>\n",
       "      <td>0.129234</td>\n",
       "      <td>0.140724</td>\n",
       "      <td>-0.033634</td>\n",
       "      <td>0.012883</td>\n",
       "      <td>0.073772</td>\n",
       "      <td>-0.094494</td>\n",
       "      <td>0.189916</td>\n",
       "      <td>-0.001804</td>\n",
       "      <td>-0.020471</td>\n",
       "      <td>-0.026304</td>\n",
       "      <td>0.028654</td>\n",
       "      <td>0.003783</td>\n",
       "      <td>-0.090996</td>\n",
       "      <td>0.029202</td>\n",
       "      <td>-0.046068</td>\n",
       "      <td>0.045756</td>\n",
       "      <td>0.020533</td>\n",
       "      <td>-0.018541</td>\n",
       "      <td>0.103674</td>\n",
       "      <td>-0.026841</td>\n",
       "      <td>0.072514</td>\n",
       "      <td>0.048683</td>\n",
       "      <td>-0.036420</td>\n",
       "      <td>-0.091530</td>\n",
       "      <td>-0.163095</td>\n",
       "      <td>1.000000</td>\n",
       "      <td>0.458497</td>\n",
       "      <td>-0.126824</td>\n",
       "      <td>0.028311</td>\n",
       "    </tr>\n",
       "    <tr>\n",
       "      <th>lim_crt</th>\n",
       "      <td>-0.143200</td>\n",
       "      <td>-0.207967</td>\n",
       "      <td>0.137976</td>\n",
       "      <td>0.180169</td>\n",
       "      <td>0.004757</td>\n",
       "      <td>-0.027806</td>\n",
       "      <td>0.020459</td>\n",
       "      <td>0.056405</td>\n",
       "      <td>0.089700</td>\n",
       "      <td>-0.103743</td>\n",
       "      <td>-0.130545</td>\n",
       "      <td>-0.027859</td>\n",
       "      <td>-0.007827</td>\n",
       "      <td>-0.006607</td>\n",
       "      <td>-0.018130</td>\n",
       "      <td>0.038744</td>\n",
       "      <td>-0.010306</td>\n",
       "      <td>0.064973</td>\n",
       "      <td>0.022941</td>\n",
       "      <td>-0.040927</td>\n",
       "      <td>0.275061</td>\n",
       "      <td>0.067260</td>\n",
       "      <td>-0.036970</td>\n",
       "      <td>-0.069365</td>\n",
       "      <td>0.046572</td>\n",
       "      <td>-0.052147</td>\n",
       "      <td>-0.021550</td>\n",
       "      <td>0.458497</td>\n",
       "      <td>1.000000</td>\n",
       "      <td>0.010416</td>\n",
       "      <td>0.020417</td>\n",
       "    </tr>\n",
       "    <tr>\n",
       "      <th>hist_saldo</th>\n",
       "      <td>-0.040007</td>\n",
       "      <td>-0.086663</td>\n",
       "      <td>-0.502052</td>\n",
       "      <td>-0.000236</td>\n",
       "      <td>-0.022117</td>\n",
       "      <td>-0.314061</td>\n",
       "      <td>0.205452</td>\n",
       "      <td>-0.030003</td>\n",
       "      <td>0.004371</td>\n",
       "      <td>-0.077437</td>\n",
       "      <td>0.054835</td>\n",
       "      <td>-0.044158</td>\n",
       "      <td>-0.038711</td>\n",
       "      <td>-0.005677</td>\n",
       "      <td>-0.004950</td>\n",
       "      <td>-0.071849</td>\n",
       "      <td>-0.106322</td>\n",
       "      <td>0.053967</td>\n",
       "      <td>0.047713</td>\n",
       "      <td>-0.009394</td>\n",
       "      <td>0.201151</td>\n",
       "      <td>0.194075</td>\n",
       "      <td>0.080227</td>\n",
       "      <td>-0.057364</td>\n",
       "      <td>-0.012550</td>\n",
       "      <td>0.023020</td>\n",
       "      <td>-0.066698</td>\n",
       "      <td>-0.126824</td>\n",
       "      <td>0.010416</td>\n",
       "      <td>1.000000</td>\n",
       "      <td>-0.008339</td>\n",
       "    </tr>\n",
       "    <tr>\n",
       "      <th>Target</th>\n",
       "      <td>-0.011692</td>\n",
       "      <td>-0.042424</td>\n",
       "      <td>0.051062</td>\n",
       "      <td>-0.059278</td>\n",
       "      <td>0.063045</td>\n",
       "      <td>-0.030147</td>\n",
       "      <td>-0.038410</td>\n",
       "      <td>-0.048308</td>\n",
       "      <td>0.022706</td>\n",
       "      <td>-0.049499</td>\n",
       "      <td>-0.059564</td>\n",
       "      <td>0.060143</td>\n",
       "      <td>-0.062870</td>\n",
       "      <td>-0.003653</td>\n",
       "      <td>-0.064613</td>\n",
       "      <td>-0.002841</td>\n",
       "      <td>-0.049936</td>\n",
       "      <td>-0.044335</td>\n",
       "      <td>-0.034872</td>\n",
       "      <td>0.022546</td>\n",
       "      <td>0.021574</td>\n",
       "      <td>0.035442</td>\n",
       "      <td>0.002083</td>\n",
       "      <td>-0.005017</td>\n",
       "      <td>-0.009188</td>\n",
       "      <td>0.004682</td>\n",
       "      <td>0.005466</td>\n",
       "      <td>0.028311</td>\n",
       "      <td>0.020417</td>\n",
       "      <td>-0.008339</td>\n",
       "      <td>1.000000</td>\n",
       "    </tr>\n",
       "  </tbody>\n",
       "</table>\n",
       "</div>"
      ],
      "text/plain": [
       "                 Timestamp      pais    cidade    bairro       cep        ip  \\\n",
       "Timestamp         1.000000  0.190647 -0.006419 -0.473348 -0.142156  0.226004   \n",
       "pais              0.190647  1.000000 -0.384328 -0.412095  0.101011 -0.106632   \n",
       "cidade           -0.006419 -0.384328  1.000000  0.073967  0.155042  0.342701   \n",
       "bairro           -0.473348 -0.412095  0.073967  1.000000  0.060812 -0.223849   \n",
       "cep              -0.142156  0.101011  0.155042  0.060812  1.000000  0.021367   \n",
       "ip                0.226004 -0.106632  0.342701 -0.223849  0.021367  1.000000   \n",
       "dia              -0.111408 -0.086561 -0.110393  0.171263  0.075185 -0.007577   \n",
       "hora              0.116722 -0.227650  0.426320 -0.074582  0.059920  0.431573   \n",
       "minuto           -0.103882 -0.236140  0.006980  0.164374 -0.009608 -0.057022   \n",
       "so                0.017986  0.138614 -0.077880 -0.030876  0.105248 -0.056580   \n",
       "valor             0.014692  0.231636 -0.212437 -0.070960  0.025553 -0.154910   \n",
       "antecedentes     -0.227116  0.013750 -0.013464  0.056105 -0.013122  0.010749   \n",
       "reclamacoes       0.073665  0.003095  0.052846 -0.051875  0.147738 -0.048560   \n",
       "qtd_trans        -0.045340  0.047839  0.028702  0.006839 -0.024538  0.019549   \n",
       "crt              -0.092388 -0.024329  0.088108 -0.130565  0.099464  0.035107   \n",
       "limite_global    -0.205421  0.030048  0.038186  0.051314  0.053405 -0.041029   \n",
       "tipo_crt          0.002415  0.037791  0.068053 -0.046590 -0.041414 -0.007564   \n",
       "estabelecimento  -0.102351 -0.057902 -0.002416 -0.035420  0.049298 -0.145735   \n",
       "contas            0.090840 -0.043565  0.011481 -0.045167  0.021175 -0.016252   \n",
       "emprestimos       0.025136  0.031168  0.002082 -0.015326 -0.017866  0.012257   \n",
       "navegador        -0.120319 -0.209614  0.040716  0.108271 -0.009598  0.056719   \n",
       "android           0.096564 -0.061958 -0.098255 -0.040234  0.038960 -0.040364   \n",
       "ios               0.132651 -0.028827 -0.056478  0.004404 -0.004931 -0.010920   \n",
       "compras           0.148505  0.145440 -0.094982 -0.140076  0.009615 -0.108300   \n",
       "hist_navegacao   -0.015980 -0.000315  0.012617 -0.000559 -0.008782 -0.023076   \n",
       "relacionamento   -0.259220  0.049291 -0.085682  0.031854  0.060647 -0.015618   \n",
       "ind_seguranca     0.000132  0.006380  0.033865 -0.016689 -0.064357  0.029513   \n",
       "tempo_transacao  -0.035063 -0.104815  0.129234  0.140724 -0.033634  0.012883   \n",
       "lim_crt          -0.143200 -0.207967  0.137976  0.180169  0.004757 -0.027806   \n",
       "hist_saldo       -0.040007 -0.086663 -0.502052 -0.000236 -0.022117 -0.314061   \n",
       "Target           -0.011692 -0.042424  0.051062 -0.059278  0.063045 -0.030147   \n",
       "\n",
       "                      dia      hora    minuto        so     valor  \\\n",
       "Timestamp       -0.111408  0.116722 -0.103882  0.017986  0.014692   \n",
       "pais            -0.086561 -0.227650 -0.236140  0.138614  0.231636   \n",
       "cidade          -0.110393  0.426320  0.006980 -0.077880 -0.212437   \n",
       "bairro           0.171263 -0.074582  0.164374 -0.030876 -0.070960   \n",
       "cep              0.075185  0.059920 -0.009608  0.105248  0.025553   \n",
       "ip              -0.007577  0.431573 -0.057022 -0.056580 -0.154910   \n",
       "dia              1.000000 -0.292680  0.444053  0.028864  0.063326   \n",
       "hora            -0.292680  1.000000 -0.389213 -0.100252 -0.207930   \n",
       "minuto           0.444053 -0.389213  1.000000 -0.002511 -0.120992   \n",
       "so               0.028864 -0.100252 -0.002511  1.000000 -0.291153   \n",
       "valor            0.063326 -0.207930 -0.120992 -0.291153  1.000000   \n",
       "antecedentes     0.059672  0.003714  0.053048 -0.031365  0.034302   \n",
       "reclamacoes      0.037176 -0.043924  0.106016  0.103193 -0.164351   \n",
       "qtd_trans       -0.004068 -0.015749 -0.144864 -0.047521  0.000447   \n",
       "crt             -0.068788  0.058462  0.041255 -0.031144  0.004775   \n",
       "limite_global   -0.046259 -0.051186 -0.016752 -0.004438 -0.027435   \n",
       "tipo_crt        -0.020208 -0.120372  0.089504 -0.031735 -0.055068   \n",
       "estabelecimento -0.027470 -0.147005  0.074985 -0.068576 -0.147597   \n",
       "contas           0.052293 -0.070876  0.066508 -0.014809 -0.053661   \n",
       "emprestimos      0.031965  0.000808 -0.033248  0.003057  0.039552   \n",
       "navegador        0.052824  0.160522  0.006028 -0.015357 -0.087240   \n",
       "android          0.034595 -0.022250  0.076569 -0.065773 -0.046775   \n",
       "ios              0.040370 -0.023750  0.019775  0.001958  0.042022   \n",
       "compras         -0.050293 -0.186343  0.075212  0.074164  0.077078   \n",
       "hist_navegacao  -0.135166 -0.012879 -0.024536 -0.001572 -0.007778   \n",
       "relacionamento  -0.011131 -0.046468 -0.074303 -0.022575 -0.016904   \n",
       "ind_seguranca   -0.023932  0.016724 -0.007648  0.026677 -0.026877   \n",
       "tempo_transacao  0.073772 -0.094494  0.189916 -0.001804 -0.020471   \n",
       "lim_crt          0.020459  0.056405  0.089700 -0.103743 -0.130545   \n",
       "hist_saldo       0.205452 -0.030003  0.004371 -0.077437  0.054835   \n",
       "Target          -0.038410 -0.048308  0.022706 -0.049499 -0.059564   \n",
       "\n",
       "                 antecedentes  reclamacoes  qtd_trans       crt  \\\n",
       "Timestamp           -0.227116     0.073665  -0.045340 -0.092388   \n",
       "pais                 0.013750     0.003095   0.047839 -0.024329   \n",
       "cidade              -0.013464     0.052846   0.028702  0.088108   \n",
       "bairro               0.056105    -0.051875   0.006839 -0.130565   \n",
       "cep                 -0.013122     0.147738  -0.024538  0.099464   \n",
       "ip                   0.010749    -0.048560   0.019549  0.035107   \n",
       "dia                  0.059672     0.037176  -0.004068 -0.068788   \n",
       "hora                 0.003714    -0.043924  -0.015749  0.058462   \n",
       "minuto               0.053048     0.106016  -0.144864  0.041255   \n",
       "so                  -0.031365     0.103193  -0.047521 -0.031144   \n",
       "valor                0.034302    -0.164351   0.000447  0.004775   \n",
       "antecedentes         1.000000     0.196537  -0.035353  0.151355   \n",
       "reclamacoes          0.196537     1.000000   0.187426 -0.052563   \n",
       "qtd_trans           -0.035353     0.187426   1.000000 -0.093152   \n",
       "crt                  0.151355    -0.052563  -0.093152  1.000000   \n",
       "limite_global       -0.036396    -0.068740   0.014484  0.019141   \n",
       "tipo_crt             0.069376    -0.118218   0.000260 -0.127108   \n",
       "estabelecimento      0.073664    -0.204867  -0.016981 -0.165207   \n",
       "contas               0.069107    -0.065605  -0.009849 -0.027373   \n",
       "emprestimos          0.009885     0.019610  -0.006247  0.021479   \n",
       "navegador            0.042478     0.013717   0.100839 -0.106410   \n",
       "android             -0.001111     0.030667  -0.049897  0.084425   \n",
       "ios                  0.000753    -0.014063   0.006830 -0.008544   \n",
       "compras              0.031314     0.081191   0.002265  0.016451   \n",
       "hist_navegacao      -0.005295    -0.001926   0.004753 -0.022123   \n",
       "relacionamento      -0.005389     0.003252   0.002930  0.035528   \n",
       "ind_seguranca       -0.005930     0.011659  -0.003904 -0.004562   \n",
       "tempo_transacao     -0.026304     0.028654   0.003783 -0.090996   \n",
       "lim_crt             -0.027859    -0.007827  -0.006607 -0.018130   \n",
       "hist_saldo          -0.044158    -0.038711  -0.005677 -0.004950   \n",
       "Target               0.060143    -0.062870  -0.003653 -0.064613   \n",
       "\n",
       "                 limite_global  tipo_crt  estabelecimento    contas  \\\n",
       "Timestamp            -0.205421  0.002415        -0.102351  0.090840   \n",
       "pais                  0.030048  0.037791        -0.057902 -0.043565   \n",
       "cidade                0.038186  0.068053        -0.002416  0.011481   \n",
       "bairro                0.051314 -0.046590        -0.035420 -0.045167   \n",
       "cep                   0.053405 -0.041414         0.049298  0.021175   \n",
       "ip                   -0.041029 -0.007564        -0.145735 -0.016252   \n",
       "dia                  -0.046259 -0.020208        -0.027470  0.052293   \n",
       "hora                 -0.051186 -0.120372        -0.147005 -0.070876   \n",
       "minuto               -0.016752  0.089504         0.074985  0.066508   \n",
       "so                   -0.004438 -0.031735        -0.068576 -0.014809   \n",
       "valor                -0.027435 -0.055068        -0.147597 -0.053661   \n",
       "antecedentes         -0.036396  0.069376         0.073664  0.069107   \n",
       "reclamacoes          -0.068740 -0.118218        -0.204867 -0.065605   \n",
       "qtd_trans             0.014484  0.000260        -0.016981 -0.009849   \n",
       "crt                   0.019141 -0.127108        -0.165207 -0.027373   \n",
       "limite_global         1.000000  0.013538        -0.023710  0.012898   \n",
       "tipo_crt              0.013538  1.000000        -0.237016  0.023421   \n",
       "estabelecimento      -0.023710 -0.237016         1.000000 -0.157970   \n",
       "contas                0.012898  0.023421        -0.157970  1.000000   \n",
       "emprestimos          -0.054607  0.017062         0.045430 -0.004237   \n",
       "navegador             0.094851  0.176986        -0.017217 -0.106237   \n",
       "android               0.031526  0.091734        -0.009305  0.025895   \n",
       "ios                   0.001714 -0.045050         0.012551  0.057312   \n",
       "compras               0.031996  0.044663         0.036941 -0.108939   \n",
       "hist_navegacao        0.022780 -0.029806         0.052269 -0.047626   \n",
       "relacionamento        0.010777 -0.015480         0.004485 -0.005767   \n",
       "ind_seguranca        -0.016134  0.042409        -0.008512 -0.026689   \n",
       "tempo_transacao       0.029202 -0.046068         0.045756  0.020533   \n",
       "lim_crt               0.038744 -0.010306         0.064973  0.022941   \n",
       "hist_saldo           -0.071849 -0.106322         0.053967  0.047713   \n",
       "Target               -0.002841 -0.049936        -0.044335 -0.034872   \n",
       "\n",
       "                 emprestimos  navegador   android       ios   compras  \\\n",
       "Timestamp           0.025136  -0.120319  0.096564  0.132651  0.148505   \n",
       "pais                0.031168  -0.209614 -0.061958 -0.028827  0.145440   \n",
       "cidade              0.002082   0.040716 -0.098255 -0.056478 -0.094982   \n",
       "bairro             -0.015326   0.108271 -0.040234  0.004404 -0.140076   \n",
       "cep                -0.017866  -0.009598  0.038960 -0.004931  0.009615   \n",
       "ip                  0.012257   0.056719 -0.040364 -0.010920 -0.108300   \n",
       "dia                 0.031965   0.052824  0.034595  0.040370 -0.050293   \n",
       "hora                0.000808   0.160522 -0.022250 -0.023750 -0.186343   \n",
       "minuto             -0.033248   0.006028  0.076569  0.019775  0.075212   \n",
       "so                  0.003057  -0.015357 -0.065773  0.001958  0.074164   \n",
       "valor               0.039552  -0.087240 -0.046775  0.042022  0.077078   \n",
       "antecedentes        0.009885   0.042478 -0.001111  0.000753  0.031314   \n",
       "reclamacoes         0.019610   0.013717  0.030667 -0.014063  0.081191   \n",
       "qtd_trans          -0.006247   0.100839 -0.049897  0.006830  0.002265   \n",
       "crt                 0.021479  -0.106410  0.084425 -0.008544  0.016451   \n",
       "limite_global      -0.054607   0.094851  0.031526  0.001714  0.031996   \n",
       "tipo_crt            0.017062   0.176986  0.091734 -0.045050  0.044663   \n",
       "estabelecimento     0.045430  -0.017217 -0.009305  0.012551  0.036941   \n",
       "contas             -0.004237  -0.106237  0.025895  0.057312 -0.108939   \n",
       "emprestimos         1.000000   0.232867 -0.005717 -0.012338 -0.078460   \n",
       "navegador           0.232867   1.000000  0.114530  0.034381 -0.194834   \n",
       "android            -0.005717   0.114530  1.000000  0.676718 -0.250182   \n",
       "ios                -0.012338   0.034381  0.676718  1.000000 -0.239368   \n",
       "compras            -0.078460  -0.194834 -0.250182 -0.239368  1.000000   \n",
       "hist_navegacao     -0.055560   0.041257  0.031954  0.014669  0.097100   \n",
       "relacionamento      0.003658   0.044851  0.037247  0.028557 -0.425606   \n",
       "ind_seguranca      -0.015603   0.046991 -0.039867 -0.039765 -0.002068   \n",
       "tempo_transacao    -0.018541   0.103674 -0.026841  0.072514  0.048683   \n",
       "lim_crt            -0.040927   0.275061  0.067260 -0.036970 -0.069365   \n",
       "hist_saldo         -0.009394   0.201151  0.194075  0.080227 -0.057364   \n",
       "Target              0.022546   0.021574  0.035442  0.002083 -0.005017   \n",
       "\n",
       "                 hist_navegacao  relacionamento  ind_seguranca  \\\n",
       "Timestamp             -0.015980       -0.259220       0.000132   \n",
       "pais                  -0.000315        0.049291       0.006380   \n",
       "cidade                 0.012617       -0.085682       0.033865   \n",
       "bairro                -0.000559        0.031854      -0.016689   \n",
       "cep                   -0.008782        0.060647      -0.064357   \n",
       "ip                    -0.023076       -0.015618       0.029513   \n",
       "dia                   -0.135166       -0.011131      -0.023932   \n",
       "hora                  -0.012879       -0.046468       0.016724   \n",
       "minuto                -0.024536       -0.074303      -0.007648   \n",
       "so                    -0.001572       -0.022575       0.026677   \n",
       "valor                 -0.007778       -0.016904      -0.026877   \n",
       "antecedentes          -0.005295       -0.005389      -0.005930   \n",
       "reclamacoes           -0.001926        0.003252       0.011659   \n",
       "qtd_trans              0.004753        0.002930      -0.003904   \n",
       "crt                   -0.022123        0.035528      -0.004562   \n",
       "limite_global          0.022780        0.010777      -0.016134   \n",
       "tipo_crt              -0.029806       -0.015480       0.042409   \n",
       "estabelecimento        0.052269        0.004485      -0.008512   \n",
       "contas                -0.047626       -0.005767      -0.026689   \n",
       "emprestimos           -0.055560        0.003658      -0.015603   \n",
       "navegador              0.041257        0.044851       0.046991   \n",
       "android                0.031954        0.037247      -0.039867   \n",
       "ios                    0.014669        0.028557      -0.039765   \n",
       "compras                0.097100       -0.425606      -0.002068   \n",
       "hist_navegacao         1.000000        0.001259       0.005153   \n",
       "relacionamento         0.001259        1.000000      -0.052895   \n",
       "ind_seguranca          0.005153       -0.052895       1.000000   \n",
       "tempo_transacao       -0.036420       -0.091530      -0.163095   \n",
       "lim_crt                0.046572       -0.052147      -0.021550   \n",
       "hist_saldo            -0.012550        0.023020      -0.066698   \n",
       "Target                -0.009188        0.004682       0.005466   \n",
       "\n",
       "                 tempo_transacao   lim_crt  hist_saldo    Target  \n",
       "Timestamp              -0.035063 -0.143200   -0.040007 -0.011692  \n",
       "pais                   -0.104815 -0.207967   -0.086663 -0.042424  \n",
       "cidade                  0.129234  0.137976   -0.502052  0.051062  \n",
       "bairro                  0.140724  0.180169   -0.000236 -0.059278  \n",
       "cep                    -0.033634  0.004757   -0.022117  0.063045  \n",
       "ip                      0.012883 -0.027806   -0.314061 -0.030147  \n",
       "dia                     0.073772  0.020459    0.205452 -0.038410  \n",
       "hora                   -0.094494  0.056405   -0.030003 -0.048308  \n",
       "minuto                  0.189916  0.089700    0.004371  0.022706  \n",
       "so                     -0.001804 -0.103743   -0.077437 -0.049499  \n",
       "valor                  -0.020471 -0.130545    0.054835 -0.059564  \n",
       "antecedentes           -0.026304 -0.027859   -0.044158  0.060143  \n",
       "reclamacoes             0.028654 -0.007827   -0.038711 -0.062870  \n",
       "qtd_trans               0.003783 -0.006607   -0.005677 -0.003653  \n",
       "crt                    -0.090996 -0.018130   -0.004950 -0.064613  \n",
       "limite_global           0.029202  0.038744   -0.071849 -0.002841  \n",
       "tipo_crt               -0.046068 -0.010306   -0.106322 -0.049936  \n",
       "estabelecimento         0.045756  0.064973    0.053967 -0.044335  \n",
       "contas                  0.020533  0.022941    0.047713 -0.034872  \n",
       "emprestimos            -0.018541 -0.040927   -0.009394  0.022546  \n",
       "navegador               0.103674  0.275061    0.201151  0.021574  \n",
       "android                -0.026841  0.067260    0.194075  0.035442  \n",
       "ios                     0.072514 -0.036970    0.080227  0.002083  \n",
       "compras                 0.048683 -0.069365   -0.057364 -0.005017  \n",
       "hist_navegacao         -0.036420  0.046572   -0.012550 -0.009188  \n",
       "relacionamento         -0.091530 -0.052147    0.023020  0.004682  \n",
       "ind_seguranca          -0.163095 -0.021550   -0.066698  0.005466  \n",
       "tempo_transacao         1.000000  0.458497   -0.126824  0.028311  \n",
       "lim_crt                 0.458497  1.000000    0.010416  0.020417  \n",
       "hist_saldo             -0.126824  0.010416    1.000000 -0.008339  \n",
       "Target                  0.028311  0.020417   -0.008339  1.000000  "
      ]
     },
     "execution_count": 20,
     "metadata": {},
     "output_type": "execute_result"
    }
   ],
   "source": [
    "# Matriz de correlações (correlação entre todas as variáveis númericas)\n",
    "df.corr(method='spearman')"
   ]
  },
  {
   "cell_type": "markdown",
   "id": "38ef6493",
   "metadata": {},
   "source": [
    "**Nota:**\n",
    "<p>Se duas variáveis têm um alto grau de correlação, ou seja, se elas estão altamente correlacionadas, você pode considerar a possibilidade de remover uma delas do modelo para evitar multicolinearidade.</p>\n",
    "\n",
    "    Multicolinearidade é um fenômeno em que duas ou mais variáveis independentes no modelo estão altamente correlacionadas entre si, o que pode levar a resultados imprecisos e dificultar a interpretação dos coeficientes.\n",
    "\n",
    "No entanto, você deve considerar cuidadosamente a exclusão de uma variável, pois isso pode afetar a capacidade do modelo de fazer previsões precisas. Se a remoção da variável afetar significativamente a precisão do modelo, é melhor mantê-la. "
   ]
  },
  {
   "cell_type": "markdown",
   "id": "dbb737b0",
   "metadata": {},
   "source": [
    "# <font color='red'> 5 - PRÉ-PROCESSAMENTO"
   ]
  },
  {
   "cell_type": "markdown",
   "id": "f48387f2",
   "metadata": {},
   "source": [
    "### <font color='#F37126'> 5.1. Separação do conjunto de dados"
   ]
  },
  {
   "cell_type": "code",
   "execution_count": 21,
   "id": "6b1a0fc4",
   "metadata": {
    "ExecuteTime": {
     "end_time": "2023-05-18T15:35:21.192416Z",
     "start_time": "2023-05-18T15:35:21.120404Z"
    }
   },
   "outputs": [],
   "source": [
    "# Separando os dados para treinamento e teste da máquina preditiva\n",
    "X = df.drop(['Target'], axis=1)\n",
    "y = df['Target']"
   ]
  },
  {
   "cell_type": "code",
   "execution_count": 22,
   "id": "1a440080",
   "metadata": {
    "ExecuteTime": {
     "end_time": "2023-05-18T15:35:22.540212Z",
     "start_time": "2023-05-18T15:35:22.140228Z"
    }
   },
   "outputs": [],
   "source": [
    "# Separação entre Treino e Teste\n",
    "X_train, X_test, y_train, y_test = train_test_split( X, y, \n",
    "                                                       test_size=0.2, \n",
    "                                                       random_state=42,\n",
    "                                                       stratify=y)"
   ]
  },
  {
   "cell_type": "code",
   "execution_count": 23,
   "id": "ade17ecf",
   "metadata": {
    "ExecuteTime": {
     "end_time": "2023-05-18T15:35:23.415315Z",
     "start_time": "2023-05-18T15:35:23.215332Z"
    }
   },
   "outputs": [],
   "source": [
    "# Separação entre Treino e validação\n",
    "X_train, X_val, y_train, y_val = train_test_split( X_train, y_train, \n",
    "                                                     test_size=0.2, \n",
    "                                                     random_state=42)"
   ]
  },
  {
   "cell_type": "code",
   "execution_count": 24,
   "id": "2fcc1199",
   "metadata": {
    "ExecuteTime": {
     "end_time": "2023-05-18T15:35:24.091867Z",
     "start_time": "2023-05-18T15:35:24.067869Z"
    }
   },
   "outputs": [],
   "source": [
    "# Dicionário - Original\n",
    "d_orig = {'Treino': X.shape,\n",
    "        'Teste': y.shape}\n",
    "\n",
    "# Dicionário - Treino\n",
    "d_tr = {'Treino': X_train.shape,\n",
    "        'Teste': y_train.shape}\n",
    "\n",
    "# Dicionário - Validação\n",
    "d_val = {'Treino': X_val.shape,\n",
    "        'Teste': y_val.shape}\n",
    "\n",
    "# Dicionário - Teste\n",
    "d_test = {'Treino': X_test.shape,\n",
    "        'Teste': y_test.shape}"
   ]
  },
  {
   "cell_type": "code",
   "execution_count": 25,
   "id": "6ea2c960",
   "metadata": {
    "ExecuteTime": {
     "end_time": "2023-05-18T15:35:25.749171Z",
     "start_time": "2023-05-18T15:35:25.733173Z"
    }
   },
   "outputs": [],
   "source": [
    "# Gerando o DataFrame com todos os valores de todos os modelos treinados\n",
    "df_aux = pd.DataFrame({'Dados Original':pd.Series(d_orig),\n",
    "                       'Dados Treino':pd.Series(d_tr),\n",
    "                       'Dados Validação':pd.Series(d_val),\n",
    "                       'Dados Teste':pd.Series(d_test)})"
   ]
  },
  {
   "cell_type": "code",
   "execution_count": 26,
   "id": "7e026d71",
   "metadata": {
    "ExecuteTime": {
     "end_time": "2023-05-18T15:35:26.936592Z",
     "start_time": "2023-05-18T15:35:26.904591Z"
    },
    "scrolled": true
   },
   "outputs": [
    {
     "data": {
      "text/html": [
       "<div>\n",
       "<style scoped>\n",
       "    .dataframe tbody tr th:only-of-type {\n",
       "        vertical-align: middle;\n",
       "    }\n",
       "\n",
       "    .dataframe tbody tr th {\n",
       "        vertical-align: top;\n",
       "    }\n",
       "\n",
       "    .dataframe thead th {\n",
       "        text-align: right;\n",
       "    }\n",
       "</style>\n",
       "<table border=\"1\" class=\"dataframe\">\n",
       "  <thead>\n",
       "    <tr style=\"text-align: right;\">\n",
       "      <th></th>\n",
       "      <th>Dados Original</th>\n",
       "      <th>Dados Treino</th>\n",
       "      <th>Dados Validação</th>\n",
       "      <th>Dados Teste</th>\n",
       "    </tr>\n",
       "  </thead>\n",
       "  <tbody>\n",
       "    <tr>\n",
       "      <th>Treino</th>\n",
       "      <td>(284807, 30)</td>\n",
       "      <td>(182276, 30)</td>\n",
       "      <td>(45569, 30)</td>\n",
       "      <td>(56962, 30)</td>\n",
       "    </tr>\n",
       "    <tr>\n",
       "      <th>Teste</th>\n",
       "      <td>(284807,)</td>\n",
       "      <td>(182276,)</td>\n",
       "      <td>(45569,)</td>\n",
       "      <td>(56962,)</td>\n",
       "    </tr>\n",
       "  </tbody>\n",
       "</table>\n",
       "</div>"
      ],
      "text/plain": [
       "       Dados Original  Dados Treino Dados Validação  Dados Teste\n",
       "Treino   (284807, 30)  (182276, 30)     (45569, 30)  (56962, 30)\n",
       "Teste       (284807,)     (182276,)        (45569,)     (56962,)"
      ]
     },
     "metadata": {},
     "output_type": "display_data"
    }
   ],
   "source": [
    "display(df_aux)"
   ]
  },
  {
   "cell_type": "markdown",
   "id": "0954adef",
   "metadata": {},
   "source": [
    "### <font color='#F37126'> 5.2. Balanceamento dos dados"
   ]
  },
  {
   "cell_type": "code",
   "execution_count": 27,
   "id": "4b2cbaf4",
   "metadata": {
    "ExecuteTime": {
     "end_time": "2023-05-18T15:35:29.340251Z",
     "start_time": "2023-05-18T15:35:29.316238Z"
    }
   },
   "outputs": [],
   "source": [
    "#Balanceamento da Classe (Target)\n",
    "smt = SMOTE()"
   ]
  },
  {
   "cell_type": "code",
   "execution_count": 28,
   "id": "55ee8d20",
   "metadata": {
    "ExecuteTime": {
     "end_time": "2023-05-18T15:35:32.124458Z",
     "start_time": "2023-05-18T15:35:31.252504Z"
    }
   },
   "outputs": [],
   "source": [
    "X, y = smt.fit_resample(X_train, y_train)"
   ]
  },
  {
   "cell_type": "code",
   "execution_count": 29,
   "id": "4bbe66af",
   "metadata": {
    "ExecuteTime": {
     "end_time": "2023-05-18T15:35:32.628466Z",
     "start_time": "2023-05-18T15:35:32.588443Z"
    }
   },
   "outputs": [
    {
     "name": "stdout",
     "output_type": "stream",
     "text": [
      "   Target  Target\n",
      "0  181950  50.00%\n",
      "1  181950  50.00%\n"
     ]
    }
   ],
   "source": [
    "aux1 = y.value_counts()\n",
    "aux2 = (y.value_counts(normalize=True) * 100).apply(lambda x: f\"{x:.2f}%\")\n",
    "\n",
    "result = pd.concat([aux1,aux2],axis=1)\n",
    "\n",
    "print(result)"
   ]
  },
  {
   "cell_type": "code",
   "execution_count": 30,
   "id": "dd26f01c",
   "metadata": {
    "ExecuteTime": {
     "end_time": "2023-05-18T15:35:35.645277Z",
     "start_time": "2023-05-18T15:35:34.925316Z"
    }
   },
   "outputs": [
    {
     "data": {
      "image/png": "[encoded data removed]",
      "text/plain": [
       "<Figure size 720x360 with 2 Axes>"
      ]
     },
     "metadata": {},
     "output_type": "display_data"
    }
   ],
   "source": [
    "# Visualizando graficamente\n",
    "plt.figure(figsize=(10,5))\n",
    "\n",
    "sns.color_palette(\"Blues\", as_cmap=True)\n",
    "Blues_palette = sns.color_palette(\"Blues\",10)\n",
    "\n",
    "# Para que o título não fique cortado na figura.\n",
    "plt.subplots_adjust(top=0.9)\n",
    "# Título\n",
    "plt.suptitle('Distribuição do % da variável alvo após SMOTE',fontsize=20, fontweight='bold', color='blue', y=1.00)\n",
    "\n",
    "plt.subplot(1,2,1)\n",
    "y.value_counts().plot.bar()\n",
    "\n",
    "plt.gca().spines[\"top\"].set_visible(False)  # remover borda superior\n",
    "plt.gca().spines[\"right\"].set_visible(False)  # remover borda direita\n",
    "plt.gca().spines[\"left\"].set_visible(False)  # remover borda esquerda\n",
    "\n",
    "plt.subplot(1,2,2)\n",
    "y.value_counts().plot.pie(explode=[0,0.1],autopct='%1.1f%%',shadow=True,\n",
    "                                             colors=[Blues_palette[1],Blues_palette[3]])\n",
    "\n",
    "plt.savefig('DistribuicaoTargetSMOTE.png', bbox_inches='tight')\n",
    "\n",
    "plt.show()"
   ]
  },
  {
   "cell_type": "markdown",
   "id": "aa832cf2",
   "metadata": {
    "ExecuteTime": {
     "end_time": "2023-05-04T12:32:38.624599Z",
     "start_time": "2023-05-04T12:32:38.611603Z"
    }
   },
   "source": [
    "### <font color='#F37126'> 5.3. Seleção de Variáveis"
   ]
  },
  {
   "cell_type": "code",
   "execution_count": 31,
   "id": "f6abbff8",
   "metadata": {
    "ExecuteTime": {
     "end_time": "2023-05-12T18:06:28.382826Z",
     "start_time": "2023-05-12T18:06:28.371834Z"
    }
   },
   "outputs": [],
   "source": [
    "# Construtor do Modelo\n",
    "clf = RandomForestClassifier()"
   ]
  },
  {
   "cell_type": "code",
   "execution_count": 32,
   "id": "6582749f",
   "metadata": {
    "ExecuteTime": {
     "end_time": "2023-05-12T18:12:58.527735Z",
     "start_time": "2023-05-12T18:06:28.387821Z"
    }
   },
   "outputs": [],
   "source": [
    "# Ajustando o modelo aos dados\n",
    "clf = clf.fit(X_train, y_train)"
   ]
  },
  {
   "cell_type": "code",
   "execution_count": 33,
   "id": "14f1276b",
   "metadata": {
    "ExecuteTime": {
     "end_time": "2023-05-12T18:12:58.543723Z",
     "start_time": "2023-05-12T18:12:58.530734Z"
    }
   },
   "outputs": [
    {
     "data": {
      "text/plain": [
       "((182276, 30), (182276,))"
      ]
     },
     "execution_count": 33,
     "metadata": {},
     "output_type": "execute_result"
    }
   ],
   "source": [
    "X_train.shape, y_train.shape"
   ]
  },
  {
   "cell_type": "code",
   "execution_count": 34,
   "id": "dee2bfdb",
   "metadata": {
    "ExecuteTime": {
     "end_time": "2023-05-12T18:13:00.381375Z",
     "start_time": "2023-05-12T18:12:58.549720Z"
    }
   },
   "outputs": [
    {
     "data": {
      "image/png": "[encoded data removed]",
      "text/plain": [
       "<Figure size 720x360 with 1 Axes>"
      ]
     },
     "metadata": {},
     "output_type": "display_data"
    }
   ],
   "source": [
    "# Exibindo a importancia de cada variavel no modelo preditivo (escolhe as melhore variáveis)\n",
    "plt.rcParams[\"figure.figsize\"] = [10, 5]\n",
    "plt.rcParams[\"figure.autolayout\"] = True\n",
    "\n",
    "importances = pd.Series(data=clf.feature_importances_, index=X.columns)\n",
    "importances = importances.sort_values(ascending = False)\n",
    "sns.barplot(x=importances, y=importances.index, orient='h')\n",
    "plt.title('Importância de cada variável', fontsize=16)\n",
    "plt.xlabel('Importância')\n",
    "plt.ylabel('Variáveis')\n",
    "\n",
    "# definindo o tamanho da fonte dos rótulos do eixo x e y\n",
    "plt.xticks(fontsize=12)\n",
    "plt.yticks(fontsize=12)\n",
    "\n",
    "# Salvando a imagem\n",
    "plt.savefig('Imagens/Importancia_de_cada_variavel.png', dpi=300, bbox_inches='tight')\n",
    "\n",
    "plt.show()"
   ]
  },
  {
   "cell_type": "code",
   "execution_count": 35,
   "id": "52b58d73",
   "metadata": {
    "ExecuteTime": {
     "end_time": "2023-05-12T18:13:00.413293Z",
     "start_time": "2023-05-12T18:13:00.387373Z"
    }
   },
   "outputs": [
    {
     "data": {
      "text/plain": [
       "estabelecimento    0.159282\n",
       "reclamacoes        0.120033\n",
       "crt                0.105586\n",
       "antecedentes       0.087037\n",
       "tipo_crt           0.079191\n",
       "valor              0.078905\n",
       "contas             0.043463\n",
       "cep                0.035276\n",
       "so                 0.029423\n",
       "hora               0.025161\n",
       "ind_seguranca      0.017454\n",
       "android            0.016129\n",
       "bairro             0.015627\n",
       "pais               0.014813\n",
       "ip                 0.014185\n",
       "Timestamp          0.013382\n",
       "navegador          0.012620\n",
       "ios                0.012074\n",
       "limite_global      0.011727\n",
       "qtd_trans          0.011463\n",
       "cidade             0.011303\n",
       "emprestimos        0.011239\n",
       "tempo_transacao    0.011139\n",
       "minuto             0.010631\n",
       "hist_saldo         0.009944\n",
       "dia                0.009876\n",
       "relacionamento     0.009339\n",
       "lim_crt            0.009195\n",
       "hist_navegacao     0.007431\n",
       "compras            0.007070\n",
       "dtype: float64"
      ]
     },
     "execution_count": 35,
     "metadata": {},
     "output_type": "execute_result"
    }
   ],
   "source": [
    "# Radom forest - classificação das melhores variáveis\n",
    "importances.sort_values(ascending = False)"
   ]
  },
  {
   "cell_type": "markdown",
   "id": "9512835b",
   "metadata": {},
   "source": [
    "**Nota:**\n",
    "\n",
    "- No exemplo apresentado, a variável \"estabelecimento\" foi considerada a mais importante para o modelo, seguida de \"reclamações\" e \"crt\". Por outro lado, \"compras\" e \"relacionamento\" foram consideradas as variáveis menos importantes.\n",
    "- Por outro lado, \"compras\" e \"relacionamento\" foram consideradas as variáveis menos importantes.\n",
    "\n",
    "A interpretação das importâncias pode ser usada para selecionar as melhores variáveis para serem utilizadas no modelo final, removendo aquelas que não contribuem significativamente para a previsão da variável alvo, o que pode levar a um modelo mais simples e com melhor desempenho."
   ]
  },
  {
   "cell_type": "code",
   "execution_count": 36,
   "id": "c68da78a",
   "metadata": {
    "ExecuteTime": {
     "end_time": "2023-05-12T18:13:00.429249Z",
     "start_time": "2023-05-12T18:13:00.416257Z"
    }
   },
   "outputs": [],
   "source": [
    "# Selecao de features\n",
    "def Selecao_Features( X_train, y_train, k ):\n",
    "    \n",
    "    # Configurar para selecionar as features\n",
    "    Selecao = SelectKBest( score_func=mutual_info_regression, k=k )\n",
    "\n",
    "    # Fitar o aprendizado\n",
    "    Selecao.fit( X_train, y_train )\n",
    "\n",
    "    # Criar um dicionário com as informações das colunas e scores\n",
    "    dict_scores = {'feature': X_train.columns, 'score': Selecao.scores_}\n",
    "\n",
    "    # Transformar o dicionário em um DataFrame e ordenar as colunas por score\n",
    "    df_scores = pd.DataFrame(dict_scores).sort_values(by='score', ascending=False)\n",
    "    \n",
    "    return df_scores"
   ]
  },
  {
   "cell_type": "code",
   "execution_count": 37,
   "id": "90a0e190",
   "metadata": {
    "ExecuteTime": {
     "end_time": "2023-05-12T18:16:09.291770Z",
     "start_time": "2023-05-12T18:13:00.435245Z"
    },
    "scrolled": false
   },
   "outputs": [
    {
     "data": {
      "text/html": [
       "<div>\n",
       "<style scoped>\n",
       "    .dataframe tbody tr th:only-of-type {\n",
       "        vertical-align: middle;\n",
       "    }\n",
       "\n",
       "    .dataframe tbody tr th {\n",
       "        vertical-align: top;\n",
       "    }\n",
       "\n",
       "    .dataframe thead th {\n",
       "        text-align: right;\n",
       "    }\n",
       "</style>\n",
       "<table border=\"1\" class=\"dataframe\">\n",
       "  <thead>\n",
       "    <tr style=\"text-align: right;\">\n",
       "      <th></th>\n",
       "      <th>feature</th>\n",
       "      <th>score</th>\n",
       "    </tr>\n",
       "  </thead>\n",
       "  <tbody>\n",
       "    <tr>\n",
       "      <th>14</th>\n",
       "      <td>crt</td>\n",
       "      <td>0.008539</td>\n",
       "    </tr>\n",
       "    <tr>\n",
       "      <th>17</th>\n",
       "      <td>estabelecimento</td>\n",
       "      <td>0.008509</td>\n",
       "    </tr>\n",
       "    <tr>\n",
       "      <th>10</th>\n",
       "      <td>valor</td>\n",
       "      <td>0.007968</td>\n",
       "    </tr>\n",
       "    <tr>\n",
       "      <th>12</th>\n",
       "      <td>reclamacoes</td>\n",
       "      <td>0.007796</td>\n",
       "    </tr>\n",
       "    <tr>\n",
       "      <th>11</th>\n",
       "      <td>antecedentes</td>\n",
       "      <td>0.007118</td>\n",
       "    </tr>\n",
       "    <tr>\n",
       "      <th>16</th>\n",
       "      <td>tipo_crt</td>\n",
       "      <td>0.006280</td>\n",
       "    </tr>\n",
       "    <tr>\n",
       "      <th>4</th>\n",
       "      <td>cep</td>\n",
       "      <td>0.005331</td>\n",
       "    </tr>\n",
       "    <tr>\n",
       "      <th>3</th>\n",
       "      <td>bairro</td>\n",
       "      <td>0.005204</td>\n",
       "    </tr>\n",
       "    <tr>\n",
       "      <th>9</th>\n",
       "      <td>so</td>\n",
       "      <td>0.004863</td>\n",
       "    </tr>\n",
       "    <tr>\n",
       "      <th>18</th>\n",
       "      <td>contas</td>\n",
       "      <td>0.004834</td>\n",
       "    </tr>\n",
       "    <tr>\n",
       "      <th>7</th>\n",
       "      <td>hora</td>\n",
       "      <td>0.004439</td>\n",
       "    </tr>\n",
       "    <tr>\n",
       "      <th>2</th>\n",
       "      <td>cidade</td>\n",
       "      <td>0.003466</td>\n",
       "    </tr>\n",
       "    <tr>\n",
       "      <th>29</th>\n",
       "      <td>hist_saldo</td>\n",
       "      <td>0.003202</td>\n",
       "    </tr>\n",
       "    <tr>\n",
       "      <th>6</th>\n",
       "      <td>dia</td>\n",
       "      <td>0.002518</td>\n",
       "    </tr>\n",
       "    <tr>\n",
       "      <th>27</th>\n",
       "      <td>tempo_transacao</td>\n",
       "      <td>0.002492</td>\n",
       "    </tr>\n",
       "    <tr>\n",
       "      <th>5</th>\n",
       "      <td>ip</td>\n",
       "      <td>0.002432</td>\n",
       "    </tr>\n",
       "    <tr>\n",
       "      <th>21</th>\n",
       "      <td>android</td>\n",
       "      <td>0.002431</td>\n",
       "    </tr>\n",
       "    <tr>\n",
       "      <th>1</th>\n",
       "      <td>pais</td>\n",
       "      <td>0.002183</td>\n",
       "    </tr>\n",
       "    <tr>\n",
       "      <th>28</th>\n",
       "      <td>lim_crt</td>\n",
       "      <td>0.001972</td>\n",
       "    </tr>\n",
       "    <tr>\n",
       "      <th>8</th>\n",
       "      <td>minuto</td>\n",
       "      <td>0.001798</td>\n",
       "    </tr>\n",
       "    <tr>\n",
       "      <th>19</th>\n",
       "      <td>emprestimos</td>\n",
       "      <td>0.001470</td>\n",
       "    </tr>\n",
       "    <tr>\n",
       "      <th>0</th>\n",
       "      <td>Timestamp</td>\n",
       "      <td>0.001266</td>\n",
       "    </tr>\n",
       "    <tr>\n",
       "      <th>20</th>\n",
       "      <td>navegador</td>\n",
       "      <td>0.001241</td>\n",
       "    </tr>\n",
       "    <tr>\n",
       "      <th>24</th>\n",
       "      <td>hist_navegacao</td>\n",
       "      <td>0.000764</td>\n",
       "    </tr>\n",
       "    <tr>\n",
       "      <th>23</th>\n",
       "      <td>compras</td>\n",
       "      <td>0.000759</td>\n",
       "    </tr>\n",
       "    <tr>\n",
       "      <th>25</th>\n",
       "      <td>relacionamento</td>\n",
       "      <td>0.000624</td>\n",
       "    </tr>\n",
       "    <tr>\n",
       "      <th>26</th>\n",
       "      <td>ind_seguranca</td>\n",
       "      <td>0.000464</td>\n",
       "    </tr>\n",
       "    <tr>\n",
       "      <th>13</th>\n",
       "      <td>qtd_trans</td>\n",
       "      <td>0.000364</td>\n",
       "    </tr>\n",
       "    <tr>\n",
       "      <th>15</th>\n",
       "      <td>limite_global</td>\n",
       "      <td>0.000351</td>\n",
       "    </tr>\n",
       "    <tr>\n",
       "      <th>22</th>\n",
       "      <td>ios</td>\n",
       "      <td>0.000287</td>\n",
       "    </tr>\n",
       "  </tbody>\n",
       "</table>\n",
       "</div>"
      ],
      "text/plain": [
       "            feature     score\n",
       "14              crt  0.008539\n",
       "17  estabelecimento  0.008509\n",
       "10            valor  0.007968\n",
       "12      reclamacoes  0.007796\n",
       "11     antecedentes  0.007118\n",
       "16         tipo_crt  0.006280\n",
       "4               cep  0.005331\n",
       "3            bairro  0.005204\n",
       "9                so  0.004863\n",
       "18           contas  0.004834\n",
       "7              hora  0.004439\n",
       "2            cidade  0.003466\n",
       "29       hist_saldo  0.003202\n",
       "6               dia  0.002518\n",
       "27  tempo_transacao  0.002492\n",
       "5                ip  0.002432\n",
       "21          android  0.002431\n",
       "1              pais  0.002183\n",
       "28          lim_crt  0.001972\n",
       "8            minuto  0.001798\n",
       "19      emprestimos  0.001470\n",
       "0         Timestamp  0.001266\n",
       "20        navegador  0.001241\n",
       "24   hist_navegacao  0.000764\n",
       "23          compras  0.000759\n",
       "25   relacionamento  0.000624\n",
       "26    ind_seguranca  0.000464\n",
       "13        qtd_trans  0.000364\n",
       "15    limite_global  0.000351\n",
       "22              ios  0.000287"
      ]
     },
     "execution_count": 37,
     "metadata": {},
     "output_type": "execute_result"
    }
   ],
   "source": [
    "# Aplicar a função Selecao_Features\n",
    "df_scores = Selecao_Features(X_train, y_train, k=5)\n",
    "\n",
    "# Exibir o DataFrame\n",
    "df_scores"
   ]
  },
  {
   "cell_type": "code",
   "execution_count": 38,
   "id": "f3857d64",
   "metadata": {
    "ExecuteTime": {
     "end_time": "2023-05-12T18:16:11.147913Z",
     "start_time": "2023-05-12T18:16:09.296765Z"
    }
   },
   "outputs": [
    {
     "data": {
      "image/png": "[encoded data removed]",
      "text/plain": [
       "<Figure size 720x360 with 1 Axes>"
      ]
     },
     "metadata": {},
     "output_type": "display_data"
    }
   ],
   "source": [
    "plt.rcParams[\"figure.figsize\"] = [10, 5]\n",
    "plt.rcParams[\"figure.autolayout\"] = True\n",
    "\n",
    "# Plotar o gráfico de barras horizontais\n",
    "sns.set_theme(style=\"whitegrid\")\n",
    "sns.barplot(x=\"score\", y=\"feature\", data=df_scores, palette=\"Blues_d\")\n",
    "plt.title('Relevância das features', fontsize=16)\n",
    "plt.xlabel('Score')\n",
    "plt.ylabel('Feature')\n",
    "\n",
    "# definindo o tamanho da fonte dos rótulos do eixo x e y\n",
    "plt.xticks(fontsize=12)\n",
    "plt.yticks(fontsize=12)\n",
    "\n",
    "# Salvando a imagem\n",
    "plt.savefig('Imagens/Relevancia_de_cada_variavel.png', dpi=300, bbox_inches='tight')\n",
    "\n",
    "plt.show()"
   ]
  },
  {
   "cell_type": "markdown",
   "id": "b8e39c53",
   "metadata": {},
   "source": [
    "**Nota:**\n",
    "- Quanto maior o score, maior a importância da variável.\n",
    "- Nesse caso, foi utilizado o método de seleção univariada SelectKBest com o critério de informação mútua para selecionar as melhores k variáveis (k=5 nesse exemplo). As cinco variáveis mais importantes de acordo com o critério utilizado foram 'estabelecimento', 'crt', 'valor', 'reclamacoes' e 'antecedentes'. As outras variáveis tiveram scores menores e, portanto, menor importância para a variável-alvo.\n",
    "- Como todas as features tem a presença de algum valor, então vamos manter todas no modelo de aprendizado, se o valor fosse, por exemplo: 0.000000001, então iria remover."
   ]
  },
  {
   "cell_type": "markdown",
   "id": "2ed6248b",
   "metadata": {},
   "source": [
    "# <font color='red'> 6 - TREINAMENTO ALGORITMOS DE MACHINE LEARNING"
   ]
  },
  {
   "cell_type": "markdown",
   "id": "19118f6b",
   "metadata": {},
   "source": [
    "### <font color='#F37126'> 6.1. XGBoost Regressor"
   ]
  },
  {
   "cell_type": "code",
   "execution_count": 39,
   "id": "2a16f242",
   "metadata": {
    "ExecuteTime": {
     "end_time": "2023-05-12T18:17:37.264444Z",
     "start_time": "2023-05-12T18:16:11.152910Z"
    }
   },
   "outputs": [],
   "source": [
    "# Criar a variável do algoritmo\n",
    "model_xgb = xgb.XGBClassifier()\n",
    "# Treinamento\n",
    "model_xgb.fit(X_train, y_train)\n",
    "# Avaliar a performance\n",
    "yhat_xgb = model_xgb.predict( X_val )"
   ]
  },
  {
   "cell_type": "markdown",
   "id": "577d5f78",
   "metadata": {},
   "source": [
    "**Avaliando a Máquina Preditiva**"
   ]
  },
  {
   "cell_type": "code",
   "execution_count": 40,
   "id": "30482939",
   "metadata": {
    "ExecuteTime": {
     "end_time": "2023-05-12T18:17:37.296427Z",
     "start_time": "2023-05-12T18:17:37.268443Z"
    }
   },
   "outputs": [
    {
     "data": {
      "text/html": [
       "<div>\n",
       "<style scoped>\n",
       "    .dataframe tbody tr th:only-of-type {\n",
       "        vertical-align: middle;\n",
       "    }\n",
       "\n",
       "    .dataframe tbody tr th {\n",
       "        vertical-align: top;\n",
       "    }\n",
       "\n",
       "    .dataframe thead th {\n",
       "        text-align: right;\n",
       "    }\n",
       "</style>\n",
       "<table border=\"1\" class=\"dataframe\">\n",
       "  <thead>\n",
       "    <tr style=\"text-align: right;\">\n",
       "      <th></th>\n",
       "      <th>Gabarito</th>\n",
       "      <th>Previsoes_da_Máquina</th>\n",
       "    </tr>\n",
       "  </thead>\n",
       "  <tbody>\n",
       "    <tr>\n",
       "      <th>155622</th>\n",
       "      <td>0</td>\n",
       "      <td>0</td>\n",
       "    </tr>\n",
       "    <tr>\n",
       "      <th>53990</th>\n",
       "      <td>0</td>\n",
       "      <td>0</td>\n",
       "    </tr>\n",
       "    <tr>\n",
       "      <th>181215</th>\n",
       "      <td>0</td>\n",
       "      <td>0</td>\n",
       "    </tr>\n",
       "    <tr>\n",
       "      <th>200943</th>\n",
       "      <td>0</td>\n",
       "      <td>0</td>\n",
       "    </tr>\n",
       "    <tr>\n",
       "      <th>200353</th>\n",
       "      <td>0</td>\n",
       "      <td>0</td>\n",
       "    </tr>\n",
       "    <tr>\n",
       "      <th>...</th>\n",
       "      <td>...</td>\n",
       "      <td>...</td>\n",
       "    </tr>\n",
       "    <tr>\n",
       "      <th>176661</th>\n",
       "      <td>0</td>\n",
       "      <td>0</td>\n",
       "    </tr>\n",
       "    <tr>\n",
       "      <th>189002</th>\n",
       "      <td>0</td>\n",
       "      <td>0</td>\n",
       "    </tr>\n",
       "    <tr>\n",
       "      <th>240841</th>\n",
       "      <td>0</td>\n",
       "      <td>0</td>\n",
       "    </tr>\n",
       "    <tr>\n",
       "      <th>41929</th>\n",
       "      <td>0</td>\n",
       "      <td>0</td>\n",
       "    </tr>\n",
       "    <tr>\n",
       "      <th>128869</th>\n",
       "      <td>0</td>\n",
       "      <td>0</td>\n",
       "    </tr>\n",
       "  </tbody>\n",
       "</table>\n",
       "<p>45569 rows × 2 columns</p>\n",
       "</div>"
      ],
      "text/plain": [
       "        Gabarito  Previsoes_da_Máquina\n",
       "155622         0                     0\n",
       "53990          0                     0\n",
       "181215         0                     0\n",
       "200943         0                     0\n",
       "200353         0                     0\n",
       "...          ...                   ...\n",
       "176661         0                     0\n",
       "189002         0                     0\n",
       "240841         0                     0\n",
       "41929          0                     0\n",
       "128869         0                     0\n",
       "\n",
       "[45569 rows x 2 columns]"
      ]
     },
     "execution_count": 40,
     "metadata": {},
     "output_type": "execute_result"
    }
   ],
   "source": [
    "# Comparando gabarito e Previsoes_da_Máquina\n",
    "gabarito = pd.DataFrame({'Gabarito': y_val,'Previsoes_da_Máquina': yhat_xgb})\n",
    "gabarito"
   ]
  },
  {
   "cell_type": "code",
   "execution_count": 41,
   "id": "5bf61cc6",
   "metadata": {
    "ExecuteTime": {
     "end_time": "2023-05-12T18:17:37.440093Z",
     "start_time": "2023-05-12T18:17:37.301428Z"
    },
    "scrolled": true
   },
   "outputs": [
    {
     "name": "stdout",
     "output_type": "stream",
     "text": [
      "Classification metrics: \n",
      "               precision    recall  f1-score   support\n",
      "\n",
      "           0       1.00      1.00      1.00     45501\n",
      "           1       0.93      0.74      0.82        68\n",
      "\n",
      "    accuracy                           1.00     45569\n",
      "   macro avg       0.96      0.87      0.91     45569\n",
      "weighted avg       1.00      1.00      1.00     45569\n",
      "\n",
      "Confusion Matrix: \n",
      " [[45497     4]\n",
      " [   18    50]]\n",
      "Acurácia: 0.9995172156509908\n"
     ]
    }
   ],
   "source": [
    "# Resultado em porcentagem\n",
    "print('Classification metrics: \\n', classification_report(y_val, yhat_xgb))\n",
    "# Matriz de confusão\n",
    "print('Confusion Matrix: \\n', confusion_matrix(y_val, yhat_xgb))\n",
    "# Acurácia\n",
    "print('Acurácia:', accuracy_score(y_val, yhat_xgb))"
   ]
  },
  {
   "cell_type": "markdown",
   "id": "5a6adf82",
   "metadata": {},
   "source": [
    "**Nota:**\n",
    "\n",
    "<font color='red'>**Acurácia - Cálculo da taxa de acerto**\n",
    "- O modelo obteve uma acurácia de 0,9995, o que indica que ele classificou corretamente a grande maioria das transações.\n",
    "- Toda vez que fazer uma classificação utilizando esta base de dados, quando queremos prever se a transação é fraudulenta ou não, nós temos **99%** de chance em acertar está classificação.\n",
    "\n",
    "\n",
    "<font color='red'>**Métrica para toda base de dados**\n",
    "- Temos um  f1-score de **91%** e essa métrica une precisão e recall a fim de trazer um número único que determine a qualidade geral do nosso modelo.\n",
    "\n",
    "\n",
    "\n",
    "<font color='red'>**Na classe 0 (Não fraude):**\n",
    "  - O algoritmo consegue identificar corretamente **100%** (**Recall**) das transações que não são fraudulentas e quando ele identifica, tem uma presisão de **100%** (**Precision**).\n",
    "  \n",
    "<font color='red'>**Na classe 1 (fraude):**\n",
    "  - O algoritmo consegue identificar corretamente **74%** (**Recall**) das trasações que são fraudes e quando ele identifica, tem uma presisão de **93%** (**Precision**).\n",
    "    \n",
    "<font color='red'>**Matriz de confusão:**    \n",
    "-  No caso da matriz de confusão apresentada, o modelo classificou corretamente 45497 transações normais (classe 0) e 50 transações fraudulentas (classe 1). Por outro lado, o modelo classificou incorretamente 4 transações normais como fraudulentas (falsos positivos) e 18 transações fraudulentas como normais (falsos negativos).\n",
    "- Com base nesses números, podemos afirmar que o modelo apresentou um bom desempenho na detecção de transações normais, classificando corretamente a grande maioria delas. Porém, em relação às transações fraudulentas, o modelo teve uma taxa de falsos negativos relativamente alta (4 em 68), ou seja, deixou passar algumas transações fraudulentas que deveriam ter sido detectadas. Por outro lado, a taxa de falsos positivos foi baixa (4 em 45501), o que é positivo para o negócio, pois minimiza o risco de bloquear transações normais por engano.\n",
    "- No caso específico deste modelo, podemos observar que a taxa de verdadeiros positivos (50 em 68) foi de aproximadamente 73%, o que indica que o modelo foi capaz de detectar a grande maioria das transações fraudulentas presentes na amostra. No entanto, é possível que algumas transações fraudulentas tenham passado despercebidas devido a sua complexidade ou à falta de informação relevante nas variáveis disponíveis."
   ]
  },
  {
   "cell_type": "markdown",
   "id": "c5d25865",
   "metadata": {},
   "source": [
    "### <font color='#F37126'> 6.2. Light Gradient Boost Machine ( LGBM )"
   ]
  },
  {
   "cell_type": "code",
   "execution_count": 42,
   "id": "fedb3e96",
   "metadata": {
    "ExecuteTime": {
     "end_time": "2023-05-12T18:17:40.158535Z",
     "start_time": "2023-05-12T18:17:37.443099Z"
    },
    "scrolled": true
   },
   "outputs": [
    {
     "name": "stdout",
     "output_type": "stream",
     "text": [
      "[LightGBM] [Info] Number of positive: 326, number of negative: 181950\n",
      "[LightGBM] [Warning] Auto-choosing col-wise multi-threading, the overhead of testing was 0.059936 seconds.\n",
      "You can set `force_col_wise=true` to remove the overhead.\n",
      "[LightGBM] [Info] Total Bins 6000\n",
      "[LightGBM] [Info] Number of data points in the train set: 182276, number of used features: 30\n",
      "[LightGBM] [Info] [binary:BoostFromScore]: pavg=0.001788 -> initscore=-6.324590\n",
      "[LightGBM] [Info] Start training from score -6.324590\n",
      "[LightGBM] [Warning] No further splits with positive gain, best gain: -inf\n",
      "[LightGBM] [Warning] No further splits with positive gain, best gain: -inf\n",
      "[LightGBM] [Warning] No further splits with positive gain, best gain: -inf\n",
      "[LightGBM] [Warning] No further splits with positive gain, best gain: -inf\n",
      "[LightGBM] [Warning] No further splits with positive gain, best gain: -inf\n",
      "[LightGBM] [Warning] No further splits with positive gain, best gain: -inf\n",
      "[LightGBM] [Warning] No further splits with positive gain, best gain: -inf\n",
      "[LightGBM] [Warning] No further splits with positive gain, best gain: -inf\n",
      "[LightGBM] [Warning] No further splits with positive gain, best gain: -inf\n",
      "[LightGBM] [Warning] No further splits with positive gain, best gain: -inf\n",
      "[LightGBM] [Warning] No further splits with positive gain, best gain: -inf\n",
      "[LightGBM] [Warning] No further splits with positive gain, best gain: -inf\n",
      "[LightGBM] [Warning] No further splits with positive gain, best gain: -inf\n",
      "[LightGBM] [Warning] No further splits with positive gain, best gain: -inf\n",
      "[LightGBM] [Warning] No further splits with positive gain, best gain: -inf\n",
      "[LightGBM] [Warning] No further splits with positive gain, best gain: -inf\n",
      "[LightGBM] [Warning] No further splits with positive gain, best gain: -inf\n",
      "[LightGBM] [Warning] No further splits with positive gain, best gain: -inf\n",
      "[LightGBM] [Warning] No further splits with positive gain, best gain: -inf\n",
      "[LightGBM] [Warning] No further splits with positive gain, best gain: -inf\n",
      "[LightGBM] [Warning] No further splits with positive gain, best gain: -inf\n",
      "[LightGBM] [Warning] No further splits with positive gain, best gain: -inf\n",
      "[LightGBM] [Warning] No further splits with positive gain, best gain: -inf\n",
      "[LightGBM] [Warning] No further splits with positive gain, best gain: -inf\n",
      "[LightGBM] [Warning] No further splits with positive gain, best gain: -inf\n",
      "[LightGBM] [Warning] No further splits with positive gain, best gain: -inf\n",
      "[LightGBM] [Warning] No further splits with positive gain, best gain: -inf\n",
      "[LightGBM] [Warning] No further splits with positive gain, best gain: -inf\n",
      "[LightGBM] [Warning] No further splits with positive gain, best gain: -inf\n",
      "[LightGBM] [Warning] No further splits with positive gain, best gain: -inf\n",
      "[LightGBM] [Warning] No further splits with positive gain, best gain: -inf\n",
      "[LightGBM] [Warning] No further splits with positive gain, best gain: -inf\n",
      "[LightGBM] [Warning] No further splits with positive gain, best gain: -inf\n",
      "[LightGBM] [Warning] No further splits with positive gain, best gain: -inf\n",
      "[LightGBM] [Warning] No further splits with positive gain, best gain: -inf\n",
      "[LightGBM] [Warning] No further splits with positive gain, best gain: -inf\n",
      "[LightGBM] [Warning] No further splits with positive gain, best gain: -inf\n",
      "[LightGBM] [Warning] No further splits with positive gain, best gain: -inf\n",
      "[LightGBM] [Warning] No further splits with positive gain, best gain: -inf\n",
      "[LightGBM] [Warning] No further splits with positive gain, best gain: -inf\n",
      "[LightGBM] [Warning] No further splits with positive gain, best gain: -inf\n",
      "[LightGBM] [Warning] No further splits with positive gain, best gain: -inf\n",
      "[LightGBM] [Warning] No further splits with positive gain, best gain: -inf\n",
      "[LightGBM] [Warning] No further splits with positive gain, best gain: -inf\n",
      "[LightGBM] [Warning] No further splits with positive gain, best gain: -inf\n",
      "[LightGBM] [Warning] No further splits with positive gain, best gain: -inf\n",
      "[LightGBM] [Warning] No further splits with positive gain, best gain: -inf\n",
      "[LightGBM] [Warning] No further splits with positive gain, best gain: -inf\n",
      "[LightGBM] [Warning] No further splits with positive gain, best gain: -inf\n",
      "[LightGBM] [Warning] No further splits with positive gain, best gain: -inf\n"
     ]
    }
   ],
   "source": [
    "train_data=lgb.Dataset(X_train,label=y_train)\n",
    "\n",
    "#setting parameters for lightgbm\n",
    "param = {'num_leaves':1000,         #número de folhas em uma árvore; padrão = 31; type = int\n",
    "         'objective':'binary',     \n",
    "         'max_depth':7,\n",
    "         'learning_rate':.01,\n",
    "         'max_bin':200}\n",
    "\n",
    "param['metric'] = ['auc', 'binary_logloss']\n",
    "\n",
    "#training our model using light gbm\n",
    "num_round=50\n",
    "\n",
    "lgbm = lgb.train(param,train_data,num_round)\n",
    "\n",
    "# Avaliar a performance\n",
    "yhat_lgbm = lgbm.predict(X_val)"
   ]
  },
  {
   "cell_type": "markdown",
   "id": "6b289aa5",
   "metadata": {},
   "source": [
    "**Avaliando a Máquina Preditiva**"
   ]
  },
  {
   "cell_type": "code",
   "execution_count": 43,
   "id": "eb34ae26",
   "metadata": {
    "ExecuteTime": {
     "end_time": "2023-05-12T18:17:40.190517Z",
     "start_time": "2023-05-12T18:17:40.163534Z"
    }
   },
   "outputs": [
    {
     "data": {
      "text/html": [
       "<div>\n",
       "<style scoped>\n",
       "    .dataframe tbody tr th:only-of-type {\n",
       "        vertical-align: middle;\n",
       "    }\n",
       "\n",
       "    .dataframe tbody tr th {\n",
       "        vertical-align: top;\n",
       "    }\n",
       "\n",
       "    .dataframe thead th {\n",
       "        text-align: right;\n",
       "    }\n",
       "</style>\n",
       "<table border=\"1\" class=\"dataframe\">\n",
       "  <thead>\n",
       "    <tr style=\"text-align: right;\">\n",
       "      <th></th>\n",
       "      <th>Gabarito</th>\n",
       "      <th>Previsoes_da_Máquina</th>\n",
       "    </tr>\n",
       "  </thead>\n",
       "  <tbody>\n",
       "    <tr>\n",
       "      <th>155622</th>\n",
       "      <td>0</td>\n",
       "      <td>0.001112</td>\n",
       "    </tr>\n",
       "    <tr>\n",
       "      <th>53990</th>\n",
       "      <td>0</td>\n",
       "      <td>0.001107</td>\n",
       "    </tr>\n",
       "    <tr>\n",
       "      <th>181215</th>\n",
       "      <td>0</td>\n",
       "      <td>0.001107</td>\n",
       "    </tr>\n",
       "    <tr>\n",
       "      <th>200943</th>\n",
       "      <td>0</td>\n",
       "      <td>0.001115</td>\n",
       "    </tr>\n",
       "    <tr>\n",
       "      <th>200353</th>\n",
       "      <td>0</td>\n",
       "      <td>0.001107</td>\n",
       "    </tr>\n",
       "    <tr>\n",
       "      <th>...</th>\n",
       "      <td>...</td>\n",
       "      <td>...</td>\n",
       "    </tr>\n",
       "    <tr>\n",
       "      <th>176661</th>\n",
       "      <td>0</td>\n",
       "      <td>0.001107</td>\n",
       "    </tr>\n",
       "    <tr>\n",
       "      <th>189002</th>\n",
       "      <td>0</td>\n",
       "      <td>0.001107</td>\n",
       "    </tr>\n",
       "    <tr>\n",
       "      <th>240841</th>\n",
       "      <td>0</td>\n",
       "      <td>0.001118</td>\n",
       "    </tr>\n",
       "    <tr>\n",
       "      <th>41929</th>\n",
       "      <td>0</td>\n",
       "      <td>0.001127</td>\n",
       "    </tr>\n",
       "    <tr>\n",
       "      <th>128869</th>\n",
       "      <td>0</td>\n",
       "      <td>0.001118</td>\n",
       "    </tr>\n",
       "  </tbody>\n",
       "</table>\n",
       "<p>45569 rows × 2 columns</p>\n",
       "</div>"
      ],
      "text/plain": [
       "        Gabarito  Previsoes_da_Máquina\n",
       "155622         0              0.001112\n",
       "53990          0              0.001107\n",
       "181215         0              0.001107\n",
       "200943         0              0.001115\n",
       "200353         0              0.001107\n",
       "...          ...                   ...\n",
       "176661         0              0.001107\n",
       "189002         0              0.001107\n",
       "240841         0              0.001118\n",
       "41929          0              0.001127\n",
       "128869         0              0.001118\n",
       "\n",
       "[45569 rows x 2 columns]"
      ]
     },
     "execution_count": 43,
     "metadata": {},
     "output_type": "execute_result"
    }
   ],
   "source": [
    "# Comparando gabarito e Previsoes_da_Máquina\n",
    "gabarito = pd.DataFrame({'Gabarito': y_val,'Previsoes_da_Máquina': yhat_lgbm})\n",
    "gabarito"
   ]
  },
  {
   "cell_type": "markdown",
   "id": "98c1f139",
   "metadata": {},
   "source": [
    "**Nota:**\n",
    "-  O Light Gradient Boost Machine ( LGBM ) mostra o resultado como probabilidade, então vamos precisar criar um Threshold, para que ele possa dizer o que é zero e um."
   ]
  },
  {
   "cell_type": "code",
   "execution_count": 44,
   "id": "c533726a",
   "metadata": {
    "ExecuteTime": {
     "end_time": "2023-05-12T18:17:40.269471Z",
     "start_time": "2023-05-12T18:17:40.195514Z"
    }
   },
   "outputs": [],
   "source": [
    "# Converting probabilities into 0 or 1\n",
    "for i in range(0,len(yhat_lgbm)):\n",
    "    if yhat_lgbm[i]>=.5: # setting threshold to .5\n",
    "        yhat_lgbm[i]=1 \n",
    "    else:\n",
    "        yhat_lgbm[i]=0"
   ]
  },
  {
   "cell_type": "code",
   "execution_count": 45,
   "id": "bec955f2",
   "metadata": {
    "ExecuteTime": {
     "end_time": "2023-05-12T18:17:40.428425Z",
     "start_time": "2023-05-12T18:17:40.272472Z"
    },
    "scrolled": false
   },
   "outputs": [
    {
     "name": "stdout",
     "output_type": "stream",
     "text": [
      "Classification metrics: \n",
      "               precision    recall  f1-score   support\n",
      "\n",
      "           0       1.00      1.00      1.00     45501\n",
      "           1       0.94      0.49      0.64        68\n",
      "\n",
      "    accuracy                           1.00     45569\n",
      "   macro avg       0.97      0.74      0.82     45569\n",
      "weighted avg       1.00      1.00      1.00     45569\n",
      "\n",
      "Confusion Matrix: \n",
      " [[45499     2]\n",
      " [   35    33]]\n",
      "Acurácia: 0.999188044503939\n"
     ]
    }
   ],
   "source": [
    "# Resultado em porcentagem\n",
    "print('Classification metrics: \\n', classification_report(y_val, yhat_lgbm))\n",
    "# Matriz de confusão\n",
    "print('Confusion Matrix: \\n', confusion_matrix(y_val, yhat_lgbm))\n",
    "# Acurácia\n",
    "print('Acurácia:', accuracy_score(y_val, yhat_lgbm))"
   ]
  },
  {
   "cell_type": "markdown",
   "id": "28dadd6b",
   "metadata": {},
   "source": [
    "### <font color='#F37126'> 6.3. Random Forest"
   ]
  },
  {
   "cell_type": "code",
   "execution_count": 46,
   "id": "fe07582e",
   "metadata": {
    "ExecuteTime": {
     "end_time": "2023-05-12T18:24:37.655850Z",
     "start_time": "2023-05-12T18:17:40.431383Z"
    }
   },
   "outputs": [],
   "source": [
    "# Criar a variável do algoritmo\n",
    "model_rf = RandomForestClassifier()\n",
    "# Treinamento\n",
    "model_rf.fit(X_train, y_train)\n",
    "# Avaliar a performance\n",
    "yhat_rf = model_rf.predict( X_val )"
   ]
  },
  {
   "cell_type": "markdown",
   "id": "5b8a0ac7",
   "metadata": {},
   "source": [
    "**Avaliando a Máquina Preditiva**"
   ]
  },
  {
   "cell_type": "code",
   "execution_count": 47,
   "id": "c3bea430",
   "metadata": {
    "ExecuteTime": {
     "end_time": "2023-05-12T18:24:37.702828Z",
     "start_time": "2023-05-12T18:24:37.658857Z"
    }
   },
   "outputs": [
    {
     "data": {
      "text/html": [
       "<div>\n",
       "<style scoped>\n",
       "    .dataframe tbody tr th:only-of-type {\n",
       "        vertical-align: middle;\n",
       "    }\n",
       "\n",
       "    .dataframe tbody tr th {\n",
       "        vertical-align: top;\n",
       "    }\n",
       "\n",
       "    .dataframe thead th {\n",
       "        text-align: right;\n",
       "    }\n",
       "</style>\n",
       "<table border=\"1\" class=\"dataframe\">\n",
       "  <thead>\n",
       "    <tr style=\"text-align: right;\">\n",
       "      <th></th>\n",
       "      <th>Gabarito</th>\n",
       "      <th>Previsoes_da_Máquina</th>\n",
       "    </tr>\n",
       "  </thead>\n",
       "  <tbody>\n",
       "    <tr>\n",
       "      <th>155622</th>\n",
       "      <td>0</td>\n",
       "      <td>0</td>\n",
       "    </tr>\n",
       "    <tr>\n",
       "      <th>53990</th>\n",
       "      <td>0</td>\n",
       "      <td>0</td>\n",
       "    </tr>\n",
       "    <tr>\n",
       "      <th>181215</th>\n",
       "      <td>0</td>\n",
       "      <td>0</td>\n",
       "    </tr>\n",
       "    <tr>\n",
       "      <th>200943</th>\n",
       "      <td>0</td>\n",
       "      <td>0</td>\n",
       "    </tr>\n",
       "    <tr>\n",
       "      <th>200353</th>\n",
       "      <td>0</td>\n",
       "      <td>0</td>\n",
       "    </tr>\n",
       "    <tr>\n",
       "      <th>...</th>\n",
       "      <td>...</td>\n",
       "      <td>...</td>\n",
       "    </tr>\n",
       "    <tr>\n",
       "      <th>176661</th>\n",
       "      <td>0</td>\n",
       "      <td>0</td>\n",
       "    </tr>\n",
       "    <tr>\n",
       "      <th>189002</th>\n",
       "      <td>0</td>\n",
       "      <td>0</td>\n",
       "    </tr>\n",
       "    <tr>\n",
       "      <th>240841</th>\n",
       "      <td>0</td>\n",
       "      <td>0</td>\n",
       "    </tr>\n",
       "    <tr>\n",
       "      <th>41929</th>\n",
       "      <td>0</td>\n",
       "      <td>0</td>\n",
       "    </tr>\n",
       "    <tr>\n",
       "      <th>128869</th>\n",
       "      <td>0</td>\n",
       "      <td>0</td>\n",
       "    </tr>\n",
       "  </tbody>\n",
       "</table>\n",
       "<p>45569 rows × 2 columns</p>\n",
       "</div>"
      ],
      "text/plain": [
       "        Gabarito  Previsoes_da_Máquina\n",
       "155622         0                     0\n",
       "53990          0                     0\n",
       "181215         0                     0\n",
       "200943         0                     0\n",
       "200353         0                     0\n",
       "...          ...                   ...\n",
       "176661         0                     0\n",
       "189002         0                     0\n",
       "240841         0                     0\n",
       "41929          0                     0\n",
       "128869         0                     0\n",
       "\n",
       "[45569 rows x 2 columns]"
      ]
     },
     "execution_count": 47,
     "metadata": {},
     "output_type": "execute_result"
    }
   ],
   "source": [
    "# Comparando gabarito e Previsoes_da_Máquina\n",
    "gabarito = pd.DataFrame({'Gabarito': y_val,'Previsoes_da_Máquina': yhat_rf})\n",
    "gabarito"
   ]
  },
  {
   "cell_type": "code",
   "execution_count": 48,
   "id": "4f55b774",
   "metadata": {
    "ExecuteTime": {
     "end_time": "2023-05-12T18:24:37.862865Z",
     "start_time": "2023-05-12T18:24:37.708825Z"
    },
    "scrolled": true
   },
   "outputs": [
    {
     "name": "stdout",
     "output_type": "stream",
     "text": [
      "Classification metrics: \n",
      "               precision    recall  f1-score   support\n",
      "\n",
      "           0       1.00      1.00      1.00     45501\n",
      "           1       0.92      0.68      0.78        68\n",
      "\n",
      "    accuracy                           1.00     45569\n",
      "   macro avg       0.96      0.84      0.89     45569\n",
      "weighted avg       1.00      1.00      1.00     45569\n",
      "\n",
      "Confusion Matrix: \n",
      " [[45497     4]\n",
      " [   22    46]]\n",
      "Acurácia: 0.9994294366784436\n"
     ]
    }
   ],
   "source": [
    "# Resultado em porcentagem\n",
    "print('Classification metrics: \\n', classification_report(y_val, yhat_rf))\n",
    "# Matriz de confusão\n",
    "print('Confusion Matrix: \\n', confusion_matrix(y_val, yhat_rf))\n",
    "# Acurácia\n",
    "print('Acurácia:', accuracy_score(y_val, yhat_rf))"
   ]
  },
  {
   "cell_type": "markdown",
   "id": "be9a3114",
   "metadata": {},
   "source": [
    "### <font color='#F37126'> 6.4. Comparar o desempenho dos modelos"
   ]
  },
  {
   "cell_type": "code",
   "execution_count": 49,
   "id": "eb609182",
   "metadata": {
    "ExecuteTime": {
     "end_time": "2023-05-12T18:24:37.958822Z",
     "start_time": "2023-05-12T18:24:37.866868Z"
    }
   },
   "outputs": [],
   "source": [
    "# Dicionário de métricas - Regressão logística\n",
    "acc_test = accuracy_score( y_val, yhat_xgb )\n",
    "m_xgb = {'F1 Score': str(round(f1_score(y_val, yhat_xgb)*100,2)) + \"%\",\n",
    "        'Acurácia': str(round(acc_test *100,2)) + \"%\",\n",
    "        'Precisão': str(round(precision_score(y_val, yhat_xgb)*100,2)) + \"%\",\n",
    "        'Recall':   str(round(recall_score(y_val, yhat_xgb)*100,2)) + \"%\"}"
   ]
  },
  {
   "cell_type": "code",
   "execution_count": 50,
   "id": "3a2455c5",
   "metadata": {
    "ExecuteTime": {
     "end_time": "2023-05-12T18:24:38.069783Z",
     "start_time": "2023-05-12T18:24:37.963825Z"
    }
   },
   "outputs": [],
   "source": [
    "# Dicionário de métricas - Light Gradient Boost Machine\n",
    "acc_test = accuracy_score(y_val, yhat_lgbm)\n",
    "m_lgbm = {'F1 Score': str(round(f1_score(y_val, yhat_lgbm)*100,2)) + \"%\",\n",
    "        'Acurácia': str(round(acc_test *100,2)) + \"%\",\n",
    "        'Precisão': str(round(precision_score(y_val, yhat_lgbm)*100,2)) + \"%\",\n",
    "        'Recall':   str(round(recall_score(y_val, yhat_lgbm)*100,2)) + \"%\"}"
   ]
  },
  {
   "cell_type": "code",
   "execution_count": 51,
   "id": "fd48994d",
   "metadata": {
    "ExecuteTime": {
     "end_time": "2023-05-12T18:24:38.164743Z",
     "start_time": "2023-05-12T18:24:38.073764Z"
    }
   },
   "outputs": [],
   "source": [
    "# Dicionário de métricas - Random forest\n",
    "acc_test = accuracy_score( y_val, yhat_rf )\n",
    "m_rf = {'F1 Score': str(round(f1_score(y_val, yhat_rf)*100,2)) + \"%\",\n",
    "        'Acurácia': str(round(acc_test *100,2)) + \"%\",\n",
    "        'Precisão': str(round(precision_score(y_val, yhat_rf)*100,2)) + \"%\",\n",
    "        'Recall':   str(round(recall_score(y_val, yhat_rf)*100,2)) + \"%\"}"
   ]
  },
  {
   "cell_type": "code",
   "execution_count": 52,
   "id": "554ea717",
   "metadata": {
    "ExecuteTime": {
     "end_time": "2023-05-12T18:24:38.180801Z",
     "start_time": "2023-05-12T18:24:38.167740Z"
    }
   },
   "outputs": [],
   "source": [
    "# Gerando o DataFrame com todos os valores de todos os modelos treinados\n",
    "df_aux = pd.DataFrame({'XGBoost':pd.Series(m_xgb),\n",
    "                       'LGBM':pd.Series(m_lgbm),\n",
    "                       'Random Forest':pd.Series(m_rf)})"
   ]
  },
  {
   "cell_type": "code",
   "execution_count": 53,
   "id": "dd62d3e5",
   "metadata": {
    "ExecuteTime": {
     "end_time": "2023-05-12T18:24:38.211767Z",
     "start_time": "2023-05-12T18:24:38.184778Z"
    }
   },
   "outputs": [
    {
     "data": {
      "text/html": [
       "<div>\n",
       "<style scoped>\n",
       "    .dataframe tbody tr th:only-of-type {\n",
       "        vertical-align: middle;\n",
       "    }\n",
       "\n",
       "    .dataframe tbody tr th {\n",
       "        vertical-align: top;\n",
       "    }\n",
       "\n",
       "    .dataframe thead th {\n",
       "        text-align: right;\n",
       "    }\n",
       "</style>\n",
       "<table border=\"1\" class=\"dataframe\">\n",
       "  <thead>\n",
       "    <tr style=\"text-align: right;\">\n",
       "      <th></th>\n",
       "      <th>XGBoost</th>\n",
       "      <th>LGBM</th>\n",
       "      <th>Random Forest</th>\n",
       "    </tr>\n",
       "  </thead>\n",
       "  <tbody>\n",
       "    <tr>\n",
       "      <th>F1 Score</th>\n",
       "      <td>81.97%</td>\n",
       "      <td>64.08%</td>\n",
       "      <td>77.97%</td>\n",
       "    </tr>\n",
       "    <tr>\n",
       "      <th>Acurácia</th>\n",
       "      <td>99.95%</td>\n",
       "      <td>99.92%</td>\n",
       "      <td>99.94%</td>\n",
       "    </tr>\n",
       "    <tr>\n",
       "      <th>Precisão</th>\n",
       "      <td>92.59%</td>\n",
       "      <td>94.29%</td>\n",
       "      <td>92.0%</td>\n",
       "    </tr>\n",
       "    <tr>\n",
       "      <th>Recall</th>\n",
       "      <td>73.53%</td>\n",
       "      <td>48.53%</td>\n",
       "      <td>67.65%</td>\n",
       "    </tr>\n",
       "  </tbody>\n",
       "</table>\n",
       "</div>"
      ],
      "text/plain": [
       "         XGBoost    LGBM Random Forest\n",
       "F1 Score  81.97%  64.08%        77.97%\n",
       "Acurácia  99.95%  99.92%        99.94%\n",
       "Precisão  92.59%  94.29%         92.0%\n",
       "Recall    73.53%  48.53%        67.65%"
      ]
     },
     "metadata": {},
     "output_type": "display_data"
    }
   ],
   "source": [
    "display(df_aux)"
   ]
  },
  {
   "cell_type": "code",
   "execution_count": 54,
   "id": "41961743",
   "metadata": {
    "ExecuteTime": {
     "end_time": "2023-05-12T18:24:38.289631Z",
     "start_time": "2023-05-12T18:24:38.216763Z"
    }
   },
   "outputs": [
    {
     "name": "stdout",
     "output_type": "stream",
     "text": [
      "Confusion Matrix - xgb: \n",
      " [[45497     4]\n",
      " [   18    50]]\n",
      "Confusion Matrix - lgbm: \n",
      " [[45499     2]\n",
      " [   35    33]]\n",
      "Confusion Matrix - rf: \n",
      " [[45497     4]\n",
      " [   22    46]]\n"
     ]
    }
   ],
   "source": [
    "# Matriz de confusão\n",
    "print('Confusion Matrix - xgb: \\n', confusion_matrix(y_val, yhat_xgb))\n",
    "# Matriz de confusão\n",
    "print('Confusion Matrix - lgbm: \\n', confusion_matrix(y_val, yhat_lgbm))\n",
    "# Matriz de confusão\n",
    "print('Confusion Matrix - rf: \\n', confusion_matrix(y_val, yhat_rf))"
   ]
  },
  {
   "cell_type": "markdown",
   "id": "caaeca61",
   "metadata": {},
   "source": [
    "**Nota:**\n",
    "<p>Essa tabela mostra o desempenho de três modelos de classificação - XGBoost, LGBM e Random Forest - usando quatro medidas de avaliação: F1 Score, Acurácia, Precisão e Recall.</p>\n",
    "\n",
    "<p>O F1 Score é uma medida que combina a Precisão e o Recall, indicando a capacidade do modelo em balancear a quantidade de verdadeiros positivos e falsos positivos, bem como a quantidade de verdadeiros negativos e falsos negativos. Um valor alto indica um bom desempenho do modelo.</p>\n",
    "\n",
    "<p>A Acurácia é a medida mais simples, indicando a proporção de previsões corretas em relação ao total de previsões. É uma medida útil, mas pode não ser suficiente para avaliar a qualidade de um modelo, especialmente quando as classes estão desbalanceadas.</p>\n",
    "\n",
    "<p>A Precisão mede a proporção de verdadeiros positivos em relação ao total de positivos previstos, ou seja, a capacidade do modelo de não classificar um exemplo negativo como positivo. Um valor alto indica que o modelo faz poucos falsos positivos.</p>\n",
    "\n",
    "O Recall mede a proporção de verdadeiros positivos em relação ao total de positivos reais, ou seja, a capacidade do modelo de detectar todos os exemplos positivos. Um valor alto indica que o modelo faz poucos falsos negativos.</p>\n",
    "\n",
    "<p>A partir desses resultados, podemos observar que o modelo XGBoost apresentou o melhor desempenho em todas as medidas de avaliação, com destaque para o F1 Score, que foi de 81.97%. O modelo LGBM apresentou um desempenho um pouco inferior, com destaque para a Precisão, que foi de 94.29%. Já o modelo Random Forest apresentou o pior desempenho, com destaque para o Recall, que foi de 66.18%. No entanto, é importante lembrar que a escolha do melhor modelo depende do contexto e das necessidades do problema em questão.</p>\n",
    "\n",
    "<p>As vezes o algoritmo simples seja a melhor opção se a diferença não é muito distânte (menos é mais), porque um algoritmo complexo, onde vamos ter que fazer muita tunagem de hiperparametros, muito pré-processamento, isso pode na hora de implementar o modelo em produção, pode causar problemas.</p>"
   ]
  },
  {
   "cell_type": "markdown",
   "id": "de0105d1",
   "metadata": {},
   "source": [
    "# <font color='red'> 7 - AJUSTE FINO DE HIPERPARÂMETROS"
   ]
  },
  {
   "cell_type": "markdown",
   "id": "796e5788",
   "metadata": {},
   "source": [
    "### <font color='#F37126'> 7.1. Random Search"
   ]
  },
  {
   "cell_type": "markdown",
   "id": "5a53fb77",
   "metadata": {},
   "source": [
    "#### <font color='#D2691E'>**Light Gradient Boost Machine ( LGBM )**"
   ]
  },
  {
   "cell_type": "code",
   "execution_count": 55,
   "id": "097def0e",
   "metadata": {
    "ExecuteTime": {
     "end_time": "2023-05-12T18:28:24.392766Z",
     "start_time": "2023-05-12T18:24:38.293629Z"
    }
   },
   "outputs": [
    {
     "name": "stdout",
     "output_type": "stream",
     "text": [
      "Acurácia em Treinamento: 99.94%\n",
      "\n",
      "Hiperparâmetros Ideais: {'learning_rate': 0.01, 'max_bin': 176, 'max_depth': 17, 'n_estimators': 191, 'num_leaves': 108}\n",
      "\n",
      "Tempo de Treinamento do Modelo: 3.77 minutos\n",
      "\n",
      "Numero de treinamentos realizados:  10\n"
     ]
    }
   ],
   "source": [
    "# Define o espaço de busca dos hiperparâmetros\n",
    "param_dist = {\n",
    "    'num_leaves': sp_randint(10, 500),\n",
    "    'max_depth': sp_randint(1, 20),\n",
    "    'learning_rate': [0.005, 0.01, 0.1],\n",
    "    'max_bin': sp_randint(100, 256),\n",
    "    'n_estimators': sp_randint(50, 200)\n",
    "}\n",
    "\n",
    "# Cria o modelo LGBM\n",
    "lgbm = lgb.LGBMClassifier()\n",
    "\n",
    "# Random Search com validação cruzada de 5-fold\n",
    "random_search_lgbm = RandomizedSearchCV(lgbm,param_distributions=param_dist,cv=5,scoring='accuracy',n_iter=10,n_jobs=-1)\n",
    "\n",
    "# Treina o modelo com todas as combinações de hiperparâmetros\n",
    "inicio = time.time()\n",
    "random_search_lgbm.fit(X_train, y_train)\n",
    "fim = time.time()\n",
    "tempo = round((fim - inicio) / 60, 2)\n",
    "\n",
    "# Obtendo e visualizando os parametros treinados\n",
    "treinos_lgbm = pd.DataFrame(random_search_lgbm.cv_results_)\n",
    "\n",
    "# Acurácia em Treino\n",
    "print(f\"Acurácia em Treinamento: {random_search_lgbm.best_score_ :.2%}\")\n",
    "print(\"\")\n",
    "print(f\"Hiperparâmetros Ideais: {random_search_lgbm.best_params_}\")\n",
    "print(\"\")\n",
    "print(\"Tempo de Treinamento do Modelo: {} minutos\".format(tempo))\n",
    "print(\"\")\n",
    "print(\"Numero de treinamentos realizados: \", treinos_lgbm.shape[0])"
   ]
  },
  {
   "cell_type": "code",
   "execution_count": 56,
   "id": "c937bebb",
   "metadata": {
    "ExecuteTime": {
     "end_time": "2023-05-12T18:28:24.407760Z",
     "start_time": "2023-05-12T18:28:24.397765Z"
    }
   },
   "outputs": [],
   "source": [
    "# Dicionário de métricas e metadados (salvando o resultado)\n",
    "modelo_lgbm = {'Melhores Hiperparametros': random_search_lgbm.best_params_,\n",
    "             'Numero de Modelos Treinados': treinos_lgbm.shape[0], \n",
    "             'Melhor Score': str(round(random_search_lgbm.best_score_ * 100,2))+\"%\"}"
   ]
  },
  {
   "cell_type": "code",
   "execution_count": 57,
   "id": "3927cc71",
   "metadata": {
    "ExecuteTime": {
     "end_time": "2023-05-12T18:28:24.439741Z",
     "start_time": "2023-05-12T18:28:24.413756Z"
    }
   },
   "outputs": [
    {
     "data": {
      "text/plain": [
       "{'Melhores Hiperparametros': {'learning_rate': 0.01,\n",
       "  'max_bin': 176,\n",
       "  'max_depth': 17,\n",
       "  'n_estimators': 191,\n",
       "  'num_leaves': 108},\n",
       " 'Numero de Modelos Treinados': 10,\n",
       " 'Melhor Score': '99.94%'}"
      ]
     },
     "execution_count": 57,
     "metadata": {},
     "output_type": "execute_result"
    }
   ],
   "source": [
    "modelo_lgbm"
   ]
  },
  {
   "cell_type": "markdown",
   "id": "6a1b94ea",
   "metadata": {},
   "source": [
    "#### <font color='#D2691E'>**Random Forest**"
   ]
  },
  {
   "cell_type": "code",
   "execution_count": 58,
   "id": "c8ab4ad8",
   "metadata": {
    "ExecuteTime": {
     "end_time": "2023-05-12T19:48:29.005135Z",
     "start_time": "2023-05-12T18:28:24.446737Z"
    }
   },
   "outputs": [
    {
     "name": "stdout",
     "output_type": "stream",
     "text": [
      "Acurácia em Treinamento: 99.95%\n",
      "\n",
      "Hiperparâmetros Ideais: {'bootstrap': True, 'max_depth': 10, 'max_features': 'sqrt', 'min_samples_leaf': 1, 'min_samples_split': 9, 'n_estimators': 141}\n",
      "\n",
      "Tempo de Treinamento do Modelo: 80.08 minutos\n",
      "\n",
      "Numero de treinamentos realizados:  10\n"
     ]
    }
   ],
   "source": [
    "# Define o espaço de busca dos hiperparâmetros\n",
    "param_dist = {\n",
    "    'n_estimators': sp_randint(100, 300),\n",
    "    'max_features': ['auto', 'sqrt', 'log2'],\n",
    "    'max_depth': [10, 20, 30],\n",
    "    'min_samples_split': sp_randint(2, 10),\n",
    "    'min_samples_leaf': sp_randint(1, 10),\n",
    "    'bootstrap': [True, False]\n",
    "}\n",
    "\n",
    "# Cria o modelo RandomForest\n",
    "rf = RandomForestClassifier()\n",
    "\n",
    "# Random Search com validação cruzada de 3-fold\n",
    "random_search_rf = RandomizedSearchCV(rf, param_distributions=param_dist, cv=3, scoring='accuracy', n_iter=10, n_jobs=-1)\n",
    "\n",
    "# Treina o modelo com todas as combinações de hiperparâmetros\n",
    "inicio = time.time()\n",
    "random_search_rf.fit(X_train, y_train)\n",
    "fim = time.time()\n",
    "tempo = round((fim - inicio) / 60, 2)\n",
    "\n",
    "# Obtendo e visualizando os parametros treinados\n",
    "treinos_rf = pd.DataFrame(random_search_rf.cv_results_)\n",
    "\n",
    "# Acurácia em Treino\n",
    "print(f\"Acurácia em Treinamento: {random_search_rf.best_score_ :.2%}\")\n",
    "print(\"\")\n",
    "print(f\"Hiperparâmetros Ideais: {random_search_rf.best_params_}\")\n",
    "print(\"\")\n",
    "print(\"Tempo de Treinamento do Modelo: {} minutos\".format(tempo))\n",
    "print(\"\")\n",
    "print(\"Numero de treinamentos realizados: \", treinos_rf.shape[0])"
   ]
  },
  {
   "cell_type": "code",
   "execution_count": 59,
   "id": "a9b79989",
   "metadata": {
    "ExecuteTime": {
     "end_time": "2023-05-12T19:48:29.036119Z",
     "start_time": "2023-05-12T19:48:29.011133Z"
    }
   },
   "outputs": [],
   "source": [
    "# Dicionário de métricas e metadados (salvando o resultado)\n",
    "modelo_rf = {'Melhores Hiperparametros': random_search_rf.best_params_,\n",
    "             'Numero de Modelos Treinados': treinos_rf.shape[0], \n",
    "             'Melhor Score': str(round(random_search_rf.best_score_ * 100,2))+\"%\"}"
   ]
  },
  {
   "cell_type": "code",
   "execution_count": 60,
   "id": "69ca545f",
   "metadata": {
    "ExecuteTime": {
     "end_time": "2023-05-12T19:48:29.068100Z",
     "start_time": "2023-05-12T19:48:29.043116Z"
    }
   },
   "outputs": [
    {
     "data": {
      "text/plain": [
       "{'Melhores Hiperparametros': {'bootstrap': True,\n",
       "  'max_depth': 10,\n",
       "  'max_features': 'sqrt',\n",
       "  'min_samples_leaf': 1,\n",
       "  'min_samples_split': 9,\n",
       "  'n_estimators': 141},\n",
       " 'Numero de Modelos Treinados': 10,\n",
       " 'Melhor Score': '99.95%'}"
      ]
     },
     "execution_count": 60,
     "metadata": {},
     "output_type": "execute_result"
    }
   ],
   "source": [
    "modelo_rf"
   ]
  },
  {
   "cell_type": "markdown",
   "id": "466b092d",
   "metadata": {},
   "source": [
    "#### <font color='#D2691E'>**XGBoost Regressor**"
   ]
  },
  {
   "cell_type": "code",
   "execution_count": 61,
   "id": "0787429c",
   "metadata": {
    "ExecuteTime": {
     "end_time": "2023-05-12T20:16:55.396867Z",
     "start_time": "2023-05-12T19:48:29.077093Z"
    }
   },
   "outputs": [
    {
     "name": "stdout",
     "output_type": "stream",
     "text": [
      "Acurácia em Treinamento: 99.95%\n",
      "\n",
      "Hiperparâmetros Ideais: {'colsample_bytree': 0.7, 'gamma': 0.2, 'learning_rate': 0.1, 'max_depth': 16, 'min_child_weight': 2, 'n_estimators': 151, 'reg_alpha': 7, 'reg_lambda': 0, 'subsample': 0.9}\n",
      "\n",
      "Tempo de Treinamento do Modelo: 28.44 minutos\n",
      "\n",
      "Numero de treinamentos realizados:  10\n"
     ]
    }
   ],
   "source": [
    "# Define o espaço de busca dos hiperparâmetros\n",
    "param_dist = {\n",
    "    'max_depth': sp_randint(1, 20),\n",
    "    'learning_rate': [0.005, 0.01, 0.1],\n",
    "    'n_estimators': sp_randint(50, 200),\n",
    "    'min_child_weight': sp_randint(1, 10),\n",
    "    'subsample': [0.6, 0.7, 0.8, 0.9, 1.0],\n",
    "    'colsample_bytree': [0.6, 0.7, 0.8, 0.9, 1.0],\n",
    "    'gamma': [0, 0.1, 0.2, 0.3, 0.4],\n",
    "    'reg_alpha': [0, 1e-1, 1, 2, 5, 7, 10],\n",
    "    'reg_lambda': [0, 1e-1, 1, 5, 10, 20]\n",
    "}\n",
    "\n",
    "# Cria o modelo XGBoost\n",
    "xgb_model = xgb.XGBClassifier()\n",
    "\n",
    "# Random Search com validação cruzada de 5-fold\n",
    "random_search_xgb=RandomizedSearchCV(xgb_model,param_distributions=param_dist,cv=3,scoring='accuracy',n_iter=10,n_jobs=-1)\n",
    "\n",
    "# Treina o modelo com todas as combinações de hiperparâmetros\n",
    "inicio = time.time()\n",
    "random_search_xgb.fit(X_train, y_train)\n",
    "fim = time.time()\n",
    "tempo = round((fim - inicio) / 60, 2)\n",
    "\n",
    "# Obtendo e visualizando os parametros treinados\n",
    "treinos_xgb = pd.DataFrame(random_search_xgb.cv_results_)\n",
    "\n",
    "# Acurácia em Treino\n",
    "print(f\"Acurácia em Treinamento: {random_search_xgb.best_score_ :.2%}\")\n",
    "print(\"\")\n",
    "print(f\"Hiperparâmetros Ideais: {random_search_xgb.best_params_}\")\n",
    "print(\"\")\n",
    "print(\"Tempo de Treinamento do Modelo: {} minutos\".format(tempo))\n",
    "print(\"\")\n",
    "print(\"Numero de treinamentos realizados: \", treinos_xgb.shape[0])"
   ]
  },
  {
   "cell_type": "code",
   "execution_count": 62,
   "id": "9c852fbf",
   "metadata": {
    "ExecuteTime": {
     "end_time": "2023-05-12T20:16:55.427848Z",
     "start_time": "2023-05-12T20:16:55.401865Z"
    }
   },
   "outputs": [],
   "source": [
    "# Dicionário de métricas e metadados (salvando o resultado)\n",
    "modelo_xgb = {'Melhores Hiperparametros': random_search_xgb.best_params_,\n",
    "             'Numero de Modelos Treinados': treinos_xgb.shape[0], \n",
    "             'Melhor Score': str(round(random_search_xgb.best_score_ * 100,2))+\"%\"}"
   ]
  },
  {
   "cell_type": "code",
   "execution_count": 63,
   "id": "4edf17a0",
   "metadata": {
    "ExecuteTime": {
     "end_time": "2023-05-12T20:16:55.459832Z",
     "start_time": "2023-05-12T20:16:55.432846Z"
    }
   },
   "outputs": [
    {
     "data": {
      "text/plain": [
       "{'Melhores Hiperparametros': {'colsample_bytree': 0.7,\n",
       "  'gamma': 0.2,\n",
       "  'learning_rate': 0.1,\n",
       "  'max_depth': 16,\n",
       "  'min_child_weight': 2,\n",
       "  'n_estimators': 151,\n",
       "  'reg_alpha': 7,\n",
       "  'reg_lambda': 0,\n",
       "  'subsample': 0.9},\n",
       " 'Numero de Modelos Treinados': 10,\n",
       " 'Melhor Score': '99.95%'}"
      ]
     },
     "execution_count": 63,
     "metadata": {},
     "output_type": "execute_result"
    }
   ],
   "source": [
    "modelo_xgb"
   ]
  },
  {
   "cell_type": "markdown",
   "id": "58f8394d",
   "metadata": {},
   "source": [
    "### <font color='#F37126'> 7.2. Comparar o desempenho dos modelos"
   ]
  },
  {
   "cell_type": "code",
   "execution_count": 64,
   "id": "cbba7a2a",
   "metadata": {
    "ExecuteTime": {
     "end_time": "2023-05-12T20:16:55.491813Z",
     "start_time": "2023-05-12T20:16:55.467826Z"
    }
   },
   "outputs": [],
   "source": [
    "# Gerando o DataFrame com todos os valores de todos os modelos treinados\n",
    "resumo = pd.DataFrame({'LGBM':pd.Series(modelo_lgbm),\n",
    "                       'XGBoost':pd.Series(modelo_xgb),\n",
    "                       'Random Forest':pd.Series(modelo_rf)})"
   ]
  },
  {
   "cell_type": "code",
   "execution_count": 65,
   "id": "dace4e5b",
   "metadata": {
    "ExecuteTime": {
     "end_time": "2023-05-12T20:16:55.539785Z",
     "start_time": "2023-05-12T20:16:55.497810Z"
    }
   },
   "outputs": [
    {
     "data": {
      "text/html": [
       "<div>\n",
       "<style scoped>\n",
       "    .dataframe tbody tr th:only-of-type {\n",
       "        vertical-align: middle;\n",
       "    }\n",
       "\n",
       "    .dataframe tbody tr th {\n",
       "        vertical-align: top;\n",
       "    }\n",
       "\n",
       "    .dataframe thead th {\n",
       "        text-align: right;\n",
       "    }\n",
       "</style>\n",
       "<table border=\"1\" class=\"dataframe\">\n",
       "  <thead>\n",
       "    <tr style=\"text-align: right;\">\n",
       "      <th></th>\n",
       "      <th>LGBM</th>\n",
       "      <th>XGBoost</th>\n",
       "      <th>Random Forest</th>\n",
       "    </tr>\n",
       "  </thead>\n",
       "  <tbody>\n",
       "    <tr>\n",
       "      <th>Melhores Hiperparametros</th>\n",
       "      <td>{'learning_rate': 0.01, 'max_bin': 176, 'max_d...</td>\n",
       "      <td>{'colsample_bytree': 0.7, 'gamma': 0.2, 'learn...</td>\n",
       "      <td>{'bootstrap': True, 'max_depth': 10, 'max_feat...</td>\n",
       "    </tr>\n",
       "    <tr>\n",
       "      <th>Numero de Modelos Treinados</th>\n",
       "      <td>10</td>\n",
       "      <td>10</td>\n",
       "      <td>10</td>\n",
       "    </tr>\n",
       "    <tr>\n",
       "      <th>Melhor Score</th>\n",
       "      <td>99.94%</td>\n",
       "      <td>99.95%</td>\n",
       "      <td>99.95%</td>\n",
       "    </tr>\n",
       "  </tbody>\n",
       "</table>\n",
       "</div>"
      ],
      "text/plain": [
       "                                                                          LGBM  \\\n",
       "Melhores Hiperparametros     {'learning_rate': 0.01, 'max_bin': 176, 'max_d...   \n",
       "Numero de Modelos Treinados                                                 10   \n",
       "Melhor Score                                                            99.94%   \n",
       "\n",
       "                                                                       XGBoost  \\\n",
       "Melhores Hiperparametros     {'colsample_bytree': 0.7, 'gamma': 0.2, 'learn...   \n",
       "Numero de Modelos Treinados                                                 10   \n",
       "Melhor Score                                                            99.95%   \n",
       "\n",
       "                                                                 Random Forest  \n",
       "Melhores Hiperparametros     {'bootstrap': True, 'max_depth': 10, 'max_feat...  \n",
       "Numero de Modelos Treinados                                                 10  \n",
       "Melhor Score                                                            99.95%  "
      ]
     },
     "metadata": {},
     "output_type": "display_data"
    }
   ],
   "source": [
    "display(resumo)"
   ]
  },
  {
   "cell_type": "markdown",
   "id": "c5b85812",
   "metadata": {},
   "source": [
    "#### <font color='#D2691E'>**Light Gradient Boost Machine ( LGBM )**"
   ]
  },
  {
   "cell_type": "code",
   "execution_count": 67,
   "id": "17efc708",
   "metadata": {
    "ExecuteTime": {
     "end_time": "2023-05-12T23:21:51.702670Z",
     "start_time": "2023-05-12T23:21:08.929178Z"
    },
    "scrolled": true
   },
   "outputs": [
    {
     "name": "stderr",
     "output_type": "stream",
     "text": [
      "C:\\Users\\Rafael\\anaconda3\\lib\\site-packages\\lightgbm\\engine.py:177: UserWarning: Found `n_estimators` in params. Will use it instead of argument\n",
      "  _log_warning(f\"Found `{alias}` in params. Will use it instead of argument\")\n"
     ]
    },
    {
     "name": "stdout",
     "output_type": "stream",
     "text": [
      "[LightGBM] [Info] Number of positive: 394, number of negative: 227451\n",
      "[LightGBM] [Warning] Auto-choosing col-wise multi-threading, the overhead of testing was 0.263392 seconds.\n",
      "You can set `force_col_wise=true` to remove the overhead.\n",
      "[LightGBM] [Info] Total Bins 5280\n",
      "[LightGBM] [Info] Number of data points in the train set: 227845, number of used features: 30\n",
      "[LightGBM] [Info] [binary:BoostFromScore]: pavg=0.001729 -> initscore=-6.358339\n",
      "[LightGBM] [Info] Start training from score -6.358339\n"
     ]
    }
   ],
   "source": [
    "# Modelo treinado sobre treino + validação\n",
    "train_data=lgb.Dataset(np.concatenate( (X_train, X_val) ),label = np.concatenate((y_train, y_val)))\n",
    "\n",
    "#setting parameters for lightgbm\n",
    "param = {'num_leaves':108,         #número de folhas em uma árvore; padrão = 31; type = int\n",
    "         'objective':'binary',     \n",
    "         'max_depth':17,\n",
    "         'learning_rate':0.01,\n",
    "         'n_estimators': 191,\n",
    "         'max_bin':176}\n",
    "\n",
    "param['metric'] = ['auc', 'binary_logloss']\n",
    "\n",
    "#training our model using light gbm\n",
    "num_round=50\n",
    "\n",
    "lgbm = lgb.train(param,train_data,num_round)\n",
    "\n",
    "# Avaliar a performance\n",
    "yhat_lgbm = lgbm.predict(X_val)"
   ]
  },
  {
   "cell_type": "markdown",
   "id": "b83dc0c8",
   "metadata": {},
   "source": [
    "**Avaliando a Máquina Preditiva**"
   ]
  },
  {
   "cell_type": "code",
   "execution_count": 68,
   "id": "5e578c2d",
   "metadata": {
    "ExecuteTime": {
     "end_time": "2023-05-12T23:23:45.908613Z",
     "start_time": "2023-05-12T23:23:45.863716Z"
    }
   },
   "outputs": [
    {
     "data": {
      "text/html": [
       "<div>\n",
       "<style scoped>\n",
       "    .dataframe tbody tr th:only-of-type {\n",
       "        vertical-align: middle;\n",
       "    }\n",
       "\n",
       "    .dataframe tbody tr th {\n",
       "        vertical-align: top;\n",
       "    }\n",
       "\n",
       "    .dataframe thead th {\n",
       "        text-align: right;\n",
       "    }\n",
       "</style>\n",
       "<table border=\"1\" class=\"dataframe\">\n",
       "  <thead>\n",
       "    <tr style=\"text-align: right;\">\n",
       "      <th></th>\n",
       "      <th>Gabarito</th>\n",
       "      <th>Previsoes_da_Máquina</th>\n",
       "    </tr>\n",
       "  </thead>\n",
       "  <tbody>\n",
       "    <tr>\n",
       "      <th>155622</th>\n",
       "      <td>0</td>\n",
       "      <td>0.000258</td>\n",
       "    </tr>\n",
       "    <tr>\n",
       "      <th>53990</th>\n",
       "      <td>0</td>\n",
       "      <td>0.000257</td>\n",
       "    </tr>\n",
       "    <tr>\n",
       "      <th>181215</th>\n",
       "      <td>0</td>\n",
       "      <td>0.000257</td>\n",
       "    </tr>\n",
       "    <tr>\n",
       "      <th>200943</th>\n",
       "      <td>0</td>\n",
       "      <td>0.000253</td>\n",
       "    </tr>\n",
       "    <tr>\n",
       "      <th>200353</th>\n",
       "      <td>0</td>\n",
       "      <td>0.000257</td>\n",
       "    </tr>\n",
       "    <tr>\n",
       "      <th>...</th>\n",
       "      <td>...</td>\n",
       "      <td>...</td>\n",
       "    </tr>\n",
       "    <tr>\n",
       "      <th>176661</th>\n",
       "      <td>0</td>\n",
       "      <td>0.000257</td>\n",
       "    </tr>\n",
       "    <tr>\n",
       "      <th>189002</th>\n",
       "      <td>0</td>\n",
       "      <td>0.000257</td>\n",
       "    </tr>\n",
       "    <tr>\n",
       "      <th>240841</th>\n",
       "      <td>0</td>\n",
       "      <td>0.000257</td>\n",
       "    </tr>\n",
       "    <tr>\n",
       "      <th>41929</th>\n",
       "      <td>0</td>\n",
       "      <td>0.000257</td>\n",
       "    </tr>\n",
       "    <tr>\n",
       "      <th>128869</th>\n",
       "      <td>0</td>\n",
       "      <td>0.000257</td>\n",
       "    </tr>\n",
       "  </tbody>\n",
       "</table>\n",
       "<p>45569 rows × 2 columns</p>\n",
       "</div>"
      ],
      "text/plain": [
       "        Gabarito  Previsoes_da_Máquina\n",
       "155622         0              0.000258\n",
       "53990          0              0.000257\n",
       "181215         0              0.000257\n",
       "200943         0              0.000253\n",
       "200353         0              0.000257\n",
       "...          ...                   ...\n",
       "176661         0              0.000257\n",
       "189002         0              0.000257\n",
       "240841         0              0.000257\n",
       "41929          0              0.000257\n",
       "128869         0              0.000257\n",
       "\n",
       "[45569 rows x 2 columns]"
      ]
     },
     "execution_count": 68,
     "metadata": {},
     "output_type": "execute_result"
    }
   ],
   "source": [
    "# Comparando gabarito e Previsoes_da_Máquina\n",
    "gabarito = pd.DataFrame({'Gabarito': y_val,'Previsoes_da_Máquina': yhat_lgbm})\n",
    "gabarito"
   ]
  },
  {
   "cell_type": "code",
   "execution_count": 69,
   "id": "42083bae",
   "metadata": {
    "ExecuteTime": {
     "end_time": "2023-05-12T23:23:57.597862Z",
     "start_time": "2023-05-12T23:23:57.477307Z"
    }
   },
   "outputs": [],
   "source": [
    "# Converting probabilities into 0 or 1\n",
    "for i in range(0,len(yhat_lgbm)):\n",
    "    if yhat_lgbm[i]>=.5: # setting threshold to .5\n",
    "        yhat_lgbm[i]=1 \n",
    "    else:\n",
    "        yhat_lgbm[i]=0"
   ]
  },
  {
   "cell_type": "code",
   "execution_count": 70,
   "id": "1bbfe81f",
   "metadata": {
    "ExecuteTime": {
     "end_time": "2023-05-12T23:24:13.038461Z",
     "start_time": "2023-05-12T23:24:12.658847Z"
    },
    "scrolled": false
   },
   "outputs": [
    {
     "name": "stdout",
     "output_type": "stream",
     "text": [
      "Classification metrics: \n",
      "               precision    recall  f1-score   support\n",
      "\n",
      "           0       1.00      1.00      1.00     45501\n",
      "           1       1.00      1.00      1.00        68\n",
      "\n",
      "    accuracy                           1.00     45569\n",
      "   macro avg       1.00      1.00      1.00     45569\n",
      "weighted avg       1.00      1.00      1.00     45569\n",
      "\n",
      "Confusion Matrix: \n",
      " [[45501     0]\n",
      " [    0    68]]\n",
      "Acurácia: 1.0\n"
     ]
    }
   ],
   "source": [
    "# Resultado em porcentagem\n",
    "print('Classification metrics: \\n', classification_report(y_val, yhat_lgbm))\n",
    "# Matriz de confusão\n",
    "print('Confusion Matrix: \\n', confusion_matrix(y_val, yhat_lgbm))\n",
    "# Acurácia\n",
    "print('Acurácia:', accuracy_score(y_val, yhat_lgbm))"
   ]
  },
  {
   "cell_type": "raw",
   "id": "c80582b4",
   "metadata": {},
   "source": [
    "# Resultado antes HP\n",
    "\n",
    "Classification metrics: \n",
    "               precision    recall  f1-score   support\n",
    "\n",
    "           0       1.00      1.00      1.00     45501\n",
    "           1       0.94      0.49      0.64        68\n",
    "\n",
    "    accuracy                           1.00     45569\n",
    "   macro avg       0.97      0.74      0.82     45569\n",
    "weighted avg       1.00      1.00      1.00     45569\n",
    "\n",
    "Confusion Matrix: \n",
    " [[45499     2]\n",
    " [   35    33]]\n",
    "Acurácia: 0.999188044503939"
   ]
  },
  {
   "cell_type": "markdown",
   "id": "342c1e34",
   "metadata": {},
   "source": [
    "#### <font color='#D2691E'>**XGBoost Regressor**"
   ]
  },
  {
   "cell_type": "code",
   "execution_count": 71,
   "id": "a5113c49",
   "metadata": {
    "ExecuteTime": {
     "end_time": "2023-05-12T23:47:22.153807Z",
     "start_time": "2023-05-12T23:40:31.602652Z"
    }
   },
   "outputs": [
    {
     "data": {
      "text/html": [
       "<style>#sk-container-id-1 {color: black;background-color: white;}#sk-container-id-1 pre{padding: 0;}#sk-container-id-1 div.sk-toggleable {background-color: white;}#sk-container-id-1 label.sk-toggleable__label {cursor: pointer;display: block;width: 100%;margin-bottom: 0;padding: 0.3em;box-sizing: border-box;text-align: center;}#sk-container-id-1 label.sk-toggleable__label-arrow:before {content: \"▸\";float: left;margin-right: 0.25em;color: #696969;}#sk-container-id-1 label.sk-toggleable__label-arrow:hover:before {color: black;}#sk-container-id-1 div.sk-estimator:hover label.sk-toggleable__label-arrow:before {color: black;}#sk-container-id-1 div.sk-toggleable__content {max-height: 0;max-width: 0;overflow: hidden;text-align: left;background-color: #f0f8ff;}#sk-container-id-1 div.sk-toggleable__content pre {margin: 0.2em;color: black;border-radius: 0.25em;background-color: #f0f8ff;}#sk-container-id-1 input.sk-toggleable__control:checked~div.sk-toggleable__content {max-height: 200px;max-width: 100%;overflow: auto;}#sk-container-id-1 input.sk-toggleable__control:checked~label.sk-toggleable__label-arrow:before {content: \"▾\";}#sk-container-id-1 div.sk-estimator input.sk-toggleable__control:checked~label.sk-toggleable__label {background-color: #d4ebff;}#sk-container-id-1 div.sk-label input.sk-toggleable__control:checked~label.sk-toggleable__label {background-color: #d4ebff;}#sk-container-id-1 input.sk-hidden--visually {border: 0;clip: rect(1px 1px 1px 1px);clip: rect(1px, 1px, 1px, 1px);height: 1px;margin: -1px;overflow: hidden;padding: 0;position: absolute;width: 1px;}#sk-container-id-1 div.sk-estimator {font-family: monospace;background-color: #f0f8ff;border: 1px dotted black;border-radius: 0.25em;box-sizing: border-box;margin-bottom: 0.5em;}#sk-container-id-1 div.sk-estimator:hover {background-color: #d4ebff;}#sk-container-id-1 div.sk-parallel-item::after {content: \"\";width: 100%;border-bottom: 1px solid gray;flex-grow: 1;}#sk-container-id-1 div.sk-label:hover label.sk-toggleable__label {background-color: #d4ebff;}#sk-container-id-1 div.sk-serial::before {content: \"\";position: absolute;border-left: 1px solid gray;box-sizing: border-box;top: 0;bottom: 0;left: 50%;z-index: 0;}#sk-container-id-1 div.sk-serial {display: flex;flex-direction: column;align-items: center;background-color: white;padding-right: 0.2em;padding-left: 0.2em;position: relative;}#sk-container-id-1 div.sk-item {position: relative;z-index: 1;}#sk-container-id-1 div.sk-parallel {display: flex;align-items: stretch;justify-content: center;background-color: white;position: relative;}#sk-container-id-1 div.sk-item::before, #sk-container-id-1 div.sk-parallel-item::before {content: \"\";position: absolute;border-left: 1px solid gray;box-sizing: border-box;top: 0;bottom: 0;left: 50%;z-index: -1;}#sk-container-id-1 div.sk-parallel-item {display: flex;flex-direction: column;z-index: 1;position: relative;background-color: white;}#sk-container-id-1 div.sk-parallel-item:first-child::after {align-self: flex-end;width: 50%;}#sk-container-id-1 div.sk-parallel-item:last-child::after {align-self: flex-start;width: 50%;}#sk-container-id-1 div.sk-parallel-item:only-child::after {width: 0;}#sk-container-id-1 div.sk-dashed-wrapped {border: 1px dashed gray;margin: 0 0.4em 0.5em 0.4em;box-sizing: border-box;padding-bottom: 0.4em;background-color: white;}#sk-container-id-1 div.sk-label label {font-family: monospace;font-weight: bold;display: inline-block;line-height: 1.2em;}#sk-container-id-1 div.sk-label-container {text-align: center;}#sk-container-id-1 div.sk-container {/* jupyter's `normalize.less` sets `[hidden] { display: none; }` but bootstrap.min.css set `[hidden] { display: none !important; }` so we also need the `!important` here to be able to override the default hidden behavior on the sphinx rendered scikit-learn.org. See: https://github.com/scikit-learn/scikit-learn/issues/21755 */display: inline-block !important;position: relative;}#sk-container-id-1 div.sk-text-repr-fallback {display: none;}</style><div id=\"sk-container-id-1\" class=\"sk-top-container\"><div class=\"sk-text-repr-fallback\"><pre>XGBClassifier(base_score=0.5, booster=&#x27;gbtree&#x27;, callbacks=None,\n",
       "              colsample_bylevel=1, colsample_bynode=1, colsample_bytree=0.7,\n",
       "              early_stopping_rounds=None, enable_categorical=False,\n",
       "              eval_metric=None, gamma=0.2, gpu_id=-1, grow_policy=&#x27;depthwise&#x27;,\n",
       "              importance_type=None, interaction_constraints=&#x27;&#x27;,\n",
       "              learning_rate=0.1, max_bin=256, max_cat_to_onehot=4,\n",
       "              max_delta_step=0, max_depth=16, max_leaves=0, min_child_weight=2,\n",
       "              missing=nan, monotone_constraints=&#x27;()&#x27;, n_estimators=151,\n",
       "              n_jobs=0, num_parallel_tree=1, predictor=&#x27;auto&#x27;, random_state=0,\n",
       "              reg_alpha=7, reg_lambda=0, ...)</pre><b>In a Jupyter environment, please rerun this cell to show the HTML representation or trust the notebook. <br />On GitHub, the HTML representation is unable to render, please try loading this page with nbviewer.org.</b></div><div class=\"sk-container\" hidden><div class=\"sk-item\"><div class=\"sk-estimator sk-toggleable\"><input class=\"sk-toggleable__control sk-hidden--visually\" id=\"sk-estimator-id-1\" type=\"checkbox\" checked><label for=\"sk-estimator-id-1\" class=\"sk-toggleable__label sk-toggleable__label-arrow\">XGBClassifier</label><div class=\"sk-toggleable__content\"><pre>XGBClassifier(base_score=0.5, booster=&#x27;gbtree&#x27;, callbacks=None,\n",
       "              colsample_bylevel=1, colsample_bynode=1, colsample_bytree=0.7,\n",
       "              early_stopping_rounds=None, enable_categorical=False,\n",
       "              eval_metric=None, gamma=0.2, gpu_id=-1, grow_policy=&#x27;depthwise&#x27;,\n",
       "              importance_type=None, interaction_constraints=&#x27;&#x27;,\n",
       "              learning_rate=0.1, max_bin=256, max_cat_to_onehot=4,\n",
       "              max_delta_step=0, max_depth=16, max_leaves=0, min_child_weight=2,\n",
       "              missing=nan, monotone_constraints=&#x27;()&#x27;, n_estimators=151,\n",
       "              n_jobs=0, num_parallel_tree=1, predictor=&#x27;auto&#x27;, random_state=0,\n",
       "              reg_alpha=7, reg_lambda=0, ...)</pre></div></div></div></div></div>"
      ],
      "text/plain": [
       "XGBClassifier(base_score=0.5, booster='gbtree', callbacks=None,\n",
       "              colsample_bylevel=1, colsample_bynode=1, colsample_bytree=0.7,\n",
       "              early_stopping_rounds=None, enable_categorical=False,\n",
       "              eval_metric=None, gamma=0.2, gpu_id=-1, grow_policy='depthwise',\n",
       "              importance_type=None, interaction_constraints='',\n",
       "              learning_rate=0.1, max_bin=256, max_cat_to_onehot=4,\n",
       "              max_delta_step=0, max_depth=16, max_leaves=0, min_child_weight=2,\n",
       "              missing=nan, monotone_constraints='()', n_estimators=151,\n",
       "              n_jobs=0, num_parallel_tree=1, predictor='auto', random_state=0,\n",
       "              reg_alpha=7, reg_lambda=0, ...)"
      ]
     },
     "execution_count": 71,
     "metadata": {},
     "output_type": "execute_result"
    }
   ],
   "source": [
    "# Criar a variável do algoritmo\n",
    "\n",
    "model_xgb = xgb.XGBClassifier(colsample_bytree=0.7,\n",
    "                              gamma=0.2,\n",
    "                              learning_rate=0.1,\n",
    "                              max_depth=16,\n",
    "                              min_child_weight=2,\n",
    "                              n_estimators=151,\n",
    "                              reg_alpha=7,\n",
    "                              reg_lambda=0,\n",
    "                              subsample=0.9)\n",
    "\n",
    "# Modelo treinado sobre treino + validação\n",
    "model_xgb.fit(np.concatenate((X_train, X_val)),\n",
    "              np.concatenate((y_train, y_val)))"
   ]
  },
  {
   "cell_type": "code",
   "execution_count": 72,
   "id": "6b88b4db",
   "metadata": {
    "ExecuteTime": {
     "end_time": "2023-05-12T23:47:22.588670Z",
     "start_time": "2023-05-12T23:47:22.167801Z"
    }
   },
   "outputs": [],
   "source": [
    "# Avaliar a performance\n",
    "yhat_xgb = model_xgb.predict( X_val )"
   ]
  },
  {
   "cell_type": "markdown",
   "id": "3539a609",
   "metadata": {},
   "source": [
    "**Avaliando a Máquina Preditiva**"
   ]
  },
  {
   "cell_type": "code",
   "execution_count": 73,
   "id": "1a00d4ef",
   "metadata": {
    "ExecuteTime": {
     "end_time": "2023-05-12T23:47:22.650635Z",
     "start_time": "2023-05-12T23:47:22.602664Z"
    }
   },
   "outputs": [
    {
     "data": {
      "text/html": [
       "<div>\n",
       "<style scoped>\n",
       "    .dataframe tbody tr th:only-of-type {\n",
       "        vertical-align: middle;\n",
       "    }\n",
       "\n",
       "    .dataframe tbody tr th {\n",
       "        vertical-align: top;\n",
       "    }\n",
       "\n",
       "    .dataframe thead th {\n",
       "        text-align: right;\n",
       "    }\n",
       "</style>\n",
       "<table border=\"1\" class=\"dataframe\">\n",
       "  <thead>\n",
       "    <tr style=\"text-align: right;\">\n",
       "      <th></th>\n",
       "      <th>Gabarito</th>\n",
       "      <th>Previsoes_da_Máquina</th>\n",
       "    </tr>\n",
       "  </thead>\n",
       "  <tbody>\n",
       "    <tr>\n",
       "      <th>155622</th>\n",
       "      <td>0</td>\n",
       "      <td>0</td>\n",
       "    </tr>\n",
       "    <tr>\n",
       "      <th>53990</th>\n",
       "      <td>0</td>\n",
       "      <td>0</td>\n",
       "    </tr>\n",
       "    <tr>\n",
       "      <th>181215</th>\n",
       "      <td>0</td>\n",
       "      <td>0</td>\n",
       "    </tr>\n",
       "    <tr>\n",
       "      <th>200943</th>\n",
       "      <td>0</td>\n",
       "      <td>0</td>\n",
       "    </tr>\n",
       "    <tr>\n",
       "      <th>200353</th>\n",
       "      <td>0</td>\n",
       "      <td>0</td>\n",
       "    </tr>\n",
       "    <tr>\n",
       "      <th>...</th>\n",
       "      <td>...</td>\n",
       "      <td>...</td>\n",
       "    </tr>\n",
       "    <tr>\n",
       "      <th>176661</th>\n",
       "      <td>0</td>\n",
       "      <td>0</td>\n",
       "    </tr>\n",
       "    <tr>\n",
       "      <th>189002</th>\n",
       "      <td>0</td>\n",
       "      <td>0</td>\n",
       "    </tr>\n",
       "    <tr>\n",
       "      <th>240841</th>\n",
       "      <td>0</td>\n",
       "      <td>0</td>\n",
       "    </tr>\n",
       "    <tr>\n",
       "      <th>41929</th>\n",
       "      <td>0</td>\n",
       "      <td>0</td>\n",
       "    </tr>\n",
       "    <tr>\n",
       "      <th>128869</th>\n",
       "      <td>0</td>\n",
       "      <td>0</td>\n",
       "    </tr>\n",
       "  </tbody>\n",
       "</table>\n",
       "<p>45569 rows × 2 columns</p>\n",
       "</div>"
      ],
      "text/plain": [
       "        Gabarito  Previsoes_da_Máquina\n",
       "155622         0                     0\n",
       "53990          0                     0\n",
       "181215         0                     0\n",
       "200943         0                     0\n",
       "200353         0                     0\n",
       "...          ...                   ...\n",
       "176661         0                     0\n",
       "189002         0                     0\n",
       "240841         0                     0\n",
       "41929          0                     0\n",
       "128869         0                     0\n",
       "\n",
       "[45569 rows x 2 columns]"
      ]
     },
     "execution_count": 73,
     "metadata": {},
     "output_type": "execute_result"
    }
   ],
   "source": [
    "# Comparando gabarito e Previsoes_da_Máquina\n",
    "gabarito = pd.DataFrame({'Gabarito': y_val,'Previsoes_da_Máquina': yhat_xgb})\n",
    "gabarito"
   ]
  },
  {
   "cell_type": "code",
   "execution_count": 74,
   "id": "d78e8817",
   "metadata": {
    "ExecuteTime": {
     "end_time": "2023-05-12T23:47:23.105376Z",
     "start_time": "2023-05-12T23:47:22.659630Z"
    },
    "scrolled": true
   },
   "outputs": [
    {
     "name": "stdout",
     "output_type": "stream",
     "text": [
      "Classification metrics: \n",
      "               precision    recall  f1-score   support\n",
      "\n",
      "           0       1.00      1.00      1.00     45501\n",
      "           1       0.96      0.79      0.87        68\n",
      "\n",
      "    accuracy                           1.00     45569\n",
      "   macro avg       0.98      0.90      0.94     45569\n",
      "weighted avg       1.00      1.00      1.00     45569\n",
      "\n",
      "Confusion Matrix: \n",
      " [[45499     2]\n",
      " [   14    54]]\n",
      "Acurácia: 0.9996488841098115\n"
     ]
    }
   ],
   "source": [
    "# Resultado em porcentagem\n",
    "print('Classification metrics: \\n', classification_report(y_val, yhat_xgb))\n",
    "# Matriz de confusão\n",
    "print('Confusion Matrix: \\n', confusion_matrix(y_val, yhat_xgb))\n",
    "# Acurácia\n",
    "print('Acurácia:', accuracy_score(y_val, yhat_xgb))"
   ]
  },
  {
   "cell_type": "raw",
   "id": "4ec6de63",
   "metadata": {},
   "source": [
    "# Resultado antes HP\n",
    "\n",
    "Classification metrics: \n",
    "               precision    recall  f1-score   support\n",
    "\n",
    "           0       1.00      1.00      1.00     45501\n",
    "           1       0.93      0.74      0.82        68\n",
    "\n",
    "    accuracy                           1.00     45569\n",
    "   macro avg       0.96      0.87      0.91     45569\n",
    "weighted avg       1.00      1.00      1.00     45569\n",
    "\n",
    "Confusion Matrix: \n",
    " [[45497     4]\n",
    " [   18    50]]\n",
    "Acurácia: 0.9995172156509908"
   ]
  },
  {
   "cell_type": "markdown",
   "id": "c198ee02",
   "metadata": {},
   "source": [
    "#### <font color='#D2691E'>**Random Forest**"
   ]
  },
  {
   "cell_type": "code",
   "execution_count": 75,
   "id": "067fc4e1",
   "metadata": {
    "ExecuteTime": {
     "end_time": "2023-05-13T00:15:54.816304Z",
     "start_time": "2023-05-12T23:54:39.408986Z"
    }
   },
   "outputs": [
    {
     "data": {
      "text/html": [
       "<style>#sk-container-id-2 {color: black;background-color: white;}#sk-container-id-2 pre{padding: 0;}#sk-container-id-2 div.sk-toggleable {background-color: white;}#sk-container-id-2 label.sk-toggleable__label {cursor: pointer;display: block;width: 100%;margin-bottom: 0;padding: 0.3em;box-sizing: border-box;text-align: center;}#sk-container-id-2 label.sk-toggleable__label-arrow:before {content: \"▸\";float: left;margin-right: 0.25em;color: #696969;}#sk-container-id-2 label.sk-toggleable__label-arrow:hover:before {color: black;}#sk-container-id-2 div.sk-estimator:hover label.sk-toggleable__label-arrow:before {color: black;}#sk-container-id-2 div.sk-toggleable__content {max-height: 0;max-width: 0;overflow: hidden;text-align: left;background-color: #f0f8ff;}#sk-container-id-2 div.sk-toggleable__content pre {margin: 0.2em;color: black;border-radius: 0.25em;background-color: #f0f8ff;}#sk-container-id-2 input.sk-toggleable__control:checked~div.sk-toggleable__content {max-height: 200px;max-width: 100%;overflow: auto;}#sk-container-id-2 input.sk-toggleable__control:checked~label.sk-toggleable__label-arrow:before {content: \"▾\";}#sk-container-id-2 div.sk-estimator input.sk-toggleable__control:checked~label.sk-toggleable__label {background-color: #d4ebff;}#sk-container-id-2 div.sk-label input.sk-toggleable__control:checked~label.sk-toggleable__label {background-color: #d4ebff;}#sk-container-id-2 input.sk-hidden--visually {border: 0;clip: rect(1px 1px 1px 1px);clip: rect(1px, 1px, 1px, 1px);height: 1px;margin: -1px;overflow: hidden;padding: 0;position: absolute;width: 1px;}#sk-container-id-2 div.sk-estimator {font-family: monospace;background-color: #f0f8ff;border: 1px dotted black;border-radius: 0.25em;box-sizing: border-box;margin-bottom: 0.5em;}#sk-container-id-2 div.sk-estimator:hover {background-color: #d4ebff;}#sk-container-id-2 div.sk-parallel-item::after {content: \"\";width: 100%;border-bottom: 1px solid gray;flex-grow: 1;}#sk-container-id-2 div.sk-label:hover label.sk-toggleable__label {background-color: #d4ebff;}#sk-container-id-2 div.sk-serial::before {content: \"\";position: absolute;border-left: 1px solid gray;box-sizing: border-box;top: 0;bottom: 0;left: 50%;z-index: 0;}#sk-container-id-2 div.sk-serial {display: flex;flex-direction: column;align-items: center;background-color: white;padding-right: 0.2em;padding-left: 0.2em;position: relative;}#sk-container-id-2 div.sk-item {position: relative;z-index: 1;}#sk-container-id-2 div.sk-parallel {display: flex;align-items: stretch;justify-content: center;background-color: white;position: relative;}#sk-container-id-2 div.sk-item::before, #sk-container-id-2 div.sk-parallel-item::before {content: \"\";position: absolute;border-left: 1px solid gray;box-sizing: border-box;top: 0;bottom: 0;left: 50%;z-index: -1;}#sk-container-id-2 div.sk-parallel-item {display: flex;flex-direction: column;z-index: 1;position: relative;background-color: white;}#sk-container-id-2 div.sk-parallel-item:first-child::after {align-self: flex-end;width: 50%;}#sk-container-id-2 div.sk-parallel-item:last-child::after {align-self: flex-start;width: 50%;}#sk-container-id-2 div.sk-parallel-item:only-child::after {width: 0;}#sk-container-id-2 div.sk-dashed-wrapped {border: 1px dashed gray;margin: 0 0.4em 0.5em 0.4em;box-sizing: border-box;padding-bottom: 0.4em;background-color: white;}#sk-container-id-2 div.sk-label label {font-family: monospace;font-weight: bold;display: inline-block;line-height: 1.2em;}#sk-container-id-2 div.sk-label-container {text-align: center;}#sk-container-id-2 div.sk-container {/* jupyter's `normalize.less` sets `[hidden] { display: none; }` but bootstrap.min.css set `[hidden] { display: none !important; }` so we also need the `!important` here to be able to override the default hidden behavior on the sphinx rendered scikit-learn.org. See: https://github.com/scikit-learn/scikit-learn/issues/21755 */display: inline-block !important;position: relative;}#sk-container-id-2 div.sk-text-repr-fallback {display: none;}</style><div id=\"sk-container-id-2\" class=\"sk-top-container\"><div class=\"sk-text-repr-fallback\"><pre>RandomForestClassifier(max_depth=10, min_samples_split=9, n_estimators=141)</pre><b>In a Jupyter environment, please rerun this cell to show the HTML representation or trust the notebook. <br />On GitHub, the HTML representation is unable to render, please try loading this page with nbviewer.org.</b></div><div class=\"sk-container\" hidden><div class=\"sk-item\"><div class=\"sk-estimator sk-toggleable\"><input class=\"sk-toggleable__control sk-hidden--visually\" id=\"sk-estimator-id-2\" type=\"checkbox\" checked><label for=\"sk-estimator-id-2\" class=\"sk-toggleable__label sk-toggleable__label-arrow\">RandomForestClassifier</label><div class=\"sk-toggleable__content\"><pre>RandomForestClassifier(max_depth=10, min_samples_split=9, n_estimators=141)</pre></div></div></div></div></div>"
      ],
      "text/plain": [
       "RandomForestClassifier(max_depth=10, min_samples_split=9, n_estimators=141)"
      ]
     },
     "execution_count": 75,
     "metadata": {},
     "output_type": "execute_result"
    }
   ],
   "source": [
    "model_rf = RandomForestClassifier(bootstrap=True,\n",
    "                                   max_depth=10,\n",
    "                                   max_features='sqrt',\n",
    "                                   min_samples_leaf=1,\n",
    "                                   min_samples_split=9,\n",
    "                                   n_estimators=141)\n",
    "\n",
    "# Modelo treinado sobre treino + validação\n",
    "model_rf.fit(np.concatenate((X_train, X_val)),\n",
    "             np.concatenate((y_train, y_val)))"
   ]
  },
  {
   "cell_type": "code",
   "execution_count": 76,
   "id": "eb9c4a4b",
   "metadata": {
    "ExecuteTime": {
     "end_time": "2023-05-13T00:15:57.488925Z",
     "start_time": "2023-05-13T00:15:54.825297Z"
    }
   },
   "outputs": [
    {
     "name": "stderr",
     "output_type": "stream",
     "text": [
      "C:\\Users\\Rafael\\anaconda3\\lib\\site-packages\\sklearn\\base.py:432: UserWarning: X has feature names, but RandomForestClassifier was fitted without feature names\n",
      "  warnings.warn(\n"
     ]
    }
   ],
   "source": [
    "# Avaliar a performance\n",
    "yhat_rf = model_rf.predict( X_val )"
   ]
  },
  {
   "cell_type": "markdown",
   "id": "343a62a2",
   "metadata": {},
   "source": [
    "**Avaliando a Máquina Preditiva**"
   ]
  },
  {
   "cell_type": "code",
   "execution_count": 77,
   "id": "1b64f2ad",
   "metadata": {
    "ExecuteTime": {
     "end_time": "2023-05-13T00:15:57.570870Z",
     "start_time": "2023-05-13T00:15:57.497913Z"
    }
   },
   "outputs": [
    {
     "data": {
      "text/html": [
       "<div>\n",
       "<style scoped>\n",
       "    .dataframe tbody tr th:only-of-type {\n",
       "        vertical-align: middle;\n",
       "    }\n",
       "\n",
       "    .dataframe tbody tr th {\n",
       "        vertical-align: top;\n",
       "    }\n",
       "\n",
       "    .dataframe thead th {\n",
       "        text-align: right;\n",
       "    }\n",
       "</style>\n",
       "<table border=\"1\" class=\"dataframe\">\n",
       "  <thead>\n",
       "    <tr style=\"text-align: right;\">\n",
       "      <th></th>\n",
       "      <th>Gabarito</th>\n",
       "      <th>Previsoes_da_Máquina</th>\n",
       "    </tr>\n",
       "  </thead>\n",
       "  <tbody>\n",
       "    <tr>\n",
       "      <th>155622</th>\n",
       "      <td>0</td>\n",
       "      <td>0</td>\n",
       "    </tr>\n",
       "    <tr>\n",
       "      <th>53990</th>\n",
       "      <td>0</td>\n",
       "      <td>0</td>\n",
       "    </tr>\n",
       "    <tr>\n",
       "      <th>181215</th>\n",
       "      <td>0</td>\n",
       "      <td>0</td>\n",
       "    </tr>\n",
       "    <tr>\n",
       "      <th>200943</th>\n",
       "      <td>0</td>\n",
       "      <td>0</td>\n",
       "    </tr>\n",
       "    <tr>\n",
       "      <th>200353</th>\n",
       "      <td>0</td>\n",
       "      <td>0</td>\n",
       "    </tr>\n",
       "    <tr>\n",
       "      <th>...</th>\n",
       "      <td>...</td>\n",
       "      <td>...</td>\n",
       "    </tr>\n",
       "    <tr>\n",
       "      <th>176661</th>\n",
       "      <td>0</td>\n",
       "      <td>0</td>\n",
       "    </tr>\n",
       "    <tr>\n",
       "      <th>189002</th>\n",
       "      <td>0</td>\n",
       "      <td>0</td>\n",
       "    </tr>\n",
       "    <tr>\n",
       "      <th>240841</th>\n",
       "      <td>0</td>\n",
       "      <td>0</td>\n",
       "    </tr>\n",
       "    <tr>\n",
       "      <th>41929</th>\n",
       "      <td>0</td>\n",
       "      <td>0</td>\n",
       "    </tr>\n",
       "    <tr>\n",
       "      <th>128869</th>\n",
       "      <td>0</td>\n",
       "      <td>0</td>\n",
       "    </tr>\n",
       "  </tbody>\n",
       "</table>\n",
       "<p>45569 rows × 2 columns</p>\n",
       "</div>"
      ],
      "text/plain": [
       "        Gabarito  Previsoes_da_Máquina\n",
       "155622         0                     0\n",
       "53990          0                     0\n",
       "181215         0                     0\n",
       "200943         0                     0\n",
       "200353         0                     0\n",
       "...          ...                   ...\n",
       "176661         0                     0\n",
       "189002         0                     0\n",
       "240841         0                     0\n",
       "41929          0                     0\n",
       "128869         0                     0\n",
       "\n",
       "[45569 rows x 2 columns]"
      ]
     },
     "execution_count": 77,
     "metadata": {},
     "output_type": "execute_result"
    }
   ],
   "source": [
    "# Comparando gabarito e Previsoes_da_Máquina\n",
    "gabarito = pd.DataFrame({'Gabarito': y_val,'Previsoes_da_Máquina': yhat_rf})\n",
    "gabarito"
   ]
  },
  {
   "cell_type": "code",
   "execution_count": 78,
   "id": "394a8e3a",
   "metadata": {
    "ExecuteTime": {
     "end_time": "2023-05-13T00:15:58.043267Z",
     "start_time": "2023-05-13T00:15:57.585861Z"
    },
    "scrolled": true
   },
   "outputs": [
    {
     "name": "stdout",
     "output_type": "stream",
     "text": [
      "Classification metrics: \n",
      "               precision    recall  f1-score   support\n",
      "\n",
      "           0       1.00      1.00      1.00     45501\n",
      "           1       0.98      0.78      0.87        68\n",
      "\n",
      "    accuracy                           1.00     45569\n",
      "   macro avg       0.99      0.89      0.93     45569\n",
      "weighted avg       1.00      1.00      1.00     45569\n",
      "\n",
      "Confusion Matrix: \n",
      " [[45500     1]\n",
      " [   15    53]]\n",
      "Acurácia: 0.9996488841098115\n"
     ]
    }
   ],
   "source": [
    "# Resultado em porcentagem\n",
    "print('Classification metrics: \\n', classification_report(y_val, yhat_rf))\n",
    "# Matriz de confusão\n",
    "print('Confusion Matrix: \\n', confusion_matrix(y_val, yhat_rf))\n",
    "# Acurácia\n",
    "print('Acurácia:', accuracy_score(y_val, yhat_rf))"
   ]
  },
  {
   "cell_type": "raw",
   "id": "d1b362d5",
   "metadata": {},
   "source": [
    "# Resultado antes HP\n",
    "\n",
    "Classification metrics: \n",
    "               precision    recall  f1-score   support\n",
    "\n",
    "           0       1.00      1.00      1.00     45501\n",
    "           1       0.92      0.68      0.78        68\n",
    "\n",
    "    accuracy                           1.00     45569\n",
    "   macro avg       0.96      0.84      0.89     45569\n",
    "weighted avg       1.00      1.00      1.00     45569\n",
    "\n",
    "Confusion Matrix: \n",
    " [[45497     4]\n",
    " [   22    46]]\n",
    "Acurácia: 0.9994294366784436"
   ]
  },
  {
   "cell_type": "markdown",
   "id": "8b1131cb",
   "metadata": {},
   "source": [
    "#### <font color='#D2691E'> Comparando o desempenho dos modelos depois HP"
   ]
  },
  {
   "cell_type": "code",
   "execution_count": 79,
   "id": "ee26c057",
   "metadata": {
    "ExecuteTime": {
     "end_time": "2023-05-13T00:22:47.466710Z",
     "start_time": "2023-05-13T00:22:47.219855Z"
    }
   },
   "outputs": [],
   "source": [
    "# Dicionário de métricas - Regressão logística\n",
    "acc_test = accuracy_score( y_val, yhat_xgb )\n",
    "mHP_xgb = {'F1 Score': str(round(f1_score(y_val, yhat_xgb)*100,2)) + \"%\",\n",
    "        'Acurácia': str(round(acc_test *100,2)) + \"%\",\n",
    "        'Precisão': str(round(precision_score(y_val, yhat_xgb)*100,2)) + \"%\",\n",
    "        'Recall':   str(round(recall_score(y_val, yhat_xgb)*100,2)) + \"%\"}"
   ]
  },
  {
   "cell_type": "code",
   "execution_count": 80,
   "id": "87addf0b",
   "metadata": {
    "ExecuteTime": {
     "end_time": "2023-05-13T00:22:49.068107Z",
     "start_time": "2023-05-13T00:22:48.838240Z"
    }
   },
   "outputs": [],
   "source": [
    "# Dicionário de métricas - Light Gradient Boost Machine\n",
    "acc_test = accuracy_score(y_val, yhat_lgbm)\n",
    "mHP_lgbm = {'F1 Score': str(round(f1_score(y_val, yhat_lgbm)*100,2)) + \"%\",\n",
    "        'Acurácia': str(round(acc_test *100,2)) + \"%\",\n",
    "        'Precisão': str(round(precision_score(y_val, yhat_lgbm)*100,2)) + \"%\",\n",
    "        'Recall':   str(round(recall_score(y_val, yhat_lgbm)*100,2)) + \"%\"}"
   ]
  },
  {
   "cell_type": "code",
   "execution_count": 81,
   "id": "98401e73",
   "metadata": {
    "ExecuteTime": {
     "end_time": "2023-05-13T00:22:50.121394Z",
     "start_time": "2023-05-13T00:22:49.896520Z"
    }
   },
   "outputs": [],
   "source": [
    "# Dicionário de métricas - Random forest\n",
    "acc_test = accuracy_score( y_val, yhat_rf )\n",
    "mHP_rf = {'F1 Score': str(round(f1_score(y_val, yhat_rf)*100,2)) + \"%\",\n",
    "        'Acurácia': str(round(acc_test *100,2)) + \"%\",\n",
    "        'Precisão': str(round(precision_score(y_val, yhat_rf)*100,2)) + \"%\",\n",
    "        'Recall':   str(round(recall_score(y_val, yhat_rf)*100,2)) + \"%\"}"
   ]
  },
  {
   "cell_type": "code",
   "execution_count": 85,
   "id": "4aa57c3d",
   "metadata": {
    "ExecuteTime": {
     "end_time": "2023-05-13T00:29:46.488226Z",
     "start_time": "2023-05-13T00:29:46.457245Z"
    }
   },
   "outputs": [],
   "source": [
    "# Gerando o DataFrame com todos os valores de todos os modelos treinados\n",
    "df_aux2 = pd.DataFrame({'XGBoost - HP':pd.Series(mHP_xgb),\n",
    "                       'LGBM - HP':pd.Series(mHP_lgbm),\n",
    "                       'Random Fores - HP':pd.Series(mHP_rf),\n",
    "                       'XGBoost':pd.Series(m_xgb),\n",
    "                       'LGBM':pd.Series(m_lgbm),\n",
    "                       'Random Forest':pd.Series(m_rf)})"
   ]
  },
  {
   "cell_type": "code",
   "execution_count": 86,
   "id": "76e417af",
   "metadata": {
    "ExecuteTime": {
     "end_time": "2023-05-13T00:29:48.281502Z",
     "start_time": "2023-05-13T00:29:48.237529Z"
    }
   },
   "outputs": [
    {
     "data": {
      "text/html": [
       "<div>\n",
       "<style scoped>\n",
       "    .dataframe tbody tr th:only-of-type {\n",
       "        vertical-align: middle;\n",
       "    }\n",
       "\n",
       "    .dataframe tbody tr th {\n",
       "        vertical-align: top;\n",
       "    }\n",
       "\n",
       "    .dataframe thead th {\n",
       "        text-align: right;\n",
       "    }\n",
       "</style>\n",
       "<table border=\"1\" class=\"dataframe\">\n",
       "  <thead>\n",
       "    <tr style=\"text-align: right;\">\n",
       "      <th></th>\n",
       "      <th>XGBoost - HP</th>\n",
       "      <th>LGBM - HP</th>\n",
       "      <th>Random Fores - HP</th>\n",
       "      <th>XGBoost</th>\n",
       "      <th>LGBM</th>\n",
       "      <th>Random Forest</th>\n",
       "    </tr>\n",
       "  </thead>\n",
       "  <tbody>\n",
       "    <tr>\n",
       "      <th>F1 Score</th>\n",
       "      <td>87.1%</td>\n",
       "      <td>100.0%</td>\n",
       "      <td>86.89%</td>\n",
       "      <td>81.97%</td>\n",
       "      <td>64.08%</td>\n",
       "      <td>77.97%</td>\n",
       "    </tr>\n",
       "    <tr>\n",
       "      <th>Acurácia</th>\n",
       "      <td>99.96%</td>\n",
       "      <td>100.0%</td>\n",
       "      <td>99.96%</td>\n",
       "      <td>99.95%</td>\n",
       "      <td>99.92%</td>\n",
       "      <td>99.94%</td>\n",
       "    </tr>\n",
       "    <tr>\n",
       "      <th>Precisão</th>\n",
       "      <td>96.43%</td>\n",
       "      <td>100.0%</td>\n",
       "      <td>98.15%</td>\n",
       "      <td>92.59%</td>\n",
       "      <td>94.29%</td>\n",
       "      <td>92.0%</td>\n",
       "    </tr>\n",
       "    <tr>\n",
       "      <th>Recall</th>\n",
       "      <td>79.41%</td>\n",
       "      <td>100.0%</td>\n",
       "      <td>77.94%</td>\n",
       "      <td>73.53%</td>\n",
       "      <td>48.53%</td>\n",
       "      <td>67.65%</td>\n",
       "    </tr>\n",
       "  </tbody>\n",
       "</table>\n",
       "</div>"
      ],
      "text/plain": [
       "         XGBoost - HP LGBM - HP Random Fores - HP XGBoost    LGBM  \\\n",
       "F1 Score        87.1%    100.0%            86.89%  81.97%  64.08%   \n",
       "Acurácia       99.96%    100.0%            99.96%  99.95%  99.92%   \n",
       "Precisão       96.43%    100.0%            98.15%  92.59%  94.29%   \n",
       "Recall         79.41%    100.0%            77.94%  73.53%  48.53%   \n",
       "\n",
       "         Random Forest  \n",
       "F1 Score        77.97%  \n",
       "Acurácia        99.94%  \n",
       "Precisão         92.0%  \n",
       "Recall          67.65%  "
      ]
     },
     "metadata": {},
     "output_type": "display_data"
    }
   ],
   "source": [
    "display(df_aux2)"
   ]
  },
  {
   "cell_type": "code",
   "execution_count": 84,
   "id": "25caf48a",
   "metadata": {
    "ExecuteTime": {
     "end_time": "2023-05-13T00:23:30.124913Z",
     "start_time": "2023-05-13T00:23:30.004982Z"
    }
   },
   "outputs": [
    {
     "name": "stdout",
     "output_type": "stream",
     "text": [
      "Confusion Matrix - xgb: \n",
      " [[45499     2]\n",
      " [   14    54]]\n",
      "Confusion Matrix - lgbm: \n",
      " [[45501     0]\n",
      " [    0    68]]\n",
      "Confusion Matrix - rf: \n",
      " [[45500     1]\n",
      " [   15    53]]\n"
     ]
    }
   ],
   "source": [
    "# Matriz de confusão\n",
    "print('Confusion Matrix - xgb: \\n', confusion_matrix(y_val, yhat_xgb))\n",
    "# Matriz de confusão\n",
    "print('Confusion Matrix - lgbm: \\n', confusion_matrix(y_val, yhat_lgbm))\n",
    "# Matriz de confusão\n",
    "print('Confusion Matrix - rf: \\n', confusion_matrix(y_val, yhat_rf))"
   ]
  },
  {
   "cell_type": "raw",
   "id": "31dafe81",
   "metadata": {},
   "source": [
    "# Resultado antes HP\n",
    "\n",
    "Confusion Matrix - xgb: \n",
    " [[45497     4]\n",
    " [   18    50]]\n",
    "Confusion Matrix - lgbm: \n",
    " [[45499     2]\n",
    " [   35    33]]\n",
    "Confusion Matrix - rf: \n",
    " [[45497     4]\n",
    " [   22    46]]"
   ]
  },
  {
   "cell_type": "markdown",
   "id": "8f0891f2",
   "metadata": {},
   "source": [
    "**Nota:**\n",
    "<p>Se a métrica mais importante é o F1 Score, então o LGBM com ajuste de hiperparâmetros seria a escolha, pois obteve um resultado de 100%. Porém, se a acurácia é a métrica mais importante, todos os modelos apresentaram desempenho muito semelhante. Já se a precisão e o recall são as métricas mais importantes, então seria necessário avaliar qual modelo atende melhor a essas métricas. No geral, considerando as métricas apresentadas, o XGBoost com ajuste de hiperparâmetros e o LGBM com ajuste de hiperparâmetros são os modelos mais promissores.</p>\n",
    "\n",
    "- O XGBoost e o Random Forest, que passaram por ajuste de hiperparâmetros, tiveram um desempenho muito próximo em termos de F1-Score, com o LGBM obtendo o melhor resultado. No entanto, os modelos ajustados tiveram um tempo maior de treinamento, em comparação com os modelos não ajustados.\n",
    "- Em termos de acurácia, todos os modelos apresentaram um excelente desempenho, com valores acima de 99,9%.\n",
    "- A precisão, que representa a proporção de verdadeiros positivos em relação a todos os positivos previstos, foi excelente em todos os modelos, com o LGBM obtendo o melhor resultado.\n",
    "- Já o recall, que representa a proporção de verdadeiros positivos em relação a todos os verdadeiros positivos, foi menor em comparação com as outras métricas, sendo o Random Forest o modelo com melhor resultado.\n",
    "- No entanto, é importante avaliar outros fatores, como a escalabilidade do modelo, a facilidade de implantação e manutenção, e a interpretabilidade das previsões.\n",
    "\n",
    "\n",
    "- Se a equipe tem recursos suficientes para implementar e manter um modelo mais complexo, como XGBoost ou LGBM com ajuste de hiperparâmetros, esses modelos podem apresentar uma melhor precisão e desempenho em relação ao Random Forest - HP.\n",
    "- Por outro lado, se a equipe não tem recursos para lidar com modelos mais complexos, o Random Forest - HP pode ser uma boa escolha, pois tem uma boa precisão e é relativamente simples de ser implementado e mantido.\n",
    "\n",
    "**Nesse caso, o Random Forest - HP também pode ser uma boa escolha, pois é um modelo relativamente fácil de interpretar.**\n",
    "\n",
    "\n",
    "<p>**Explicação:**\n",
    "\n",
    "Os modelos XGBoost e LightGBM são considerados mais complexos do que modelos de aprendizado de máquina mais simples, como Regressão Logística ou Árvores de Decisão, porque possuem mais parâmetros a serem ajustados e usam técnicas mais avançadas para construir árvores de decisão, como a otimização de gradiente e a amostragem ponderada.\n",
    "\n",
    "Esses modelos também podem apresentar maior capacidade de generalização e melhor desempenho em conjuntos de dados maiores e mais complexos. No entanto, sua complexidade pode tornar a implementação e manutenção mais desafiadoras, e eles podem levar mais tempo para treinar em comparação com modelos mais simples.</p>"
   ]
  },
  {
   "cell_type": "markdown",
   "id": "92f5768b",
   "metadata": {},
   "source": [
    "### <font color='#F37126'> 7.3. Modelo final"
   ]
  },
  {
   "cell_type": "code",
   "execution_count": 88,
   "id": "70a4c071",
   "metadata": {
    "ExecuteTime": {
     "end_time": "2023-05-13T13:02:50.488104Z",
     "start_time": "2023-05-13T12:54:35.443744Z"
    }
   },
   "outputs": [
    {
     "data": {
      "text/html": [
       "<style>#sk-container-id-3 {color: black;background-color: white;}#sk-container-id-3 pre{padding: 0;}#sk-container-id-3 div.sk-toggleable {background-color: white;}#sk-container-id-3 label.sk-toggleable__label {cursor: pointer;display: block;width: 100%;margin-bottom: 0;padding: 0.3em;box-sizing: border-box;text-align: center;}#sk-container-id-3 label.sk-toggleable__label-arrow:before {content: \"▸\";float: left;margin-right: 0.25em;color: #696969;}#sk-container-id-3 label.sk-toggleable__label-arrow:hover:before {color: black;}#sk-container-id-3 div.sk-estimator:hover label.sk-toggleable__label-arrow:before {color: black;}#sk-container-id-3 div.sk-toggleable__content {max-height: 0;max-width: 0;overflow: hidden;text-align: left;background-color: #f0f8ff;}#sk-container-id-3 div.sk-toggleable__content pre {margin: 0.2em;color: black;border-radius: 0.25em;background-color: #f0f8ff;}#sk-container-id-3 input.sk-toggleable__control:checked~div.sk-toggleable__content {max-height: 200px;max-width: 100%;overflow: auto;}#sk-container-id-3 input.sk-toggleable__control:checked~label.sk-toggleable__label-arrow:before {content: \"▾\";}#sk-container-id-3 div.sk-estimator input.sk-toggleable__control:checked~label.sk-toggleable__label {background-color: #d4ebff;}#sk-container-id-3 div.sk-label input.sk-toggleable__control:checked~label.sk-toggleable__label {background-color: #d4ebff;}#sk-container-id-3 input.sk-hidden--visually {border: 0;clip: rect(1px 1px 1px 1px);clip: rect(1px, 1px, 1px, 1px);height: 1px;margin: -1px;overflow: hidden;padding: 0;position: absolute;width: 1px;}#sk-container-id-3 div.sk-estimator {font-family: monospace;background-color: #f0f8ff;border: 1px dotted black;border-radius: 0.25em;box-sizing: border-box;margin-bottom: 0.5em;}#sk-container-id-3 div.sk-estimator:hover {background-color: #d4ebff;}#sk-container-id-3 div.sk-parallel-item::after {content: \"\";width: 100%;border-bottom: 1px solid gray;flex-grow: 1;}#sk-container-id-3 div.sk-label:hover label.sk-toggleable__label {background-color: #d4ebff;}#sk-container-id-3 div.sk-serial::before {content: \"\";position: absolute;border-left: 1px solid gray;box-sizing: border-box;top: 0;bottom: 0;left: 50%;z-index: 0;}#sk-container-id-3 div.sk-serial {display: flex;flex-direction: column;align-items: center;background-color: white;padding-right: 0.2em;padding-left: 0.2em;position: relative;}#sk-container-id-3 div.sk-item {position: relative;z-index: 1;}#sk-container-id-3 div.sk-parallel {display: flex;align-items: stretch;justify-content: center;background-color: white;position: relative;}#sk-container-id-3 div.sk-item::before, #sk-container-id-3 div.sk-parallel-item::before {content: \"\";position: absolute;border-left: 1px solid gray;box-sizing: border-box;top: 0;bottom: 0;left: 50%;z-index: -1;}#sk-container-id-3 div.sk-parallel-item {display: flex;flex-direction: column;z-index: 1;position: relative;background-color: white;}#sk-container-id-3 div.sk-parallel-item:first-child::after {align-self: flex-end;width: 50%;}#sk-container-id-3 div.sk-parallel-item:last-child::after {align-self: flex-start;width: 50%;}#sk-container-id-3 div.sk-parallel-item:only-child::after {width: 0;}#sk-container-id-3 div.sk-dashed-wrapped {border: 1px dashed gray;margin: 0 0.4em 0.5em 0.4em;box-sizing: border-box;padding-bottom: 0.4em;background-color: white;}#sk-container-id-3 div.sk-label label {font-family: monospace;font-weight: bold;display: inline-block;line-height: 1.2em;}#sk-container-id-3 div.sk-label-container {text-align: center;}#sk-container-id-3 div.sk-container {/* jupyter's `normalize.less` sets `[hidden] { display: none; }` but bootstrap.min.css set `[hidden] { display: none !important; }` so we also need the `!important` here to be able to override the default hidden behavior on the sphinx rendered scikit-learn.org. See: https://github.com/scikit-learn/scikit-learn/issues/21755 */display: inline-block !important;position: relative;}#sk-container-id-3 div.sk-text-repr-fallback {display: none;}</style><div id=\"sk-container-id-3\" class=\"sk-top-container\"><div class=\"sk-text-repr-fallback\"><pre>RandomForestClassifier(max_depth=10, min_samples_split=9, n_estimators=141)</pre><b>In a Jupyter environment, please rerun this cell to show the HTML representation or trust the notebook. <br />On GitHub, the HTML representation is unable to render, please try loading this page with nbviewer.org.</b></div><div class=\"sk-container\" hidden><div class=\"sk-item\"><div class=\"sk-estimator sk-toggleable\"><input class=\"sk-toggleable__control sk-hidden--visually\" id=\"sk-estimator-id-3\" type=\"checkbox\" checked><label for=\"sk-estimator-id-3\" class=\"sk-toggleable__label sk-toggleable__label-arrow\">RandomForestClassifier</label><div class=\"sk-toggleable__content\"><pre>RandomForestClassifier(max_depth=10, min_samples_split=9, n_estimators=141)</pre></div></div></div></div></div>"
      ],
      "text/plain": [
       "RandomForestClassifier(max_depth=10, min_samples_split=9, n_estimators=141)"
      ]
     },
     "execution_count": 88,
     "metadata": {},
     "output_type": "execute_result"
    }
   ],
   "source": [
    "# Classificação sobre os dados de teste \n",
    "model = RandomForestClassifier(bootstrap=True,\n",
    "                                   max_depth=10,\n",
    "                                   max_features='sqrt',\n",
    "                                   min_samples_leaf=1,\n",
    "                                   min_samples_split=9,\n",
    "                                   n_estimators=141)\n",
    "\n",
    "# Modelo treinado sobre treino + validação\n",
    "model.fit(np.concatenate((X_train, X_val)),\n",
    "             np.concatenate((y_train, y_val)))"
   ]
  },
  {
   "cell_type": "code",
   "execution_count": 89,
   "id": "b769e3f5",
   "metadata": {
    "ExecuteTime": {
     "end_time": "2023-05-13T13:02:51.841404Z",
     "start_time": "2023-05-13T13:02:50.488104Z"
    }
   },
   "outputs": [
    {
     "name": "stderr",
     "output_type": "stream",
     "text": [
      "C:\\Users\\Rafael\\anaconda3\\lib\\site-packages\\sklearn\\base.py:432: UserWarning: X has feature names, but RandomForestClassifier was fitted without feature names\n",
      "  warnings.warn(\n"
     ]
    }
   ],
   "source": [
    "# Avaliar a performance\n",
    "yhat = model.predict( X_test )"
   ]
  },
  {
   "cell_type": "markdown",
   "id": "ef983ee2",
   "metadata": {},
   "source": [
    "# <font color='red'> 8 - AVALIAÇÃO DO ALGORITMO"
   ]
  },
  {
   "cell_type": "markdown",
   "id": "e98ec3aa",
   "metadata": {},
   "source": [
    "**Avaliando a Máquina Preditiva**"
   ]
  },
  {
   "cell_type": "code",
   "execution_count": 90,
   "id": "2ee3626c",
   "metadata": {
    "ExecuteTime": {
     "end_time": "2023-05-13T13:04:29.686789Z",
     "start_time": "2023-05-13T13:04:29.638793Z"
    }
   },
   "outputs": [
    {
     "data": {
      "text/html": [
       "<div>\n",
       "<style scoped>\n",
       "    .dataframe tbody tr th:only-of-type {\n",
       "        vertical-align: middle;\n",
       "    }\n",
       "\n",
       "    .dataframe tbody tr th {\n",
       "        vertical-align: top;\n",
       "    }\n",
       "\n",
       "    .dataframe thead th {\n",
       "        text-align: right;\n",
       "    }\n",
       "</style>\n",
       "<table border=\"1\" class=\"dataframe\">\n",
       "  <thead>\n",
       "    <tr style=\"text-align: right;\">\n",
       "      <th></th>\n",
       "      <th>Gabarito</th>\n",
       "      <th>Previsoes_da_Máquina</th>\n",
       "    </tr>\n",
       "  </thead>\n",
       "  <tbody>\n",
       "    <tr>\n",
       "      <th>263020</th>\n",
       "      <td>0</td>\n",
       "      <td>0</td>\n",
       "    </tr>\n",
       "    <tr>\n",
       "      <th>11378</th>\n",
       "      <td>0</td>\n",
       "      <td>0</td>\n",
       "    </tr>\n",
       "    <tr>\n",
       "      <th>147283</th>\n",
       "      <td>0</td>\n",
       "      <td>0</td>\n",
       "    </tr>\n",
       "    <tr>\n",
       "      <th>219439</th>\n",
       "      <td>0</td>\n",
       "      <td>0</td>\n",
       "    </tr>\n",
       "    <tr>\n",
       "      <th>36939</th>\n",
       "      <td>0</td>\n",
       "      <td>0</td>\n",
       "    </tr>\n",
       "    <tr>\n",
       "      <th>...</th>\n",
       "      <td>...</td>\n",
       "      <td>...</td>\n",
       "    </tr>\n",
       "    <tr>\n",
       "      <th>54199</th>\n",
       "      <td>0</td>\n",
       "      <td>0</td>\n",
       "    </tr>\n",
       "    <tr>\n",
       "      <th>184616</th>\n",
       "      <td>0</td>\n",
       "      <td>0</td>\n",
       "    </tr>\n",
       "    <tr>\n",
       "      <th>274532</th>\n",
       "      <td>0</td>\n",
       "      <td>0</td>\n",
       "    </tr>\n",
       "    <tr>\n",
       "      <th>269819</th>\n",
       "      <td>0</td>\n",
       "      <td>0</td>\n",
       "    </tr>\n",
       "    <tr>\n",
       "      <th>64170</th>\n",
       "      <td>0</td>\n",
       "      <td>0</td>\n",
       "    </tr>\n",
       "  </tbody>\n",
       "</table>\n",
       "<p>56962 rows × 2 columns</p>\n",
       "</div>"
      ],
      "text/plain": [
       "        Gabarito  Previsoes_da_Máquina\n",
       "263020         0                     0\n",
       "11378          0                     0\n",
       "147283         0                     0\n",
       "219439         0                     0\n",
       "36939          0                     0\n",
       "...          ...                   ...\n",
       "54199          0                     0\n",
       "184616         0                     0\n",
       "274532         0                     0\n",
       "269819         0                     0\n",
       "64170          0                     0\n",
       "\n",
       "[56962 rows x 2 columns]"
      ]
     },
     "execution_count": 90,
     "metadata": {},
     "output_type": "execute_result"
    }
   ],
   "source": [
    "# Comparando gabarito e Previsoes_da_Máquina\n",
    "gabarito = pd.DataFrame({'Gabarito': y_test,'Previsoes_da_Máquina': yhat})\n",
    "gabarito"
   ]
  },
  {
   "cell_type": "code",
   "execution_count": 91,
   "id": "f0e618c0",
   "metadata": {
    "ExecuteTime": {
     "end_time": "2023-05-13T13:04:34.661522Z",
     "start_time": "2023-05-13T13:04:34.533541Z"
    }
   },
   "outputs": [],
   "source": [
    "# Dicionário de métricas - Random forest\n",
    "acc_test = accuracy_score( y_test, yhat )\n",
    "m_final = {'F1 Score': str(round(f1_score(y_test, yhat)*100,2)) + \"%\",\n",
    "        'Acurácia': str(round(acc_test *100,2)) + \"%\",\n",
    "        'Precisão': str(round(precision_score(y_test, yhat)*100,2)) + \"%\",\n",
    "        'Recall':   str(round(recall_score(y_test, yhat)*100,2)) + \"%\"}"
   ]
  },
  {
   "cell_type": "code",
   "execution_count": 92,
   "id": "6fa824d4",
   "metadata": {
    "ExecuteTime": {
     "end_time": "2023-05-13T13:04:38.053382Z",
     "start_time": "2023-05-13T13:04:38.029380Z"
    }
   },
   "outputs": [],
   "source": [
    "# Gerando o DataFrame com todos os valores de todos os modelos treinados\n",
    "df_aux3 = pd.DataFrame({'Random Forest':pd.Series(m_final)})"
   ]
  },
  {
   "cell_type": "code",
   "execution_count": 93,
   "id": "e1244740",
   "metadata": {
    "ExecuteTime": {
     "end_time": "2023-05-13T13:04:43.716941Z",
     "start_time": "2023-05-13T13:04:43.692945Z"
    }
   },
   "outputs": [
    {
     "data": {
      "text/html": [
       "<div>\n",
       "<style scoped>\n",
       "    .dataframe tbody tr th:only-of-type {\n",
       "        vertical-align: middle;\n",
       "    }\n",
       "\n",
       "    .dataframe tbody tr th {\n",
       "        vertical-align: top;\n",
       "    }\n",
       "\n",
       "    .dataframe thead th {\n",
       "        text-align: right;\n",
       "    }\n",
       "</style>\n",
       "<table border=\"1\" class=\"dataframe\">\n",
       "  <thead>\n",
       "    <tr style=\"text-align: right;\">\n",
       "      <th></th>\n",
       "      <th>Random Forest</th>\n",
       "    </tr>\n",
       "  </thead>\n",
       "  <tbody>\n",
       "    <tr>\n",
       "      <th>F1 Score</th>\n",
       "      <td>86.03%</td>\n",
       "    </tr>\n",
       "    <tr>\n",
       "      <th>Acurácia</th>\n",
       "      <td>99.96%</td>\n",
       "    </tr>\n",
       "    <tr>\n",
       "      <th>Precisão</th>\n",
       "      <td>95.06%</td>\n",
       "    </tr>\n",
       "    <tr>\n",
       "      <th>Recall</th>\n",
       "      <td>78.57%</td>\n",
       "    </tr>\n",
       "  </tbody>\n",
       "</table>\n",
       "</div>"
      ],
      "text/plain": [
       "         Random Forest\n",
       "F1 Score        86.03%\n",
       "Acurácia        99.96%\n",
       "Precisão        95.06%\n",
       "Recall          78.57%"
      ]
     },
     "metadata": {},
     "output_type": "display_data"
    }
   ],
   "source": [
    "display(df_aux3)"
   ]
  },
  {
   "cell_type": "code",
   "execution_count": 94,
   "id": "b3feb939",
   "metadata": {
    "ExecuteTime": {
     "end_time": "2023-05-13T13:04:49.091845Z",
     "start_time": "2023-05-13T13:04:48.915858Z"
    },
    "scrolled": true
   },
   "outputs": [
    {
     "name": "stdout",
     "output_type": "stream",
     "text": [
      "Classification metrics: \n",
      "               precision    recall  f1-score   support\n",
      "\n",
      "           0       1.00      1.00      1.00     56864\n",
      "           1       0.95      0.79      0.86        98\n",
      "\n",
      "    accuracy                           1.00     56962\n",
      "   macro avg       0.98      0.89      0.93     56962\n",
      "weighted avg       1.00      1.00      1.00     56962\n",
      "\n",
      "Confusion Matrix: \n",
      " [[56860     4]\n",
      " [   21    77]]\n",
      "Acurácia: 0.9995611109160493\n"
     ]
    }
   ],
   "source": [
    "# Resultado em porcentagem\n",
    "print('Classification metrics: \\n', classification_report(y_test, yhat))\n",
    "# Matriz de confusão\n",
    "print('Confusion Matrix: \\n', confusion_matrix(y_test, yhat))\n",
    "# Acurácia\n",
    "print('Acurácia:', accuracy_score(y_test, yhat))"
   ]
  },
  {
   "cell_type": "raw",
   "id": "1277d2d1",
   "metadata": {},
   "source": [
    "# Modelo com os parâmetros HP\n",
    "\n",
    "Classification metrics: \n",
    "               precision    recall  f1-score   support\n",
    "\n",
    "           0       1.00      1.00      1.00     45501\n",
    "           1       0.98      0.78      0.87        68\n",
    "\n",
    "    accuracy                           1.00     45569\n",
    "   macro avg       0.99      0.89      0.93     45569\n",
    "weighted avg       1.00      1.00      1.00     45569\n",
    "\n",
    "Confusion Matrix: \n",
    " [[45500     1]\n",
    " [   15    53]]\n",
    "Acurácia: 0.9996488841098115"
   ]
  },
  {
   "cell_type": "markdown",
   "id": "df5556a3",
   "metadata": {},
   "source": [
    "**Nota:**\n",
    "- Podemos dizer que o modelo Random Forest alcançou uma acurácia de 99.96%, o que significa que ele foi capaz de classificar corretamente a maioria das transações (tanto as genuínas quanto as fraudulentas). O modelo apresentou um desempenho muito bom na detecção de transações genuínas, acertando todas as 56.864 transações genuínas do conjunto de testes.\n",
    "- Ao mesmo tempo, o modelo também detectou muitas transações fraudulentas, com uma precisão de 95.06%, o que significa que ele acertou a maioria das vezes quando indicou que uma transação era fraudulenta. O modelo também conseguiu detectar um bom número de transações fraudulentas, com um recall de 78.57%, o que significa que ele identificou a maioria das transações fraudulentas presentes no conjunto de testes.\n",
    "\n",
    "<p>Com base nesses resultados, podemos dizer que o modelo Random Forest é capaz de identificar a maioria das transações fraudulentas com uma alta precisão e recall, o que é muito importante para proteger o negócio contra perdas financeiras decorrentes de atividades fraudulentas.</p>"
   ]
  },
  {
   "cell_type": "markdown",
   "id": "d1244742",
   "metadata": {},
   "source": [
    "# <font color='red'> 9 - IMPLEMENTAR O MODELO PARA A PRODUÇÃO"
   ]
  },
  {
   "cell_type": "markdown",
   "id": "c5c12f10",
   "metadata": {},
   "source": [
    "### <font color='#F37126'> 9.1. Salvando o arquivo"
   ]
  },
  {
   "cell_type": "code",
   "execution_count": 96,
   "id": "258e6898",
   "metadata": {
    "ExecuteTime": {
     "end_time": "2023-05-13T13:24:33.390112Z",
     "start_time": "2023-05-13T13:24:33.144257Z"
    }
   },
   "outputs": [
    {
     "data": {
      "text/plain": [
       "['Modelo_Random_Forest_v01.pkl']"
      ]
     },
     "execution_count": 96,
     "metadata": {},
     "output_type": "execute_result"
    }
   ],
   "source": [
    "# Exportando o modelo\n",
    "joblib.dump( model, 'Modelo_Random_Forest_v01.pkl')"
   ]
  },
  {
   "cell_type": "code",
   "execution_count": 97,
   "id": "806956e8",
   "metadata": {
    "ExecuteTime": {
     "end_time": "2023-05-13T13:24:35.978254Z",
     "start_time": "2023-05-13T13:24:35.793360Z"
    }
   },
   "outputs": [],
   "source": [
    "# Testando o modelo treinado\n",
    "modelo_load = joblib.load('Modelo_Random_Forest_v01.pkl')"
   ]
  },
  {
   "cell_type": "markdown",
   "id": "9f4236e5",
   "metadata": {},
   "source": [
    "### <font color='#F37126'> 9.2. Aplicando uma simulação"
   ]
  },
  {
   "cell_type": "code",
   "execution_count": 141,
   "id": "a6ff3911",
   "metadata": {
    "ExecuteTime": {
     "end_time": "2023-05-13T14:31:19.340257Z",
     "start_time": "2023-05-13T14:31:16.219030Z"
    }
   },
   "outputs": [],
   "source": [
    "# Lendo os Dados\n",
    "df = pd.read_csv('Dataset/transferencias.csv')"
   ]
  },
  {
   "cell_type": "code",
   "execution_count": 142,
   "id": "f575e563",
   "metadata": {
    "ExecuteTime": {
     "end_time": "2023-05-13T14:31:20.386619Z",
     "start_time": "2023-05-13T14:31:20.332650Z"
    }
   },
   "outputs": [],
   "source": [
    "df = df.copy()"
   ]
  },
  {
   "cell_type": "code",
   "execution_count": 143,
   "id": "22eef281",
   "metadata": {
    "ExecuteTime": {
     "end_time": "2023-05-13T14:31:21.059177Z",
     "start_time": "2023-05-13T14:31:20.997191Z"
    }
   },
   "outputs": [
    {
     "data": {
      "text/html": [
       "<div>\n",
       "<style scoped>\n",
       "    .dataframe tbody tr th:only-of-type {\n",
       "        vertical-align: middle;\n",
       "    }\n",
       "\n",
       "    .dataframe tbody tr th {\n",
       "        vertical-align: top;\n",
       "    }\n",
       "\n",
       "    .dataframe thead th {\n",
       "        text-align: right;\n",
       "    }\n",
       "</style>\n",
       "<table border=\"1\" class=\"dataframe\">\n",
       "  <thead>\n",
       "    <tr style=\"text-align: right;\">\n",
       "      <th></th>\n",
       "      <th>Timestamp</th>\n",
       "      <th>pais</th>\n",
       "      <th>cidade</th>\n",
       "      <th>bairro</th>\n",
       "      <th>cep</th>\n",
       "      <th>ip</th>\n",
       "      <th>dia</th>\n",
       "      <th>hora</th>\n",
       "      <th>minuto</th>\n",
       "      <th>so</th>\n",
       "      <th>valor</th>\n",
       "      <th>antecedentes</th>\n",
       "      <th>reclamacoes</th>\n",
       "      <th>qtd_trans</th>\n",
       "      <th>crt</th>\n",
       "      <th>limite_global</th>\n",
       "      <th>tipo_crt</th>\n",
       "      <th>estabelecimento</th>\n",
       "      <th>contas</th>\n",
       "      <th>emprestimos</th>\n",
       "      <th>navegador</th>\n",
       "      <th>android</th>\n",
       "      <th>ios</th>\n",
       "      <th>compras</th>\n",
       "      <th>hist_navegacao</th>\n",
       "      <th>relacionamento</th>\n",
       "      <th>ind_seguranca</th>\n",
       "      <th>tempo_transacao</th>\n",
       "      <th>lim_crt</th>\n",
       "      <th>hist_saldo</th>\n",
       "      <th>Target</th>\n",
       "    </tr>\n",
       "  </thead>\n",
       "  <tbody>\n",
       "    <tr>\n",
       "      <th>3</th>\n",
       "      <td>1.0</td>\n",
       "      <td>-0.966272</td>\n",
       "      <td>-0.185226</td>\n",
       "      <td>1.792993</td>\n",
       "      <td>-0.863291</td>\n",
       "      <td>-0.010309</td>\n",
       "      <td>1.247203</td>\n",
       "      <td>0.237609</td>\n",
       "      <td>0.377436</td>\n",
       "      <td>-1.387024</td>\n",
       "      <td>-0.054952</td>\n",
       "      <td>-0.226487</td>\n",
       "      <td>0.178228</td>\n",
       "      <td>0.507757</td>\n",
       "      <td>-0.287924</td>\n",
       "      <td>-0.631418</td>\n",
       "      <td>-1.059647</td>\n",
       "      <td>-0.684093</td>\n",
       "      <td>1.965775</td>\n",
       "      <td>-1.232622</td>\n",
       "      <td>-0.208038</td>\n",
       "      <td>-0.1083</td>\n",
       "      <td>0.005274</td>\n",
       "      <td>-0.190321</td>\n",
       "      <td>-1.175575</td>\n",
       "      <td>0.647376</td>\n",
       "      <td>-0.221929</td>\n",
       "      <td>0.062723</td>\n",
       "      <td>0.061458</td>\n",
       "      <td>123.5</td>\n",
       "      <td>0</td>\n",
       "    </tr>\n",
       "  </tbody>\n",
       "</table>\n",
       "</div>"
      ],
      "text/plain": [
       "   Timestamp      pais    cidade    bairro       cep        ip       dia  \\\n",
       "3        1.0 -0.966272 -0.185226  1.792993 -0.863291 -0.010309  1.247203   \n",
       "\n",
       "       hora    minuto        so     valor  antecedentes  reclamacoes  \\\n",
       "3  0.237609  0.377436 -1.387024 -0.054952     -0.226487     0.178228   \n",
       "\n",
       "   qtd_trans       crt  limite_global  tipo_crt  estabelecimento    contas  \\\n",
       "3   0.507757 -0.287924      -0.631418 -1.059647        -0.684093  1.965775   \n",
       "\n",
       "   emprestimos  navegador  android       ios   compras  hist_navegacao  \\\n",
       "3    -1.232622  -0.208038  -0.1083  0.005274 -0.190321       -1.175575   \n",
       "\n",
       "   relacionamento  ind_seguranca  tempo_transacao   lim_crt  hist_saldo  \\\n",
       "3        0.647376      -0.221929         0.062723  0.061458       123.5   \n",
       "\n",
       "   Target  \n",
       "3       0  "
      ]
     },
     "execution_count": 143,
     "metadata": {},
     "output_type": "execute_result"
    }
   ],
   "source": [
    "df.iloc[3:4]"
   ]
  },
  {
   "cell_type": "code",
   "execution_count": 144,
   "id": "3e1c4de4",
   "metadata": {
    "ExecuteTime": {
     "end_time": "2023-05-13T14:31:21.743614Z",
     "start_time": "2023-05-13T14:31:21.691623Z"
    }
   },
   "outputs": [
    {
     "data": {
      "text/html": [
       "<div>\n",
       "<style scoped>\n",
       "    .dataframe tbody tr th:only-of-type {\n",
       "        vertical-align: middle;\n",
       "    }\n",
       "\n",
       "    .dataframe tbody tr th {\n",
       "        vertical-align: top;\n",
       "    }\n",
       "\n",
       "    .dataframe thead th {\n",
       "        text-align: right;\n",
       "    }\n",
       "</style>\n",
       "<table border=\"1\" class=\"dataframe\">\n",
       "  <thead>\n",
       "    <tr style=\"text-align: right;\">\n",
       "      <th></th>\n",
       "      <th>Timestamp</th>\n",
       "      <th>pais</th>\n",
       "      <th>cidade</th>\n",
       "      <th>bairro</th>\n",
       "      <th>cep</th>\n",
       "      <th>ip</th>\n",
       "      <th>dia</th>\n",
       "      <th>hora</th>\n",
       "      <th>minuto</th>\n",
       "      <th>so</th>\n",
       "      <th>valor</th>\n",
       "      <th>antecedentes</th>\n",
       "      <th>reclamacoes</th>\n",
       "      <th>qtd_trans</th>\n",
       "      <th>crt</th>\n",
       "      <th>limite_global</th>\n",
       "      <th>tipo_crt</th>\n",
       "      <th>estabelecimento</th>\n",
       "      <th>contas</th>\n",
       "      <th>emprestimos</th>\n",
       "      <th>navegador</th>\n",
       "      <th>android</th>\n",
       "      <th>ios</th>\n",
       "      <th>compras</th>\n",
       "      <th>hist_navegacao</th>\n",
       "      <th>relacionamento</th>\n",
       "      <th>ind_seguranca</th>\n",
       "      <th>tempo_transacao</th>\n",
       "      <th>lim_crt</th>\n",
       "      <th>hist_saldo</th>\n",
       "    </tr>\n",
       "  </thead>\n",
       "  <tbody>\n",
       "    <tr>\n",
       "      <th>3</th>\n",
       "      <td>1.0</td>\n",
       "      <td>-0.966272</td>\n",
       "      <td>-0.185226</td>\n",
       "      <td>1.792993</td>\n",
       "      <td>-0.863291</td>\n",
       "      <td>-0.010309</td>\n",
       "      <td>1.247203</td>\n",
       "      <td>0.237609</td>\n",
       "      <td>0.377436</td>\n",
       "      <td>-1.387024</td>\n",
       "      <td>-0.054952</td>\n",
       "      <td>-0.226487</td>\n",
       "      <td>0.178228</td>\n",
       "      <td>0.507757</td>\n",
       "      <td>-0.287924</td>\n",
       "      <td>-0.631418</td>\n",
       "      <td>-1.059647</td>\n",
       "      <td>-0.684093</td>\n",
       "      <td>1.965775</td>\n",
       "      <td>-1.232622</td>\n",
       "      <td>-0.208038</td>\n",
       "      <td>-0.1083</td>\n",
       "      <td>0.005274</td>\n",
       "      <td>-0.190321</td>\n",
       "      <td>-1.175575</td>\n",
       "      <td>0.647376</td>\n",
       "      <td>-0.221929</td>\n",
       "      <td>0.062723</td>\n",
       "      <td>0.061458</td>\n",
       "      <td>123.5</td>\n",
       "    </tr>\n",
       "  </tbody>\n",
       "</table>\n",
       "</div>"
      ],
      "text/plain": [
       "   Timestamp      pais    cidade    bairro       cep        ip       dia  \\\n",
       "3        1.0 -0.966272 -0.185226  1.792993 -0.863291 -0.010309  1.247203   \n",
       "\n",
       "       hora    minuto        so     valor  antecedentes  reclamacoes  \\\n",
       "3  0.237609  0.377436 -1.387024 -0.054952     -0.226487     0.178228   \n",
       "\n",
       "   qtd_trans       crt  limite_global  tipo_crt  estabelecimento    contas  \\\n",
       "3   0.507757 -0.287924      -0.631418 -1.059647        -0.684093  1.965775   \n",
       "\n",
       "   emprestimos  navegador  android       ios   compras  hist_navegacao  \\\n",
       "3    -1.232622  -0.208038  -0.1083  0.005274 -0.190321       -1.175575   \n",
       "\n",
       "   relacionamento  ind_seguranca  tempo_transacao   lim_crt  hist_saldo  \n",
       "3        0.647376      -0.221929         0.062723  0.061458       123.5  "
      ]
     },
     "execution_count": 144,
     "metadata": {},
     "output_type": "execute_result"
    }
   ],
   "source": [
    "# Dados\n",
    "df_simulacao = df.iloc[3:4].drop(columns=['Target'])\n",
    "df_simulacao"
   ]
  },
  {
   "cell_type": "code",
   "execution_count": 145,
   "id": "5d5f4e6e",
   "metadata": {
    "ExecuteTime": {
     "end_time": "2023-05-13T14:31:22.635605Z",
     "start_time": "2023-05-13T14:31:22.576618Z"
    }
   },
   "outputs": [],
   "source": [
    "dados_simulacao = df_simulacao.values\n",
    "previsao = modelo_load.predict(dados_simulacao)"
   ]
  },
  {
   "cell_type": "code",
   "execution_count": 146,
   "id": "e9dd9d6d",
   "metadata": {
    "ExecuteTime": {
     "end_time": "2023-05-13T14:31:23.446062Z",
     "start_time": "2023-05-13T14:31:23.432074Z"
    }
   },
   "outputs": [
    {
     "data": {
      "text/plain": [
       "array([0], dtype=int64)"
      ]
     },
     "execution_count": 146,
     "metadata": {},
     "output_type": "execute_result"
    }
   ],
   "source": [
    "# Previsão\n",
    "previsao"
   ]
  },
  {
   "cell_type": "code",
   "execution_count": 147,
   "id": "3b9440d4",
   "metadata": {
    "ExecuteTime": {
     "end_time": "2023-05-13T14:31:25.394681Z",
     "start_time": "2023-05-13T14:31:25.343728Z"
    }
   },
   "outputs": [
    {
     "name": "stdout",
     "output_type": "stream",
     "text": [
      "Probabilidade de classe 0: 99.98%\n",
      "Probabilidade de classe 1: 0.02%\n"
     ]
    }
   ],
   "source": [
    "# Probabilidade\n",
    "probs = modelo_load.predict_proba(dados_simulacao)\n",
    "prob_0 = probs[0][0] * 100\n",
    "prob_1 = probs[0][1] * 100\n",
    "print(f'Probabilidade de classe 0: {prob_0:.2f}%')\n",
    "print(f'Probabilidade de classe 1: {prob_1:.2f}%')"
   ]
  },
  {
   "cell_type": "code",
   "execution_count": 148,
   "id": "65f31efe",
   "metadata": {
    "ExecuteTime": {
     "end_time": "2023-05-13T14:31:31.760873Z",
     "start_time": "2023-05-13T14:31:31.748880Z"
    }
   },
   "outputs": [
    {
     "data": {
      "text/plain": [
       "array([0, 1], dtype=int64)"
      ]
     },
     "execution_count": 148,
     "metadata": {},
     "output_type": "execute_result"
    }
   ],
   "source": [
    "modelo_load.classes_"
   ]
  },
  {
   "cell_type": "markdown",
   "id": "5979cfa4",
   "metadata": {},
   "source": [
    "**Nota:**\n",
    "\n",
    "- 0 = transação bancária não é fraudulenta\n",
    "- 1 = transação bancária é fraudulenta\n",
    "\n",
    "<p>O algoritmo classificou 99.98% de certeza que essa transação bancária não é fraudulenta.</p>"
   ]
  },
  {
   "cell_type": "markdown",
   "id": "1a37dfbe",
   "metadata": {},
   "source": [
    "# <font color='red'> 10 - INSIGHTS"
   ]
  },
  {
   "cell_type": "markdown",
   "id": "39e1fa1c",
   "metadata": {},
   "source": [
    "**Resumo dos insights durante análise exploratória de dados (EDA):**\n",
    "\n",
    "1. A presença de valores negativos para transações fraudulentas sugere que essas transações envolvem reembolsos, devoluções, chargebacks ou outras operações semelhantes que resultam em um valor negativo.\n",
    "\n",
    "2. O terceiro quartil (75%) é 1 para transações fraudulentas, o que indica que pelo menos 75% das observações fraudulentas envolvem um empréstimo concedido à conta bancária.\n",
    "\n",
    "3. O fato de que o valor máximo para transações não fraudulentas é maior do que para transações fraudulentas pode indicar que a conta bancária em questão é usada com mais frequência para transações legítimas, mas ainda pode haver casos em que a atividade é suspeita. É importante considerar outros fatores além do número de compras realizadas ao analisar a suspeita de fraude em transações bancárias."
   ]
  },
  {
   "cell_type": "markdown",
   "id": "3dfde9ad",
   "metadata": {},
   "source": [
    "# <font color='red'> 11 - PRÓXIMOS PASSOS"
   ]
  },
  {
   "cell_type": "markdown",
   "id": "a5cbf39a",
   "metadata": {},
   "source": [
    "- Implementar o método de Threshold que é uma técnica utilizada para ajustar a probabilidade de predições em modelos de classificação binária.\n",
    "    - Por exemplo: se o threshold for 0.5, todas as amostras com probabilidade maior ou igual a 0.5 serão classificadas como pertencentes à classe positiva e as demais como pertencentes à classe negativa. No entanto, o valor do threshold pode ser ajustado para alterar o trade-off entre precisão e recall do modelo."
   ]
  },
  {
   "cell_type": "code",
   "execution_count": null,
   "id": "07b48e93",
   "metadata": {},
   "outputs": [],
   "source": []
  }
 ],
 "metadata": {
  "kernelspec": {
   "display_name": "Python 3 (ipykernel)",
   "language": "python",
   "name": "python3"
  },
  "language_info": {
   "codemirror_mode": {
    "name": "ipython",
    "version": 3
   },
   "file_extension": ".py",
   "mimetype": "text/x-python",
   "name": "python",
   "nbconvert_exporter": "python",
   "pygments_lexer": "ipython3",
   "version": "3.9.12"
  }
 },
 "nbformat": 4,
 "nbformat_minor": 5
}
